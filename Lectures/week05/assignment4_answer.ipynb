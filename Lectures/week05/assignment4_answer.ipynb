{
 "cells": [
  {
   "cell_type": "code",
   "execution_count": 3,
   "metadata": {},
   "outputs": [],
   "source": [
    "# 1.a\n",
    "import glob\n",
    "import numpy as np\n",
    "fnames = glob.glob(\"./data/inf*.csv\")"
   ]
  },
  {
   "cell_type": "code",
   "execution_count": 4,
   "metadata": {},
   "outputs": [],
   "source": [
    "# 1.b\n",
    "dt = np.loadtxt(fnames[0], delimiter = ',')"
   ]
  },
  {
   "cell_type": "code",
   "execution_count": 5,
   "metadata": {},
   "outputs": [],
   "source": [
    "# 1.c\n",
    "\n",
    "def patient_summary(data, operation):\n",
    "    # TODO: specify the axis, 0 or 1\n",
    "    ax = 1\n",
    "    \n",
    "    # TODO: fill in the rest of the if(and or elif/else) statements\n",
    "    if operation == 'mean':\n",
    "        summary_values = data.mean(axis=ax)\n",
    "    elif operation == 'max':\n",
    "        summary_values = data.max(axis=ax)\n",
    "    elif operation == 'min':\n",
    "        summary_values = data.min(axis=ax)\n",
    "\n",
    "    return summary_values"
   ]
  },
  {
   "cell_type": "code",
   "execution_count": 19,
   "metadata": {},
   "outputs": [
    {
     "name": "stdout",
     "output_type": "stream",
     "text": [
      "60\n"
     ]
    }
   ],
   "source": [
    "dt_min = patient_summary(dt, 'min')\n",
    "print(len(dt_min))"
   ]
  },
  {
   "cell_type": "code",
   "execution_count": 5,
   "metadata": {},
   "outputs": [],
   "source": [
    "# 1.d\n",
    "def check_zeros(x):\n",
    "    '''\n",
    "    Given an array, x, check whether any values in x equal 0.\n",
    "    Return True if any values found, else returns False.\n",
    "    '''\n",
    "    # np.where() checks every value in x against the condition (x == 0) \n",
    "    # and returns a tuple of indices where it was True (i.e. x was 0)\n",
    "    flag = np.where(x == 0)[0] \n",
    "    \n",
    "    # We can check if there are any objects in flag (i.e. not empty)\n",
    "    # If not empty, it found at least one zero, so flag is True. And vice-versa.\n",
    "    flag = len(flag) > 0\n",
    "    \n",
    "    return flag"
   ]
  },
  {
   "cell_type": "code",
   "execution_count": 7,
   "metadata": {},
   "outputs": [
    {
     "name": "stdout",
     "output_type": "stream",
     "text": [
      "False\n",
      "False\n",
      "True\n",
      "False\n",
      "False\n",
      "False\n",
      "False\n",
      "True\n",
      "False\n",
      "False\n",
      "True\n",
      "False\n"
     ]
    }
   ],
   "source": [
    "for filename in fnames:\n",
    "    dt = np.loadtxt(filename, delimiter = ',')\n",
    "    dt_mean = patient_summary(dt, 'mean')\n",
    "    Bool_array = check_zeros(dt_mean)\n",
    "    print(Bool_array)"
   ]
  },
  {
   "cell_type": "code",
   "execution_count": 1,
   "metadata": {},
   "outputs": [],
   "source": [
    "# 2.a, b, c\n",
    "\n",
    "\n",
    "class Experiment:\n",
    "    \n",
    "    study = 'arthritis'\n",
    "    experimenter = 'Dr. Aria'\n",
    "    \n",
    "    def __init__(self, session_no):\n",
    "        self.session_no = session_no\n",
    "        self.data = None\n",
    "        self.filename = None #optional: if we like to save the data filename that is loaded for each experiment opbject\n",
    "\n",
    "    def add_data(self, fname):\n",
    "        self.filename = fname \n",
    "        dt = np.loadtxt(fname, delimiter=',')\n",
    "        self.data = dt\n",
    "        \n",
    "    def patient_summary(self, operation):\n",
    "        # TODO: specify the axis, 0 or 1\n",
    "        ax = 1\n",
    "        data = self.data\n",
    "        # TODO: fill in the rest of the if(and or elif/else) statements\n",
    "        if operation == 'mean':\n",
    "            summary_values = data.mean(axis=ax)\n",
    "        elif operation == 'max':\n",
    "            summary_values = data.max(axis=ax)\n",
    "        elif operation == 'min':\n",
    "            summary_values = data.min(axis=ax)\n",
    "\n",
    "        return summary_values\n",
    "    \n",
    "    "
   ]
  },
  {
   "cell_type": "code",
   "execution_count": 9,
   "metadata": {},
   "outputs": [],
   "source": [
    "# optional: we can invesigate how to work with the class\n",
    "# initialize an object for exepriment 1\n",
    "subject1 = Experiment(1)"
   ]
  },
  {
   "cell_type": "code",
   "execution_count": 12,
   "metadata": {},
   "outputs": [],
   "source": [
    "# load the first data set into the object\n",
    "subject1.add_data(fnames[0])"
   ]
  },
  {
   "cell_type": "code",
   "execution_count": 13,
   "metadata": {},
   "outputs": [
    {
     "data": {
      "text/plain": [
       "'./data\\\\inflammation-01.csv'"
      ]
     },
     "execution_count": 13,
     "metadata": {},
     "output_type": "execute_result"
    }
   ],
   "source": [
    "subject1.filename"
   ]
  },
  {
   "cell_type": "code",
   "execution_count": 12,
   "metadata": {},
   "outputs": [
    {
     "data": {
      "text/plain": [
       "array([ 0.,  0.,  1.,  3.,  1.,  2.,  4.,  7.,  8.,  3.,  3.,  3., 10.,\n",
       "        5.,  7.,  4.,  7.,  7., 12., 18.,  6., 13., 11., 11.,  7.,  7.,\n",
       "        4.,  6.,  8.,  8.,  4.,  4.,  5.,  7.,  3.,  4.,  2.,  3.,  0.,\n",
       "        0.])"
      ]
     },
     "execution_count": 12,
     "metadata": {},
     "output_type": "execute_result"
    }
   ],
   "source": [
    "# check one row of the data\n",
    "subject1.data[0]"
   ]
  },
  {
   "cell_type": "code",
   "execution_count": 42,
   "metadata": {},
   "outputs": [
    {
     "data": {
      "text/plain": [
       "array([18., 18., 19., 17., 17., 18., 17., 20., 17., 18., 18., 18., 17.,\n",
       "       16., 17., 18., 19., 19., 17., 19., 19., 16., 17., 15., 17., 17.,\n",
       "       18., 17., 20., 17., 16., 19., 15., 15., 19., 17., 16., 17., 19.,\n",
       "       16., 18., 19., 16., 19., 18., 16., 19., 15., 16., 18., 14., 20.,\n",
       "       17., 15., 17., 16., 17., 19., 18., 18.])"
      ]
     },
     "execution_count": 42,
     "metadata": {},
     "output_type": "execute_result"
    }
   ],
   "source": [
    "# check some methods\n",
    "subject1.patient_summary('max')"
   ]
  },
  {
   "cell_type": "code",
   "execution_count": 20,
   "metadata": {},
   "outputs": [
    {
     "name": "stdout",
     "output_type": "stream",
     "text": [
      "./data\\inflammation-03.csv\n",
      "./data\\inflammation-08.csv\n",
      "./data\\inflammation-11.csv\n"
     ]
    }
   ],
   "source": [
    "# 2.d\n",
    "session_counter = 1\n",
    "\n",
    "for f in fnames: # iterate over data files\n",
    "    exp = Experiment(session_counter) # create an instance of our experiment and give it a session_no\n",
    "    exp.add_data(f) # read in our data to our experiment\n",
    "    values = exp.patient_summary(\"mean\") # get our patient means\n",
    "    if check_zeros(values): # check whether any 0s in our means\n",
    "        print(f) # print filename\n",
    "        \n",
    "    session_counter += 1 # increment our counter to the next session number\n",
    "    \n",
    "    "
   ]
  },
  {
   "cell_type": "code",
   "execution_count": null,
   "metadata": {},
   "outputs": [],
   "source": []
  }
 ],
 "metadata": {
  "kernelspec": {
   "display_name": "Python 3",
   "language": "python",
   "name": "python3"
  },
  "language_info": {
   "codemirror_mode": {
    "name": "ipython",
    "version": 3
   },
   "file_extension": ".py",
   "mimetype": "text/x-python",
   "name": "python",
   "nbconvert_exporter": "python",
   "pygments_lexer": "ipython3",
   "version": "3.7.4"
  }
 },
 "nbformat": 4,
 "nbformat_minor": 4
}
