{
 "cells": [
  {
   "cell_type": "markdown",
   "metadata": {},
   "source": [
    "# Object Oriented Programming \n",
    "\n",
    "## Lesson Objectives\n",
    "- to give an overview of object oriented programming in Python so that students can:\n",
    "    - recognize the basic elements of OOP: classes, objects, instance methods, attributes \n",
    "    - Understand and review scripts that use OOP\n",
    "    - learn to write simple OOP\n",
    "        - create a class\n",
    "        - define methods within classes\n",
    "        - instantiate objects\n"
   ]
  },
  {
   "cell_type": "markdown",
   "metadata": {},
   "source": [
    "Python is an object-oriented language. Object Oriented Programming is an approach to programming in which properties and behaviors are bundled into individual `objects`.\n",
    "\n",
    "In the real world, an object has some properties and functions, e.g. a car has properties (color, model, engine type, etc.) and functions (it can move, speed up, brake, etc.) or an email has recipient list, subject, body, etc., and behaviors like adding attachments and sending; or a person who has name, height, weight, address and can walk, talk, laugh, etc. \n",
    "\n",
    "We can have the same approach in desigining programs based on objects that represent both properties and functions that can be applied to those properties. This can be thought of as calling for logical consistency, i.e. variables and functions may be grouped together because they are connected under a logical unit. If you have data and functions which can be combined logically, then they should be encapsulated in a `class`.\n",
    "\n",
    "As we briefly mentioned in the previous session, we have been already using the OOP paradigm when accessing attributes of lists for example, or functions (aka methods) from numpy. Let's learn more:\n",
    "\n",
    "## Classes and Objects\n",
    "**Classes** are a template to create new objects of a certain type. It is a data structure that allows the user to specify the properties and functions needed to create this type of object. In Python, class properties are called `attributes` and class functions are called `methods`. \n",
    "\n",
    "**Objects** are **instances** of a specific **class**. e.g. if each *person* is an _instance_ of the *human beings* class, then Mana who is 170 cm tall and has dark hair is an instance of human() class. \n",
    "\n",
    "In summary:\n",
    "- A `class` provides the blueprint or structure to create an object\n",
    "- an `object` is an instance of a class which has: \n",
    "    - properties, that are called **attributes**\n",
    "    - functions, that are called **methods**\n",
    "\n",
    "### Defining a class in Python\n",
    "Unsuprisingly, a class is defined by the keyword `class`. \n",
    "\n",
    "For example, a very basic class (named `MyClass`) with one attribute (named `variable`) and one method (named `function`) can be defined like this:"
   ]
  },
  {
   "cell_type": "code",
   "execution_count": 131,
   "metadata": {},
   "outputs": [],
   "source": [
    "class MyClass:\n",
    "    variable = \"something\"\n",
    "\n",
    "    def function(self):\n",
    "        print(\"Printing this message is the only function of this class\")"
   ]
  },
  {
   "cell_type": "markdown",
   "metadata": {},
   "source": [
    "We will explain the `self` shortly, but first let's see how we create a new object of this class, which is called **instantiating an object**."
   ]
  },
  {
   "cell_type": "code",
   "execution_count": 132,
   "metadata": {},
   "outputs": [],
   "source": [
    "myobject = MyClass() # now myobject is an instance of MyClass and contains both the variable and the function for that class"
   ]
  },
  {
   "cell_type": "code",
   "execution_count": 133,
   "metadata": {},
   "outputs": [
    {
     "name": "stdout",
     "output_type": "stream",
     "text": [
      "Printing this message is the only function of this class\n"
     ]
    },
    {
     "data": {
      "text/plain": [
       "'something'"
      ]
     },
     "execution_count": 133,
     "metadata": {},
     "output_type": "execute_result"
    }
   ],
   "source": [
    "# try pressing the tab after typing \"myobject.\" to see what attributes and methods are available\n",
    "myobject.function() \n",
    "myobject.variable"
   ]
  },
  {
   "cell_type": "markdown",
   "metadata": {},
   "source": [
    "Let's work with a more meaningful example. Assume we want to file the experimental subjects of an ongoing study on migraines: \n",
    "\n",
    "We want to define a class called `Subject` with attributes such as study name, experimenter name, ID, first name, last name, date of admission and a function that will just print out the full name of the subject. \n",
    "Suppose we want to create two objects: \n",
    "\n",
    "| ID | fname | lname | date_of_admission |\n",
    "|------|------|------|------|\n",
    "| 111  |Jane |Doe | 2019_01_01 |\n",
    "| 112  |John | Smith | 2019_01_09 |"
   ]
  },
  {
   "cell_type": "code",
   "execution_count": 134,
   "metadata": {},
   "outputs": [],
   "source": [
    "# first we need to define a class. \n",
    "# If you want to create an empty class at first, you use the command \"pass\" inside the class, \n",
    "# because otherwise Python expects you to type something there\n",
    "class Subject:  \n",
    "    pass  "
   ]
  },
  {
   "cell_type": "code",
   "execution_count": 135,
   "metadata": {},
   "outputs": [],
   "source": [
    "# We want the Class to have attributes: fname, lname, ID, and data_of_admission. \n",
    "# we create the two instances and call them S1 and S2\n",
    "S1 = Subject()\n",
    "S1.fname = \"Jane\"\n",
    "S1.lname = \"Doe\"\n",
    "S1.ID = 111\n",
    "S1.date_of_admission = \"2019_01_01\"\n",
    "\n",
    "S2 = Subject()\n",
    "S2.fname = \"John\"\n",
    "S2.lname = \"Smith\"\n",
    "S2.ID = 112\n",
    "S2.date_of_admission = \"2019_01_09\""
   ]
  },
  {
   "cell_type": "code",
   "execution_count": 136,
   "metadata": {},
   "outputs": [
    {
     "name": "stdout",
     "output_type": "stream",
     "text": [
      "Jane Doe\n"
     ]
    }
   ],
   "source": [
    "# you can use these objects in any form. Let's say we want to bring up some info about subject 1\n",
    "print(S1.fname,S1.lname)"
   ]
  },
  {
   "cell_type": "markdown",
   "metadata": {},
   "source": [
    "We can define a method in this class to print the full name. \n",
    "Let's rewrite the class and then run the same code as above to create the two objects again:"
   ]
  },
  {
   "cell_type": "code",
   "execution_count": 137,
   "metadata": {},
   "outputs": [],
   "source": [
    "class Subject:\n",
    "    def fullname(self):\n",
    "        print(self.fname,self.lname)"
   ]
  },
  {
   "cell_type": "markdown",
   "metadata": {},
   "source": [
    "You probably now appreciate the use of `self`. Since the two instances have different names S1 and S2, we need a general term like `self` to represent both of them. The job of `self` is to link any instance name with the Class and play the role of that instance name inside the class. "
   ]
  },
  {
   "cell_type": "code",
   "execution_count": 138,
   "metadata": {},
   "outputs": [],
   "source": [
    "# since we rewrote the class, we have to fill in the attributes again\n",
    "# otherwise, they will not have access to the new method fullname\n",
    "S1 = Subject()\n",
    "S1.fname = \"Jane\"\n",
    "S1.lname = \"Doe\"\n",
    "S1.ID = 111\n",
    "S1.date_of_admission = \"2019_01_01\"\n",
    "\n",
    "S2 = Subject()\n",
    "S2.fname = \"John\"\n",
    "S2.lname = \"Smith\"\n",
    "S2.ID = 112\n",
    "S2.date_of_admission = \"2019_01_09\""
   ]
  },
  {
   "cell_type": "markdown",
   "metadata": {},
   "source": [
    "Now if we look at the objects it has a method + the attributes: "
   ]
  },
  {
   "cell_type": "code",
   "execution_count": 139,
   "metadata": {},
   "outputs": [
    {
     "name": "stdout",
     "output_type": "stream",
     "text": [
      "John Smith\n"
     ]
    }
   ],
   "source": [
    "S2.fullname()"
   ]
  },
  {
   "cell_type": "markdown",
   "metadata": {},
   "source": [
    "## Constructor i.e. the `__init__()` method\n",
    "\n",
    "You might be thinking the above approach seems inefficient and you are right. We don't want to repeatedly filli in the attributes individually, both boring and prone to typos.\n",
    "\n",
    "We actually don't need to. We can use a *constructor* to pass the attributes needed when initializing/instantiating a new unique instance of a class.\n",
    "Define an `__init__()` method which requires at least one other argument (as well as `self`). \n",
    "\n",
    "Note that it allows you to take data from the arguments passed and set attributes for that instance based on the data. It's up to you to decide what information you'd like to store and make accessible in your object."
   ]
  },
  {
   "cell_type": "code",
   "execution_count": 140,
   "metadata": {},
   "outputs": [],
   "source": [
    "class Subject: \n",
    "    def __init__(self,fname,lname,ID,date_of_admission):\n",
    "        self.fname = fname\n",
    "        self.lname = lname\n",
    "        self.full_name = fname + ' ' + lname # notice that we can perform operations to create new attributes from the arguments passed\n",
    "        self.ID = ID\n",
    "        self.date_of_admission = date_of_admission\n",
    "        \n",
    "    def fullname(self):\n",
    "        print(self.full_name)\n",
    "    "
   ]
  },
  {
   "cell_type": "markdown",
   "metadata": {},
   "source": [
    "We can use this to fill in attributes for new objects of a class all at once, at the time of instantiation, by passing in the data in the correct order when the object is created. \n",
    "\n",
    "**Note:** We never actually have to call `__init__()`. If we defined an `__init__()` function, it is done automatically when creating a new object."
   ]
  },
  {
   "cell_type": "code",
   "execution_count": 141,
   "metadata": {},
   "outputs": [],
   "source": [
    "# let's fill in the same subjects' info \n",
    "S1 = Subject(\"Jane\",\"Doe\",111,\"2019_01_01\")\n",
    "S2 = Subject(\"John\",\"Smith\",112,\"2019_01_02\")"
   ]
  },
  {
   "cell_type": "code",
   "execution_count": 142,
   "metadata": {},
   "outputs": [
    {
     "name": "stdout",
     "output_type": "stream",
     "text": [
      "Jane Doe\n"
     ]
    }
   ],
   "source": [
    "# now the method 'fullname' should give the same info as before:\n",
    "S1.fullname()"
   ]
  },
  {
   "cell_type": "markdown",
   "metadata": {},
   "source": [
    "As we learned by this example, the __init__ method is the initializer that you can later use to instantiate objects."
   ]
  },
  {
   "cell_type": "markdown",
   "metadata": {},
   "source": [
    "## Challenge 1\n",
    "\n",
    "1. Define a `Cat` class along with a constructor that initializes each object with the following attributes:\n",
    "    - name\n",
    "    - eye_color\n",
    "    - hair_type\n",
    "    - behaviour\n",
    "    - price\n",
    "\n",
    "2. Also include the following method definition in your `Cat` class:\n",
    "```\n",
    "def description(self):\n",
    "        desc_str = f\"{self.name} is a {self.eye_color}-eyed {self.behaviour} cat with {self.hair_type} worth {self.price}.\"\n",
    "        return desc_str\n",
    "```\n",
    "*Side note: the above uses \"f-string\", a type of string formatting in Python which is a quick and efficient way to build up strings that make use of variables or expressions without having to add them together manually as we have in the past (e.g. self.name + \" is a \" + self.eye_color + ...). [Read more here](https://docs.python.org/3/reference/lexical_analysis.html#f-strings)*\n",
    "\n",
    "3. Create two instances with: \n",
    "    - cat_1: Russian Blue, green eyes, reserved, short coat, price: 1000.0 CAD\n",
    "    - cat_2: Birman, blue eyes, cuddly, long hair, price: 600.0 CAD\n",
    "\n",
    "4. Try calling the `description()` method on both `cat_1` and `cat_2`.\n"
   ]
  },
  {
   "cell_type": "markdown",
   "metadata": {},
   "source": [
    "## Relationships between objects\n",
    "\n",
    "We can have relationships between sets of objects. All the attributes and methods of the relative are accessible through the object: "
   ]
  },
  {
   "cell_type": "code",
   "execution_count": 143,
   "metadata": {},
   "outputs": [],
   "source": [
    "# define a feature that relates the two objects, here we can literally say relative\n",
    "S1.relatives = S2"
   ]
  },
  {
   "cell_type": "code",
   "execution_count": 144,
   "metadata": {},
   "outputs": [
    {
     "name": "stdout",
     "output_type": "stream",
     "text": [
      "John Smith\n"
     ]
    }
   ],
   "source": [
    "S1.relatives.fullname()"
   ]
  },
  {
   "cell_type": "markdown",
   "metadata": {},
   "source": [
    "## Class attributes, Class methods, and inheritance \n",
    "\n",
    "So far we have learned how to create a class and its instances, as well as to define and access an objects attributes and methods. Let's learn a few more features so that if we encounter them while reviewing a collaborator's script or an open-source code, we understand what's going on. \n",
    "\n",
    "Let's work with another example, programing for a bank. \n",
    "\n",
    "Let's define a class called *Client* in which a new instance stores a client's name, balance, and uses this information to determine the account level."
   ]
  },
  {
   "cell_type": "code",
   "execution_count": 145,
   "metadata": {},
   "outputs": [],
   "source": [
    "class Client:\n",
    "    def __init__(self, name, balance):\n",
    "        self.name = name\n",
    "        self.balance = balance + 100 # there is a $100 bonus for new sign-ups\n",
    "        \n",
    "        # define account level\n",
    "        if self.balance < 5000:\n",
    "            self.level = \"Basic\"\n",
    "        elif self.balance < 15000:\n",
    "            self.level = \"Intermediate\"\n",
    "        else:\n",
    "            self.level = \"Advanced\""
   ]
  },
  {
   "cell_type": "markdown",
   "metadata": {},
   "source": [
    "Now, lets try creating some new clients named John_Doe, and Jane_Defoe.\n"
   ]
  },
  {
   "cell_type": "code",
   "execution_count": 146,
   "metadata": {},
   "outputs": [],
   "source": [
    "c1 = Client(\"John Doe\", 500)\n",
    "c2 = Client(\"Jane Defoe\", 150000)"
   ]
  },
  {
   "cell_type": "markdown",
   "metadata": {},
   "source": [
    "We can see the attributes of John_Doe, or Jane_Defoe by calling them as we did before:"
   ]
  },
  {
   "cell_type": "code",
   "execution_count": 147,
   "metadata": {},
   "outputs": [
    {
     "name": "stdout",
     "output_type": "stream",
     "text": [
      "John Doe\n",
      "Advanced\n",
      "150100\n"
     ]
    }
   ],
   "source": [
    "print(c1.name)\n",
    "print(c2.level)\n",
    "print(c2.balance)"
   ]
  },
  {
   "cell_type": "markdown",
   "metadata": {},
   "source": [
    "We can also add, remove or modify attributes as we like:"
   ]
  },
  {
   "cell_type": "code",
   "execution_count": 148,
   "metadata": {},
   "outputs": [],
   "source": [
    "c1.email = \"jdoe@email.com\"\n",
    "c2.email = \"jdefoe23@email.com\""
   ]
  },
  {
   "cell_type": "code",
   "execution_count": 149,
   "metadata": {},
   "outputs": [
    {
     "data": {
      "text/plain": [
       "'jdoe@email.com'"
      ]
     },
     "execution_count": 149,
     "metadata": {},
     "output_type": "execute_result"
    }
   ],
   "source": [
    "c1.email"
   ]
  },
  {
   "cell_type": "code",
   "execution_count": 150,
   "metadata": {},
   "outputs": [],
   "source": [
    "# if you wanted to delete an attribute\n",
    "del c1.email"
   ]
  },
  {
   "cell_type": "code",
   "execution_count": 151,
   "metadata": {},
   "outputs": [
    {
     "ename": "AttributeError",
     "evalue": "'Client' object has no attribute 'email'",
     "output_type": "error",
     "traceback": [
      "\u001b[0;31m---------------------------------------------------------------------------\u001b[0m",
      "\u001b[0;31mAttributeError\u001b[0m                            Traceback (most recent call last)",
      "\u001b[0;32m<ipython-input-151-274a67b6616f>\u001b[0m in \u001b[0;36m<module>\u001b[0;34m()\u001b[0m\n\u001b[1;32m      1\u001b[0m \u001b[0;31m# we get an \"AttributeError\" because 'email' no longer exists for c1\u001b[0m\u001b[0;34m\u001b[0m\u001b[0;34m\u001b[0m\u001b[0m\n\u001b[0;32m----> 2\u001b[0;31m \u001b[0mc1\u001b[0m\u001b[0;34m.\u001b[0m\u001b[0memail\u001b[0m\u001b[0;34m\u001b[0m\u001b[0m\n\u001b[0m",
      "\u001b[0;31mAttributeError\u001b[0m: 'Client' object has no attribute 'email'"
     ]
    }
   ],
   "source": [
    "# we get an \"AttributeError\" because 'email' no longer exists for c1\n",
    "c1.email"
   ]
  },
  {
   "cell_type": "markdown",
   "metadata": {},
   "source": [
    "### Class Attributes\n",
    "\n",
    "A class attribute is an attribute set at the class-level rather than the instance-level, such that the value of this attribute will be the same across all instances.\n",
    "\n",
    "For our *Client* class, we might want to set the name of the bank, and the location, which would not change from instance to instance."
   ]
  },
  {
   "cell_type": "code",
   "execution_count": 124,
   "metadata": {},
   "outputs": [],
   "source": [
    "class Client:\n",
    "    bank = \"Branch 001\"\n",
    "    location = \"Toronto, ON\"\n",
    "    \n",
    "    def __init__(self, name, balance):\n",
    "        self.name = name\n",
    "        self.balance = balance + 100 # there is a $100 bonus for new sign-ups\n",
    "        \n",
    "        # define account level\n",
    "        if self.balance < 5000:\n",
    "            self.level = \"Basic\"\n",
    "        elif self.balance < 15000:\n",
    "            self.level = \"Intermediate\"\n",
    "        else:\n",
    "            self.level = \"Advanced\""
   ]
  },
  {
   "cell_type": "code",
   "execution_count": 93,
   "metadata": {},
   "outputs": [],
   "source": [
    "c1 = Client(\"John Doe\", 500)\n",
    "c2 = Client(\"Jane Defoe\", 150000)"
   ]
  },
  {
   "cell_type": "code",
   "execution_count": null,
   "metadata": {},
   "outputs": [],
   "source": []
  },
  {
   "cell_type": "markdown",
   "metadata": {},
   "source": [
    "### More on Methods"
   ]
  },
  {
   "cell_type": "markdown",
   "metadata": {},
   "source": [
    "In the case of our 'Client' class, we may want to update a person's bank account once they withdraw or deposit money. Let's create these methods below."
   ]
  },
  {
   "cell_type": "code",
   "execution_count": 79,
   "metadata": {},
   "outputs": [],
   "source": [
    "# Use the Client class code above to now add methods for withdrawal and depositing of money\n",
    "class Client:\n",
    "    bank = \"Branch 001\"\n",
    "    location = \"Toronto, ON\"\n",
    "    \n",
    "    def __init__(self, name, balance):\n",
    "        self.name = name\n",
    "        self.balance = balance + 100\n",
    "        \n",
    "        #define account level\n",
    "        if self.balance < 5000:\n",
    "            self.level = \"Basic\"\n",
    "        elif self.balance < 15000:\n",
    "            self.level = \"Intermediate\"\n",
    "        else:\n",
    "            self.level = \"Advanced\"\n",
    "            \n",
    "    def deposit(self, amount):\n",
    "        '''\n",
    "        This function adds amount deposited to self.balance and returns the updated balance.\n",
    "        '''\n",
    "        self.balance = self.balance + amount\n",
    "        return self.balance\n",
    "    \n",
    "    def withdraw(self, amount):\n",
    "        '''\n",
    "        This function subtracts amount withdrawn from self.balance and returns the updated balance.\n",
    "        Amount must be less than starting balance.\n",
    "        '''\n",
    "        if amount > self.balance:\n",
    "            print(\"Insufficient funds for withdrawal. No money withdrawn.\")\n",
    "        else:\n",
    "            self.balance = self.balance - amount\n",
    "        return self.balance\n",
    "    \n"
   ]
  },
  {
   "cell_type": "markdown",
   "metadata": {},
   "source": [
    "Let's try creating Joh Doe's account again and depositing some money."
   ]
  },
  {
   "cell_type": "code",
   "execution_count": 80,
   "metadata": {},
   "outputs": [],
   "source": [
    "C1 = Client(\"John Doe\", 500)"
   ]
  },
  {
   "cell_type": "code",
   "execution_count": 81,
   "metadata": {},
   "outputs": [
    {
     "data": {
      "text/plain": [
       "'Basic'"
      ]
     },
     "execution_count": 81,
     "metadata": {},
     "output_type": "execute_result"
    }
   ],
   "source": [
    "C1.level"
   ]
  },
  {
   "cell_type": "code",
   "execution_count": 82,
   "metadata": {
    "collapsed": false,
    "jupyter": {
     "outputs_hidden": false
    }
   },
   "outputs": [
    {
     "data": {
      "text/plain": [
       "150600"
      ]
     },
     "execution_count": 82,
     "metadata": {},
     "output_type": "execute_result"
    }
   ],
   "source": [
    "C1.deposit(150000)"
   ]
  },
  {
   "cell_type": "code",
   "execution_count": 83,
   "metadata": {},
   "outputs": [
    {
     "data": {
      "text/plain": [
       "'Basic'"
      ]
     },
     "execution_count": 83,
     "metadata": {},
     "output_type": "execute_result"
    }
   ],
   "source": [
    "C1.level"
   ]
  },
  {
   "cell_type": "markdown",
   "metadata": {},
   "source": [
    "That doesn't seem right. John's balance is now over $15 000, but his level is still \"Basic\". That's because the level is set when we first instantiate the `C1` object. To solve this, we could do the same check after every deposit or withdrawal. \n",
    "\n",
    "However, we can write this class in a more efficient way. By moving the code that sets the account level into it's own method, we can re-use the function in other places, so we don't have redundant every time we update the balance.\n",
    "\n",
    "In general, if you're performing the same operations over and over, you might want to package that code into a function/method."
   ]
  },
  {
   "cell_type": "code",
   "execution_count": 97,
   "metadata": {},
   "outputs": [],
   "source": [
    "class Client:\n",
    "    bank = \"Branch 001\"\n",
    "    location = \"Toronto, ON\"\n",
    "    \n",
    "\n",
    "    def __init__(self, name, balance):\n",
    "        self.name = name\n",
    "        self.balance = balance + 100\n",
    "        self.level = None\n",
    "        self.update_account_level()\n",
    "        \n",
    "    def update_account_level(self):\n",
    "        '''\n",
    "        Checks balance and updates account level.\n",
    "        '''\n",
    "        if self.balance < 5000: \n",
    "            self.level = \"Basic\"\n",
    "        elif self.balance < 15000:\n",
    "            self.level = \"Intermediate\"\n",
    "        else: \n",
    "            self.level = \"Advanced\"\n",
    "        \n",
    "    def deposit(self, amount):\n",
    "        '''\n",
    "        Adds amount deposited to self.balance and returns the updated balance.\n",
    "        '''\n",
    "        self.balance = self.balance + amount\n",
    "        self.update_account_level()\n",
    "            \n",
    "        return self.balance\n",
    "    \n",
    "    def withdraw(self, amount):\n",
    "        '''\n",
    "        Subtracts amount withdrawn from self.balance and returns the updated balance.\n",
    "        Amount must be less than starting balance.\n",
    "        '''\n",
    "        if amount > self.balance:\n",
    "            print(\"Insufficient funds for withdrawal. No money withdrawn.\")\n",
    "        else:\n",
    "            self.balance = self.balance - amount\n",
    "            self.update_account_level()        \n",
    "        return self.balance\n",
    "    "
   ]
  },
  {
   "cell_type": "markdown",
   "metadata": {},
   "source": [
    "Let's try depositing to John's account again and seeing if it updates his level."
   ]
  },
  {
   "cell_type": "code",
   "execution_count": 98,
   "metadata": {},
   "outputs": [],
   "source": [
    "C1 = Client(\"John Doe\", 500)"
   ]
  },
  {
   "cell_type": "code",
   "execution_count": 99,
   "metadata": {},
   "outputs": [
    {
     "data": {
      "text/plain": [
       "'Basic'"
      ]
     },
     "execution_count": 99,
     "metadata": {},
     "output_type": "execute_result"
    }
   ],
   "source": [
    "C1.level"
   ]
  },
  {
   "cell_type": "code",
   "execution_count": 100,
   "metadata": {
    "collapsed": false,
    "jupyter": {
     "outputs_hidden": false
    }
   },
   "outputs": [
    {
     "data": {
      "text/plain": [
       "150600"
      ]
     },
     "execution_count": 100,
     "metadata": {},
     "output_type": "execute_result"
    }
   ],
   "source": [
    "C1.deposit(150000)"
   ]
  },
  {
   "cell_type": "code",
   "execution_count": 101,
   "metadata": {},
   "outputs": [
    {
     "data": {
      "text/plain": [
       "'Advanced'"
      ]
     },
     "execution_count": 101,
     "metadata": {},
     "output_type": "execute_result"
    }
   ],
   "source": [
    "C1.level"
   ]
  }
 ],
 "metadata": {
  "kernelspec": {
   "display_name": "Python 3",
   "language": "python",
   "name": "python3"
  },
  "language_info": {
   "codemirror_mode": {
    "name": "ipython",
    "version": 3
   },
   "file_extension": ".py",
   "mimetype": "text/x-python",
   "name": "python",
   "nbconvert_exporter": "python",
   "pygments_lexer": "ipython3",
   "version": "3.6.2"
  }
 },
 "nbformat": 4,
 "nbformat_minor": 4
}
