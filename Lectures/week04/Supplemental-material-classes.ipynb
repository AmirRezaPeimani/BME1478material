{
 "cells": [
  {
   "cell_type": "markdown",
   "metadata": {},
   "source": [
    "# More on Classes\n",
    "\n",
    "This section is meant only as supplementary material to learn a bit more about some more functionalities of classes in Python including:\n",
    "- Static and Class Methods\n",
    "- Inheritence"
   ]
  },
  {
   "cell_type": "markdown",
   "metadata": {},
   "source": [
    "### Static Methods \n",
    "\n",
    "Static methods are methods that belong to a class but do not have access to *self* and hence don't require an instance to function (i.e. it will work on the class level as well as the instance level). \n",
    "\n",
    "We denote these with the line `@staticmethod` before we define our static method.\n",
    "\n",
    "Let's create a static method called `is_valid_transaction` that checks whether a credit to an account is valid according to the available funds. This might be useful in a number of ways as a generic function because the available funds of an account depend on a number of factors such as daily limits, pending cheque deposits and money wires. This gives a flexible function that can be used in many ways within the class or outside the class without necessarily needing access to an individual client, just the known available_funds, and the credit amount."
   ]
  },
  {
   "cell_type": "code",
   "execution_count": 113,
   "metadata": {
    "collapsed": false,
    "jupyter": {
     "outputs_hidden": false
    }
   },
   "outputs": [],
   "source": [
    "class Client:\n",
    "    bank = \"Branch 001\"\n",
    "    location = \"Toronto, ON\"\n",
    "    \n",
    "    def __init__(self, name, balance):\n",
    "        self.name = name\n",
    "        self.balance = balance + 100\n",
    "        self.level = None\n",
    "        self.update_account_level()\n",
    "        \n",
    "    def update_account_level(self):\n",
    "        '''\n",
    "        Checks balance and updates account level.\n",
    "        '''\n",
    "        if self.balance < 5000: \n",
    "            self.level = \"Basic\"\n",
    "        elif self.balance < 15000:\n",
    "            self.level = \"Intermediate\"\n",
    "        else: \n",
    "            self.level = \"Advanced\"\n",
    "        \n",
    "    def deposit(self, amount):\n",
    "        '''\n",
    "        Adds amount deposited to self.balance and returns the updated balance.\n",
    "        '''\n",
    "        self.balance = self.balance + amount\n",
    "        self.update_account_level()\n",
    "            \n",
    "        return self.balance\n",
    "    \n",
    "    def withdraw(self, amount):\n",
    "        '''\n",
    "        Subtracts amount withdrawn from self.balance and returns the updated balance.\n",
    "        Amount must be less than starting balance.\n",
    "        '''\n",
    "        if amount > self.balance:\n",
    "            print(\"Insufficient funds for withdrawal. No money withdrawn.\")\n",
    "        else:\n",
    "            self.balance = self.balance - amount\n",
    "            self.update_account_level()        \n",
    "        return self.balance\n",
    "            \n",
    "    @staticmethod\n",
    "    def is_valid_transaction(available_funds, credit):\n",
    "        '''\n",
    "        A general purpose function that checks whether a credit to the account is valid, but makes sense \"logically\" to be grouped here.  \n",
    "        i.e. does not need access to self when called, but can be useful within the context of this class.\n",
    "        '''\n",
    "        return credit < available_funds"
   ]
  },
  {
   "cell_type": "code",
   "execution_count": 114,
   "metadata": {
    "collapsed": false,
    "jupyter": {
     "outputs_hidden": false
    }
   },
   "outputs": [
    {
     "data": {
      "text/plain": [
       "False"
      ]
     },
     "execution_count": 114,
     "metadata": {},
     "output_type": "execute_result"
    }
   ],
   "source": [
    "Client.is_valid_transaction(100, 350)"
   ]
  },
  {
   "cell_type": "markdown",
   "metadata": {},
   "source": [
    "### Class Methods\n",
    "\n",
    "A class method is a type of method that will receive the class rather than the instance as the first parameter. It is also identified similarly to a static method, with `@classmethod`.\n",
    "\n",
    "Here we create a class method called `bank_information()` that will print both the bank name and location when called upon the class and create and/or update the size of the bank."
   ]
  },
  {
   "cell_type": "code",
   "execution_count": 110,
   "metadata": {},
   "outputs": [],
   "source": [
    "class Client:\n",
    "    bank = \"Branch 001\"\n",
    "    location = \"Toronto, ON\"\n",
    "    \n",
    "    def __init__(self, name, balance):\n",
    "        self.name = name\n",
    "        self.balance = balance + 100\n",
    "        self.level = None\n",
    "        self.update_account_level()\n",
    "        \n",
    "    def update_account_level(self):\n",
    "        '''\n",
    "        Checks balance and updates account level.\n",
    "        '''\n",
    "        if self.balance < 5000: \n",
    "            self.level = \"Basic\"\n",
    "        elif self.balance < 15000:\n",
    "            self.level = \"Intermediate\"\n",
    "        else: \n",
    "            self.level = \"Advanced\"\n",
    "        \n",
    "    def deposit(self, amount):\n",
    "        '''\n",
    "        Adds amount deposited to self.balance and returns the updated balance.\n",
    "        '''\n",
    "        self.balance = self.balance + amount\n",
    "        self.update_account_level()\n",
    "            \n",
    "        return self.balance\n",
    "    \n",
    "    def withdraw(self, amount):\n",
    "        '''\n",
    "        Subtracts amount withdrawn from self.balance and returns the updated balance.\n",
    "        Amount must be less than starting balance.\n",
    "        '''\n",
    "        if amount > self.balance:\n",
    "            print(\"Insufficient funds for withdrawal. No money withdrawn.\")\n",
    "        else:\n",
    "            self.balance = self.balance - amount\n",
    "            self.update_account_level()        \n",
    "        return self.balance\n",
    "            \n",
    "    @staticmethod\n",
    "    def is_valid_transaction(available_funds, credit):\n",
    "        '''\n",
    "        A general purpose function that checks whether a credit to the account is valid, but makes sense \"logically\" to be grouped here.  \n",
    "        i.e. does not need access to self when called, but can be useful within the context of this class.\n",
    "        '''\n",
    "        return credit < available_funds\n",
    "            \n",
    "    @classmethod\n",
    "    def bank_information(cls, branch_size=50):\n",
    "        '''\n",
    "        Accesses the class state (and not a specific instance) in order to print bank information. \n",
    "        It can also add or modify class attributes that will be available in all instances.\n",
    "        '''\n",
    "        cls.branch_size = branch_size\n",
    "        print(f\"{cls.bank}: {cls.location}, {cls.branch_size} clients.\")\n",
    "\n"
   ]
  },
  {
   "cell_type": "code",
   "execution_count": 112,
   "metadata": {
    "collapsed": false,
    "jupyter": {
     "outputs_hidden": false
    }
   },
   "outputs": [
    {
     "name": "stdout",
     "output_type": "stream",
     "text": [
      "Branch 001: Toronto, ON, 52 clients.\n"
     ]
    }
   ],
   "source": [
    "Client.bank_information(52)"
   ]
  },
  {
   "cell_type": "markdown",
   "metadata": {},
   "source": [
    "### Inheritance\n",
    "\n",
    "A 'child' class can be created from a 'parent' class, whereby the child will bring over attributes and methods that its parent has, but where new features can be created as well. \n",
    "\n",
    "This would be useful if you want to create multiple classes that would have some features that are kept the same between them. You would simply create a parent class of these children classes that have those maintained features.\n",
    "\n",
    "Imagine we want to create different types of clients but still have all the base attributes and methods found in client currently. \n",
    "\n",
    "For example, let's create a class called *Savings* that inherits from the *Client* class. In doing so, we do not need to write another `__init__` method as it will inherit this from its parent."
   ]
  },
  {
   "cell_type": "code",
   "execution_count": 119,
   "metadata": {},
   "outputs": [],
   "source": [
    "# create the Savings class below\n",
    "class Savings(Client):\n",
    "    interest_rate = 0.005\n",
    "    \n",
    "    def update_balance(self):\n",
    "        '''\n",
    "        Adds interest to the account and returns the updated balance.\n",
    "        '''\n",
    "        self.balance += self.balance*self.interest_rate\n",
    "        return self.balance\n"
   ]
  },
  {
   "cell_type": "code",
   "execution_count": 120,
   "metadata": {},
   "outputs": [],
   "source": [
    "# create an instance the same way as a Client but this time by calling Savings instead\n",
    "c3 = Savings(\"Tom Smith\", 50)"
   ]
  },
  {
   "cell_type": "code",
   "execution_count": 121,
   "metadata": {
    "collapsed": false,
    "jupyter": {
     "outputs_hidden": false
    }
   },
   "outputs": [
    {
     "name": "stdout",
     "output_type": "stream",
     "text": [
      "0.005\n"
     ]
    },
    {
     "data": {
      "text/plain": [
       "150.75"
      ]
     },
     "execution_count": 121,
     "metadata": {},
     "output_type": "execute_result"
    }
   ],
   "source": [
    "# it now has access to the new attributes and methods in Savings...\n",
    "print(c3.interest_rate)\n",
    "c3.update_balance()"
   ]
  },
  {
   "cell_type": "code",
   "execution_count": 123,
   "metadata": {
    "collapsed": false,
    "jupyter": {
     "outputs_hidden": false
    }
   },
   "outputs": [
    {
     "name": "stdout",
     "output_type": "stream",
     "text": [
      "Tom Smith\n",
      "150.75\n",
      "650.75\n"
     ]
    }
   ],
   "source": [
    "# ...as well as access to attributes and methods from the Client class as well\n",
    "print(c3.name)\n",
    "print(c3.balance)\n",
    "print(c3.deposit(500))\n"
   ]
  },
  {
   "cell_type": "markdown",
   "metadata": {},
   "source": [
    "# Acknowledgment \n",
    "\n",
    "parts taken from  https://github.com/UofTCoders/studyGroup/blob/gh-pages/lessons/python/classes/lesson.md"
   ]
  },
  {
   "cell_type": "code",
   "execution_count": null,
   "metadata": {},
   "outputs": [],
   "source": []
  }
 ],
 "metadata": {
  "kernelspec": {
   "display_name": "Python 3",
   "language": "python",
   "name": "python3"
  },
  "language_info": {
   "codemirror_mode": {
    "name": "ipython",
    "version": 3
   },
   "file_extension": ".py",
   "mimetype": "text/x-python",
   "name": "python",
   "nbconvert_exporter": "python",
   "pygments_lexer": "ipython3",
   "version": "3.6.2"
  }
 },
 "nbformat": 4,
 "nbformat_minor": 2
}
