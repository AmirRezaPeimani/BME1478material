{
 "cells": [
  {
   "cell_type": "markdown",
   "metadata": {},
   "source": [
    "# Additional examples "
   ]
  },
  {
   "cell_type": "markdown",
   "metadata": {},
   "source": [
    "## more practice examples on slicing"
   ]
  },
  {
   "cell_type": "code",
   "execution_count": 20,
   "metadata": {},
   "outputs": [
    {
     "data": {
      "text/plain": [
       "'20'"
      ]
     },
     "execution_count": 20,
     "metadata": {},
     "output_type": "execute_result"
    }
   ],
   "source": [
    "# slicing from the end: useful when you want to slice regardless of whether you know beforehand the length of your variable \n",
    "my_string = 'date: 2020 01 20'\n",
    "my_string[-2:]"
   ]
  },
  {
   "cell_type": "code",
   "execution_count": 48,
   "metadata": {},
   "outputs": [
    {
     "name": "stdout",
     "output_type": "stream",
     "text": [
      "subset [2, 7, 17, 29]\n"
     ]
    }
   ],
   "source": [
    "# non continuous slicing \n",
    "# to take a subset of entries that aren’t next to each other in the sequence: use step size argument\n",
    "primes = [2, 3, 5, 7, 11, 13, 17, 19, 23, 29, 31, 37]\n",
    "subset = primes[0:12:3]\n",
    "print(subset)"
   ]
  },
  {
   "cell_type": "code",
   "execution_count": 22,
   "metadata": {},
   "outputs": [
    {
     "name": "stdout",
     "output_type": "stream",
     "text": [
      "subset [3, 11, 19, 31]\n"
     ]
    }
   ],
   "source": [
    "# now let's start from the second item with the same step size\n",
    "subset = primes[1:12:3]\n",
    "print(subset)"
   ]
  },
  {
   "cell_type": "code",
   "execution_count": 23,
   "metadata": {},
   "outputs": [
    {
     "name": "stdout",
     "output_type": "stream",
     "text": [
      "subset [3, 11, 19, 31]\n"
     ]
    }
   ],
   "source": [
    "# again, we don't really need to define the end of the list\n",
    "subset = primes[1::3]\n",
    "print(subset)"
   ]
  },
  {
   "cell_type": "code",
   "execution_count": 52,
   "metadata": {},
   "outputs": [
    {
     "name": "stdout",
     "output_type": "stream",
     "text": [
      "[2, 7, 17, 29, 55]\n"
     ]
    }
   ],
   "source": [
    "# or if starting from the beginning, defining that is not even needed\n",
    "subset = primes[::3]\n",
    "print(subset)"
   ]
  },
  {
   "cell_type": "code",
   "execution_count": 44,
   "metadata": {},
   "outputs": [
    {
     "data": {
      "text/plain": [
       "14"
      ]
     },
     "execution_count": 44,
     "metadata": {},
     "output_type": "execute_result"
    }
   ],
   "source": [
    "len(primes)"
   ]
  },
  {
   "cell_type": "markdown",
   "metadata": {},
   "source": [
    "Accessing (slicing) nested lists:\n",
    "\n",
    "Since a list can contain any Python variables, it can even contain other lists."
   ]
  },
  {
   "cell_type": "code",
   "execution_count": 59,
   "metadata": {},
   "outputs": [
    {
     "name": "stdout",
     "output_type": "stream",
     "text": [
      "['pepper', 'zucchini', 'onion']\n",
      "pepper\n"
     ]
    }
   ],
   "source": [
    "x = [['pepper', 'zucchini', 'onion'],\n",
    "     ['cabbage', 'lettuce', 'garlic'],\n",
    "     ['apple', 'pear', 'banana']]\n",
    "\n",
    "print(x[0])\n",
    "print(x[0][0])"
   ]
  },
  {
   "cell_type": "markdown",
   "metadata": {},
   "source": [
    "## more methods for list objects\n",
    "let's try a few of the methods, aka functions, that you can see when pressing tab after the dot for a list: "
   ]
  },
  {
   "cell_type": "code",
   "execution_count": 55,
   "metadata": {},
   "outputs": [
    {
     "name": "stdout",
     "output_type": "stream",
     "text": [
      "[2, 3, 5, 7, 11, 13, 17, 19, 23, 29, 31, 37]\n",
      "[2, 3, 5, 7, 11, 13, 17, 19, 23, 29, 31, 37, 55]\n",
      "[2, 3, 5, 7, 11, 13, 17, 19, 23, 29, 31, 37]\n",
      "[37, 31, 29, 23, 19, 17, 13, 11, 7, 5, 3, 2]\n"
     ]
    }
   ],
   "source": [
    "primes = [2, 3, 5, 7, 11, 13, 17, 19, 23, 29, 31, 37]\n",
    "\n",
    "# removing an element\n",
    "print(primes)\n",
    "\n",
    "primes.append(55)\n",
    "print(primes)\n",
    "\n",
    "primes.pop(12) # or if the last value we could leave it empty primes.pop() \n",
    "print(primes)\n",
    "\n",
    "primes.reverse()\n",
    "print(primes)"
   ]
  },
  {
   "cell_type": "markdown",
   "metadata": {},
   "source": [
    "## writing equations\n",
    "Let's write a polynomial with a constant term, a linear term and a quadratic term\n",
    "$y = a_0 + a_1x + a_2x^2$\n",
    "calculate y for:  \n",
    "$a_0= 2, a_1 = 4, a_2= 7$ and $x=3$"
   ]
  },
  {
   "cell_type": "code",
   "execution_count": 15,
   "metadata": {},
   "outputs": [
    {
     "name": "stdout",
     "output_type": "stream",
     "text": [
      "77\n"
     ]
    }
   ],
   "source": [
    "# we can define a0, a1 and a2 as seperate variables, or more efficiently as a list with length 3 \n",
    "x = 3\n",
    "a = [2, 4, 7]\n",
    "y = a[0] + a[1] * x + a[2] * x**2\n",
    "print(y)\n",
    "\n",
    "# note that we couls also write \n",
    "y = a[0] * x**0 + a[1] * x**1 + a[2] * x**2\n"
   ]
  },
  {
   "cell_type": "markdown",
   "metadata": {},
   "source": [
    "## more on loops "
   ]
  },
  {
   "cell_type": "markdown",
   "metadata": {},
   "source": [
    "example similar to what we did in the main material: \n"
   ]
  },
  {
   "cell_type": "code",
   "execution_count": 2,
   "metadata": {},
   "outputs": [
    {
     "name": "stdout",
     "output_type": "stream",
     "text": [
      "1\n",
      "2\n",
      "3\n",
      "4\n",
      "5\n",
      "6\n",
      "7\n",
      "8\n",
      "9\n",
      "This word has 9 letters\n"
     ]
    }
   ],
   "source": [
    "length = 0\n",
    "for letter in 'blueberry':\n",
    "    length = length + 1\n",
    "    print(length)\n",
    "print('This word has', length, 'letters')"
   ]
  },
  {
   "cell_type": "markdown",
   "metadata": {},
   "source": [
    "Use a for-loop to convert the string “hello” into a list of letters:"
   ]
  },
  {
   "cell_type": "code",
   "execution_count": null,
   "metadata": {},
   "outputs": [],
   "source": [
    "my_list = []\n",
    "for char in \"hello\":\n",
    "    my_list.append(char)\n",
    "print(my_list)"
   ]
  },
  {
   "cell_type": "markdown",
   "metadata": {},
   "source": [
    "adding a value to each element of a list of integers \n",
    "\n",
    "remember we can't use `+` since  for lists and strings, this operator concatenates or appends. \n",
    "\n",
    "We can use loops to access each elemnt in the list and add the desired value to it\n",
    "\n"
   ]
  },
  {
   "cell_type": "code",
   "execution_count": 1,
   "metadata": {},
   "outputs": [
    {
     "name": "stdout",
     "output_type": "stream",
     "text": [
      "2\n",
      "[2]\n",
      "3\n",
      "[2, 4]\n",
      "4\n",
      "[2, 4, 6]\n",
      "5\n",
      "[2, 4, 6, 8]\n",
      "6\n",
      "[2, 4, 6, 8, 10]\n",
      "7\n",
      "[2, 4, 6, 8, 10, 12]\n",
      "8\n",
      "[2, 4, 6, 8, 10, 12, 14]\n",
      "9\n",
      "[2, 4, 6, 8, 10, 12, 14, 16]\n",
      "[2, 4, 6, 8, 10, 12, 14, 16]\n"
     ]
    }
   ],
   "source": [
    "odds = [1, 3, 5, 7, 9, 11, 13, 15]\n",
    "# try this: primes + [1]\n",
    "#let's add 1 to our list of odds\n",
    "evens = []\n",
    "counter = 1 \n",
    "for x in odds:\n",
    "    evens = evens + [x + 1]\n",
    "    counter = counter + 1\n",
    "    print(counter)\n",
    "    print(evens)\n",
    "print(evens)\n",
    "# advanced note: you could do the same thing in one line: # evens = [x + 1 for x in odds] \n"
   ]
  },
  {
   "cell_type": "markdown",
   "metadata": {},
   "source": [
    "Python has a built-in function called `range` that generates a sequence of numbers. `range` can accept 1, 2, or 3 parameters.\n",
    "\n",
    "If one parameter is given, `range` generates a sequence of that length, starting at zero and incrementing by 1. For example, range(3) produces the numbers 0, 1, 2.\n",
    "If two parameters are given, `range` starts at the first and ends just before the second, incrementing by one. For example, range(2, 5) produces 2, 3, 4.\n",
    "If `range` is given 3 parameters, it starts at the first one, ends just before the second one, and increments by the third one. For example, range(3, 10, 2) produces 3, 5, 7, 9.\n",
    "\n",
    "Let's write a loop that calculates 5 ** 3 using multiplication:"
   ]
  },
  {
   "cell_type": "code",
   "execution_count": 3,
   "metadata": {},
   "outputs": [
    {
     "name": "stdout",
     "output_type": "stream",
     "text": [
      "125\n"
     ]
    }
   ],
   "source": [
    "result = 1\n",
    "for number in range(0, 3):\n",
    "    result = result * 5\n",
    "print(result)"
   ]
  },
  {
   "cell_type": "markdown",
   "metadata": {},
   "source": [
    "The built-in function `enumerate` takes a sequence (e.g. a list) and generates a new sequence of the same length. Each element of the new sequence is a pair composed of the index (0, 1, 2,…) and the value from the original sequence. \n",
    "Let's write the polynomial above using `enumerate`:\n",
    "\n"
   ]
  },
  {
   "cell_type": "code",
   "execution_count": 18,
   "metadata": {},
   "outputs": [
    {
     "name": "stdout",
     "output_type": "stream",
     "text": [
      "77\n"
     ]
    }
   ],
   "source": [
    "y = 0\n",
    "for ind, coef in enumerate(a):\n",
    "    y = y + coef * x**ind\n",
    "print(y)"
   ]
  },
  {
   "cell_type": "markdown",
   "metadata": {},
   "source": [
    "## analysing data with numpy "
   ]
  },
  {
   "cell_type": "code",
   "execution_count": 110,
   "metadata": {},
   "outputs": [
    {
     "name": "stdout",
     "output_type": "stream",
     "text": [
      "(1, 4)\n"
     ]
    },
    {
     "data": {
      "text/plain": [
       "array([[2, 3, 1, 3]])"
      ]
     },
     "execution_count": 110,
     "metadata": {},
     "output_type": "execute_result"
    }
   ],
   "source": [
    "import numpy as np\n",
    "a = np.array([[2, 3, 1, 3]])\n",
    "print(a.shape)\n",
    "a"
   ]
  },
  {
   "cell_type": "code",
   "execution_count": 111,
   "metadata": {},
   "outputs": [
    {
     "name": "stdout",
     "output_type": "stream",
     "text": [
      "(2, 4)\n"
     ]
    },
    {
     "data": {
      "text/plain": [
       "array([[1, 2, 5, 9],\n",
       "       [3, 4, 7, 1]])"
      ]
     },
     "execution_count": 111,
     "metadata": {},
     "output_type": "execute_result"
    }
   ],
   "source": [
    "b = np.array([[1, 2, 5, 9], [3, 4, 7, 1]])\n",
    "print(b.shape)\n",
    "b"
   ]
  },
  {
   "cell_type": "code",
   "execution_count": 112,
   "metadata": {},
   "outputs": [
    {
     "data": {
      "text/plain": [
       "array([[2, 3, 1, 3],\n",
       "       [1, 2, 5, 9],\n",
       "       [3, 4, 7, 1]])"
      ]
     },
     "execution_count": 112,
     "metadata": {},
     "output_type": "execute_result"
    }
   ],
   "source": [
    "data = np.append(a, b , axis=0)\n",
    "data"
   ]
  },
  {
   "cell_type": "code",
   "execution_count": 134,
   "metadata": {},
   "outputs": [
    {
     "data": {
      "text/plain": [
       "array([[2, 3, 1, 3],\n",
       "       [1, 2, 5, 9],\n",
       "       [3, 4, 7, 1]])"
      ]
     },
     "execution_count": 134,
     "metadata": {},
     "output_type": "execute_result"
    }
   ],
   "source": [
    "data2 = np.vstack([a,b])\n",
    "data2"
   ]
  },
  {
   "cell_type": "code",
   "execution_count": 131,
   "metadata": {},
   "outputs": [
    {
     "name": "stdout",
     "output_type": "stream",
     "text": [
      "2\n",
      "5\n",
      "[[2 5 9]\n",
      " [4 7 1]]\n",
      "[]\n",
      "(0, 0)\n",
      "[]\n",
      "(0, 4)\n"
     ]
    }
   ],
   "source": [
    "#slicing data\n",
    "# first value in data\n",
    "print(data[0,0])\n",
    "\n",
    "# in the middle\n",
    "print(data[1,2])\n",
    "\n",
    "print(data[1:3,1:])\n",
    "\n",
    "print(data[3:3, 4:4])\n",
    "print(data[3:3, 4:4].shape)\n",
    "\n",
    "print(data[3:3,:])\n",
    "print(data[3:3,:].shape)"
   ]
  },
  {
   "cell_type": "code",
   "execution_count": 125,
   "metadata": {},
   "outputs": [
    {
     "name": "stdout",
     "output_type": "stream",
     "text": [
      "average of each columns =  [2.         3.         4.33333333 4.33333333]\n",
      "average of each row =  [2.25 4.25 3.75]\n"
     ]
    }
   ],
   "source": [
    "# we can take mean in any axis\n",
    "print('average across rows = ', np.mean(data, axis=0))\n",
    "print('average across columns = ', np.mean(data, axis=1))"
   ]
  },
  {
   "cell_type": "code",
   "execution_count": 127,
   "metadata": {},
   "outputs": [
    {
     "name": "stdout",
     "output_type": "stream",
     "text": [
      "average of row 2 =  4.25\n"
     ]
    }
   ],
   "source": [
    "# if we want to have a measure for one row or one column specifically, we can combine function call with slicing:\n",
    "print('average of row 2 = ', np.mean(data[1, :]))"
   ]
  },
  {
   "cell_type": "markdown",
   "metadata": {},
   "source": []
  },
  {
   "cell_type": "code",
   "execution_count": null,
   "metadata": {},
   "outputs": [],
   "source": []
  }
 ],
 "metadata": {
  "kernelspec": {
   "display_name": "Python 3",
   "language": "python",
   "name": "python3"
  },
  "language_info": {
   "codemirror_mode": {
    "name": "ipython",
    "version": 3
   },
   "file_extension": ".py",
   "mimetype": "text/x-python",
   "name": "python",
   "nbconvert_exporter": "python",
   "pygments_lexer": "ipython3",
   "version": "3.6.2"
  }
 },
 "nbformat": 4,
 "nbformat_minor": 4
}
