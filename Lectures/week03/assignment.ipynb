{
 "cells": [
  {
   "cell_type": "markdown",
   "metadata": {},
   "source": [
    "# Assignment - Introduction to Python\n",
    "\n",
    "1. Simulate bacterial population size data that follows an exponential growth over. The initial population is 100 and growth rate is 0.4. Simulate population size data points that have supposedly gathered over the coarse of 10 seconds in 0.2 second increments. Add noise to create realistic data. mean = 0 and std = 250 should be good. \n",
    " - the output is an array of data points for the bacterial population size\n",
    " \n",
    "2. Use the population size data you created above and assume you don't know the rate of the population growth. Estimate the rate by trying a range of parameter values and choose the one with the best fit to the data. The fit is measured by sum squared error, the least sum squared error is the best fit. (This is essentialy a brute force least square method). note: you can choose the range of paramter values to be between 0.1 to 1 incremented by 0.1.\n",
    " - the output is printing what is the estimated bacterial population growth rate is\n",
    " \n",
    "**Submit a jupyter notebook with your code for each assignment. Your code should be fully commented meaning that every section and line should be preceded by a comment that describes what the next line performs**"
   ]
  },
  {
   "cell_type": "code",
   "execution_count": 1,
   "metadata": {},
   "outputs": [],
   "source": [
    "import numpy as np"
   ]
  },
  {
   "cell_type": "code",
   "execution_count": 42,
   "metadata": {},
   "outputs": [
    {
     "data": {
      "text/plain": [
       "array([ 100.        ,  172.9948027 ,  264.94636729,  330.66801562,\n",
       "        493.05864418,   81.37594515,  239.33556252,   45.909806  ,\n",
       "         22.56636645, -480.8564413 , -133.65614477,  515.8402772 ,\n",
       "        500.22661677,   91.03095743,  270.64719007,   98.09930873,\n",
       "        294.51145524,  360.62887858,  -44.05178129,   19.42018337,\n",
       "        194.17280116,  639.93233696,  378.31654781,  669.87607683,\n",
       "        386.10532315,  609.93648473, 1101.72852209,  733.29297239,\n",
       "        981.3498382 ,  815.04854048,  615.08605782, 1711.49469272,\n",
       "       1459.24535048, 1285.29602979, 1618.51159022, 1534.1754467 ,\n",
       "       1871.84582604, 1670.79711023, 2042.43541182, 2604.1686165 ,\n",
       "       2386.52949103, 2512.86345157, 2893.74251236, 3262.64485237,\n",
       "       3215.14253751, 3357.90127288, 3533.79959853, 4128.63116004,\n",
       "       4653.24983857, 5403.9942625 , 5563.47300656])"
      ]
     },
     "execution_count": 42,
     "metadata": {},
     "output_type": "execute_result"
    }
   ],
   "source": [
    "# 1 \n",
    "# define parameters\n",
    "rate = 0.4\n",
    "N0 = 100\n",
    "\n",
    "# generate the time data\n",
    "t = np.arange(0,10.2,0.2)\n",
    "population_size = N0*np.exp(rate*t) + np.random.normal(0,250,len(t))\n",
    "population_size[0] = 100\n",
    "population_size"
   ]
  },
  {
   "cell_type": "code",
   "execution_count": 67,
   "metadata": {},
   "outputs": [
    {
     "name": "stdout",
     "output_type": "stream",
     "text": [
      "We predict the rate of growth of this bacterial population to be 0.4\n"
     ]
    }
   ],
   "source": [
    "# 2\n",
    "# define the range of parameters to try\n",
    "range_rate = np.arange(0.1, 1, 0.1)\n",
    "\n",
    "# define a function that calcualates mean squared error\n",
    "def squared_error(prediction,data):\n",
    "    residual = prediction - data\n",
    "    mse = (residual**2).mean()          #or np.sum(residual**2)\n",
    "    return mse\n",
    "\n",
    "# try the parameters and choose the one with the least squared error\n",
    "mse = []\n",
    "for r in range_rate:\n",
    "    prediction = N0*np.exp(r*t)\n",
    "    mse.append(squared_error(prediction,population_size))\n",
    "\n",
    "best_fit = range_rate[np.argmin(mse)]\n",
    "print('We predict the rate of growth of this bacterial population to be',best_fit)\n",
    "    "
   ]
  },
  {
   "cell_type": "code",
   "execution_count": 69,
   "metadata": {},
   "outputs": [
    {
     "data": {
      "image/png": "[encoded data removed]",
      "text/plain": [
       "<matplotlib.figure.Figure at 0x197cb6f6f28>"
      ]
     },
     "metadata": {
      "needs_background": "light"
     },
     "output_type": "display_data"
    }
   ],
   "source": [
    "# Only for showing in the class (not required of students)\n",
    "best_prediction = N0*np.exp(best_fit*t)\n",
    "\n",
    "import matplotlib.pyplot as plt\n",
    "%matplotlib inline\n",
    "plt.plot(t,population_size);\n",
    "plt.plot(t,best_prediction);"
   ]
  },
  {
   "cell_type": "code",
   "execution_count": null,
   "metadata": {},
   "outputs": [],
   "source": []
  }
 ],
 "metadata": {
  "kernelspec": {
   "display_name": "Python 3",
   "language": "python",
   "name": "python3"
  },
  "language_info": {
   "codemirror_mode": {
    "name": "ipython",
    "version": 3
   },
   "file_extension": ".py",
   "mimetype": "text/x-python",
   "name": "python",
   "nbconvert_exporter": "python",
   "pygments_lexer": "ipython3",
   "version": "3.6.5"
  }
 },
 "nbformat": 4,
 "nbformat_minor": 4
}
