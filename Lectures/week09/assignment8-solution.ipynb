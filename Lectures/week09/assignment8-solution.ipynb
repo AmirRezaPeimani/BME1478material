{
 "cells": [
  {
   "cell_type": "markdown",
   "metadata": {},
   "source": [
    "# Assignment 8: Exploratory Data Analysis and Visualization"
   ]
  },
  {
   "cell_type": "markdown",
   "metadata": {},
   "source": [
    "## Instructions\n",
    "\n",
    "1. Fill in the code where indicated to complete the assignment. Feel free to add more cells than provided to try things out, and check what your variables look like, to see if you got the right results. Just make sure you have done what is asked for that question and that you don't delete any code we provide you with.\n",
    "\n",
    "2. Rename this `last_first_assignment8.ipynb` file replacing `last` and `first` with your name. Make sure all the outputs are there (run each cell) and then export as `last_first_assignment8.py` as well.\n",
    "\n",
    "3. Submit thes files to Quercus.\n",
    "\n",
    "## Questions and Support\n",
    "1. Please ask class content questions on the class GitHub page: \n",
    "https://github.com/BME1478H/Winter2020class/ Expect a processing time of 1d for us to respond. As such, we cannot guarantee we can address your questions and work through all the troubleshooting in time if you ask them the night before or the day of the assignment deadline. Please plan accordingly. \n",
    "2. Attend Wednesday Tutorial, 9-11am at UC140. \n",
    "3. If there are sensitive questions, submit to BME1478h.ta.team@gmail.com, "
   ]
  },
  {
   "cell_type": "markdown",
   "metadata": {},
   "source": [
    "Before we start, let's generate some example data, load in the data and import the packages we will need.  \n",
    "\n",
    "**Run the following cells to get started and do not change any of this code**."
   ]
  },
  {
   "cell_type": "code",
   "execution_count": 1,
   "metadata": {},
   "outputs": [],
   "source": [
    "import pandas as pd\n",
    "import numpy as np\n",
    "import seaborn as sns #visualisation\n",
    "import matplotlib.pyplot as plt #visualisation\n",
    "\n",
    "# load in our gapminder dataset\n",
    "url = 'https://raw.githubusercontent.com/BME1478H/Winter2020class/master/data/world-data-gapminder.csv'\n",
    "world_data = pd.read_csv(url)"
   ]
  },
  {
   "cell_type": "code",
   "execution_count": 2,
   "metadata": {},
   "outputs": [
    {
     "data": {
      "text/html": [
       "<div>\n",
       "<style scoped>\n",
       "    .dataframe tbody tr th:only-of-type {\n",
       "        vertical-align: middle;\n",
       "    }\n",
       "\n",
       "    .dataframe tbody tr th {\n",
       "        vertical-align: top;\n",
       "    }\n",
       "\n",
       "    .dataframe thead th {\n",
       "        text-align: right;\n",
       "    }\n",
       "</style>\n",
       "<table border=\"1\" class=\"dataframe\">\n",
       "  <thead>\n",
       "    <tr style=\"text-align: right;\">\n",
       "      <th></th>\n",
       "      <th>Unnamed: 0</th>\n",
       "      <th>id</th>\n",
       "      <th>diet</th>\n",
       "      <th>pulse</th>\n",
       "      <th>time</th>\n",
       "      <th>kind</th>\n",
       "    </tr>\n",
       "  </thead>\n",
       "  <tbody>\n",
       "    <tr>\n",
       "      <th>0</th>\n",
       "      <td>0</td>\n",
       "      <td>1</td>\n",
       "      <td>low fat</td>\n",
       "      <td>85</td>\n",
       "      <td>1 min</td>\n",
       "      <td>rest</td>\n",
       "    </tr>\n",
       "    <tr>\n",
       "      <th>1</th>\n",
       "      <td>1</td>\n",
       "      <td>1</td>\n",
       "      <td>low fat</td>\n",
       "      <td>85</td>\n",
       "      <td>15 min</td>\n",
       "      <td>rest</td>\n",
       "    </tr>\n",
       "    <tr>\n",
       "      <th>2</th>\n",
       "      <td>2</td>\n",
       "      <td>1</td>\n",
       "      <td>low fat</td>\n",
       "      <td>88</td>\n",
       "      <td>30 min</td>\n",
       "      <td>rest</td>\n",
       "    </tr>\n",
       "    <tr>\n",
       "      <th>3</th>\n",
       "      <td>3</td>\n",
       "      <td>2</td>\n",
       "      <td>low fat</td>\n",
       "      <td>90</td>\n",
       "      <td>1 min</td>\n",
       "      <td>rest</td>\n",
       "    </tr>\n",
       "    <tr>\n",
       "      <th>4</th>\n",
       "      <td>4</td>\n",
       "      <td>2</td>\n",
       "      <td>low fat</td>\n",
       "      <td>92</td>\n",
       "      <td>15 min</td>\n",
       "      <td>rest</td>\n",
       "    </tr>\n",
       "  </tbody>\n",
       "</table>\n",
       "</div>"
      ],
      "text/plain": [
       "   Unnamed: 0  id     diet  pulse    time  kind\n",
       "0           0   1  low fat     85   1 min  rest\n",
       "1           1   1  low fat     85  15 min  rest\n",
       "2           2   1  low fat     88  30 min  rest\n",
       "3           3   2  low fat     90   1 min  rest\n",
       "4           4   2  low fat     92  15 min  rest"
      ]
     },
     "execution_count": 2,
     "metadata": {},
     "output_type": "execute_result"
    }
   ],
   "source": [
    "# load pre-downloaded seaborn exercise study dataset for assignment\n",
    "exercise = sns.load_dataset('exercise')\n",
    "exercise.head()"
   ]
  },
  {
   "cell_type": "code",
   "execution_count": 3,
   "metadata": {},
   "outputs": [
    {
     "data": {
      "text/html": [
       "<div>\n",
       "<style scoped>\n",
       "    .dataframe tbody tr th:only-of-type {\n",
       "        vertical-align: middle;\n",
       "    }\n",
       "\n",
       "    .dataframe tbody tr th {\n",
       "        vertical-align: top;\n",
       "    }\n",
       "\n",
       "    .dataframe thead th {\n",
       "        text-align: right;\n",
       "    }\n",
       "</style>\n",
       "<table border=\"1\" class=\"dataframe\">\n",
       "  <thead>\n",
       "    <tr style=\"text-align: right;\">\n",
       "      <th></th>\n",
       "      <th>timepoint</th>\n",
       "      <th>ROI</th>\n",
       "      <th>subject</th>\n",
       "      <th>BOLD signal</th>\n",
       "    </tr>\n",
       "  </thead>\n",
       "  <tbody>\n",
       "    <tr>\n",
       "      <th>0</th>\n",
       "      <td>0.0</td>\n",
       "      <td>IPS</td>\n",
       "      <td>0</td>\n",
       "      <td>0.513433</td>\n",
       "    </tr>\n",
       "    <tr>\n",
       "      <th>1</th>\n",
       "      <td>0.0</td>\n",
       "      <td>IPS</td>\n",
       "      <td>1</td>\n",
       "      <td>-0.414368</td>\n",
       "    </tr>\n",
       "    <tr>\n",
       "      <th>2</th>\n",
       "      <td>0.0</td>\n",
       "      <td>IPS</td>\n",
       "      <td>2</td>\n",
       "      <td>0.214695</td>\n",
       "    </tr>\n",
       "    <tr>\n",
       "      <th>3</th>\n",
       "      <td>0.0</td>\n",
       "      <td>IPS</td>\n",
       "      <td>3</td>\n",
       "      <td>0.814809</td>\n",
       "    </tr>\n",
       "    <tr>\n",
       "      <th>4</th>\n",
       "      <td>0.0</td>\n",
       "      <td>IPS</td>\n",
       "      <td>4</td>\n",
       "      <td>-0.894992</td>\n",
       "    </tr>\n",
       "  </tbody>\n",
       "</table>\n",
       "</div>"
      ],
      "text/plain": [
       "   timepoint  ROI  subject  BOLD signal\n",
       "0        0.0  IPS        0     0.513433\n",
       "1        0.0  IPS        1    -0.414368\n",
       "2        0.0  IPS        2     0.214695\n",
       "3        0.0  IPS        3     0.814809\n",
       "4        0.0  IPS        4    -0.894992"
      ]
     },
     "execution_count": 3,
     "metadata": {},
     "output_type": "execute_result"
    }
   ],
   "source": [
    "# load pre-downloaded seaborn fmri-gammas dataset for assignment\n",
    "gammas = sns.load_dataset('gammas')\n",
    "gammas.head()"
   ]
  },
  {
   "cell_type": "markdown",
   "metadata": {},
   "source": [
    "`seaborn` comes with a number of pre-loaded datasets you can use to practice plotting and exploratory data analysis. You can see all the available datasets [here](https://github.com/mwaskom/seaborn-data) or by typing `sns.get_dataset_names()`. \n",
    "\n",
    "One dataset we will use is called `exercise` which measures pulse in subjects on either a no fat or low fat diet, at multiple time intervals while during different types of activity/exercise.\n",
    "\n",
    "The other dataset is `gammas` which is a pre-processed dataset of fMRI (functional magnetic resonance imaging) experiments. In the dataset, we have the BOLD (blood oxygen level dependant), signal which is used as a measure of brain activity of specific regions of interest (ROI), measured across multiple timepoints, in 19 different subjects. \n",
    "___\n",
    "## Task 1 (2 marks)\n",
    "\n",
    "a. What are the three different `ROI` (i.e. brain regions) the experimenters looked at in the `gammas` dataset? (0.25 marks)"
   ]
  },
  {
   "cell_type": "code",
   "execution_count": 4,
   "metadata": {},
   "outputs": [
    {
     "name": "stdout",
     "output_type": "stream",
     "text": [
      "['IPS' 'AG' 'V1']\n"
     ]
    }
   ],
   "source": [
    "unique_rois = gammas[\"ROI\"].unique() \n",
    "\n",
    "# do not change the code below, write your answer code above\n",
    "print(unique_rois)"
   ]
  },
  {
   "cell_type": "markdown",
   "metadata": {},
   "source": [
    "Hint: use the `unique()` method on the column you are checking.\n",
    "___"
   ]
  },
  {
   "cell_type": "markdown",
   "metadata": {},
   "source": [
    "b. How many `subjects` are there in the study? Final answer should be one number. (0.25 marks)"
   ]
  },
  {
   "cell_type": "code",
   "execution_count": 5,
   "metadata": {},
   "outputs": [
    {
     "name": "stdout",
     "output_type": "stream",
     "text": [
      "20\n"
     ]
    }
   ],
   "source": [
    "no_subjects = len(gammas['subject'].unique())\n",
    "\n",
    "# do not change the code below, write your answer code above\n",
    "print(no_subjects)"
   ]
  },
  {
   "cell_type": "markdown",
   "metadata": {},
   "source": [
    "Hint: use `unique()` as you did before, but now you want to know how many values `unique()` outputs. \n",
    "___"
   ]
  },
  {
   "cell_type": "markdown",
   "metadata": {},
   "source": [
    "c. In `gammas`, what is the mean, min and max of the `BOLD signal` in each `ROI`? (0.5 marks) "
   ]
  },
  {
   "cell_type": "code",
   "execution_count": 6,
   "metadata": {},
   "outputs": [
    {
     "name": "stdout",
     "output_type": "stream",
     "text": [
      "         mean       min       max\n",
      "ROI                              \n",
      "AG   1.679276 -1.695759  4.770516\n",
      "IPS  0.447858 -3.611603  4.829915\n",
      "V1   0.317376 -3.140057  3.507984\n"
     ]
    }
   ],
   "source": [
    "summary_BOLD = gammas.groupby(\"ROI\")[\"BOLD signal\"].agg(['mean', 'min', 'max'])\n",
    "\n",
    "# do not change the code below, write your answer code above\n",
    "print(summary_BOLD)"
   ]
  },
  {
   "cell_type": "markdown",
   "metadata": {},
   "source": [
    "Hint: Split-apply-combine methods for pandas dataframes include `groupby()` to split the data and `agg()` to apply the aggregated operations (min/max/mean) when there are multiple operations you want to apply. \n",
    "\n",
    "Hint: `agg()` expects all the functions you want to apply to your data to be enclosed in a list. How do you denote a list in Python?\n",
    "\n",
    "_______"
   ]
  },
  {
   "cell_type": "markdown",
   "metadata": {},
   "source": [
    "d. Use seaborn to plot a `boxplot()` of the `BOLD signal` in the different `ROI`. (0.25 marks)"
   ]
  },
  {
   "cell_type": "code",
   "execution_count": 7,
   "metadata": {},
   "outputs": [
    {
     "data": {
      "image/png": "[encoded data removed]",
      "text/plain": [
       "<Figure size 432x288 with 1 Axes>"
      ]
     },
     "metadata": {
      "needs_background": "light"
     },
     "output_type": "display_data"
    }
   ],
   "source": [
    "g = sns.boxplot('ROI', 'BOLD signal', data=gammas)"
   ]
  },
  {
   "cell_type": "markdown",
   "metadata": {},
   "source": [
    "Hint: Did you use the correct nickname we defined for `seaborn` at the start of the notebook?\n",
    "\n",
    "Hint: What is your independant variable (x-axis) and dependant variable (y-axis)?\n",
    "____"
   ]
  },
  {
   "cell_type": "markdown",
   "metadata": {},
   "source": [
    "e. The `gammas` study measures the BOLD signal across multiple timepoints so perhaps we are missing on some important patterns in the data by averaging over all the timepoints. \n",
    "\n",
    "What is the `mean` of the `BOLD signal` in each `ROI` at each `timepoint` (i.e. averaged across all patients)? (0.5 marks)"
   ]
  },
  {
   "cell_type": "code",
   "execution_count": 8,
   "metadata": {},
   "outputs": [
    {
     "name": "stdout",
     "output_type": "stream",
     "text": [
      "ROI  timepoint\n",
      "AG   0.00000      0.717300\n",
      "     0.10101      0.717339\n",
      "     0.20202      0.717867\n",
      "     0.30303      0.719895\n",
      "     0.40404      0.724713\n",
      "Name: BOLD signal, dtype: float64\n"
     ]
    }
   ],
   "source": [
    "summary_BOLD_time = gammas.groupby([\"ROI\", \"timepoint\"])[\"BOLD signal\"].mean()\n",
    "\n",
    "# do not change the code below, write your answer code above\n",
    "print(summary_BOLD_time.head())"
   ]
  },
  {
   "cell_type": "markdown",
   "metadata": {},
   "source": [
    "Hint: `groupby()` expects the columns to split the dataframe by to be enclosed in a list if there is more than one column.\n",
    "___"
   ]
  },
  {
   "cell_type": "markdown",
   "metadata": {},
   "source": [
    "f. There are many timepoints so it is hard to tell what is going on just by looking. Use `seaborn` to plot a `lineplot()` of the `BOLD signal` across the different `timepoint`, where each `ROI` in the dataframe is a differently colored line. (0.25 marks)\n",
    "\n",
    "Note, this might take some time to load. "
   ]
  },
  {
   "cell_type": "code",
   "execution_count": 9,
   "metadata": {},
   "outputs": [
    {
     "data": {
      "image/png": "[encoded data removed]",
      "text/plain": [
       "<Figure size 432x288 with 1 Axes>"
      ]
     },
     "metadata": {
      "needs_background": "light"
     },
     "output_type": "display_data"
    }
   ],
   "source": [
    "ax = sns.lineplot('timepoint', 'BOLD signal', hue='ROI', data=gammas)"
   ]
  },
  {
   "cell_type": "markdown",
   "metadata": {},
   "source": [
    "Hint: the `hue` parameter is available in most `seaborn` plotting functions to indicate which column to use to group the data by and separate the aggregated values for the plot by a different hue/color.\n",
    "___"
   ]
  },
  {
   "cell_type": "markdown",
   "metadata": {},
   "source": [
    "## Task 2 (2 marks)"
   ]
  },
  {
   "cell_type": "code",
   "execution_count": 10,
   "metadata": {},
   "outputs": [
    {
     "name": "stdout",
     "output_type": "stream",
     "text": [
      "Index(['Unnamed: 0', 'id', 'diet', 'pulse', 'time', 'kind'], dtype='object')\n"
     ]
    },
    {
     "data": {
      "text/html": [
       "<div>\n",
       "<style scoped>\n",
       "    .dataframe tbody tr th:only-of-type {\n",
       "        vertical-align: middle;\n",
       "    }\n",
       "\n",
       "    .dataframe tbody tr th {\n",
       "        vertical-align: top;\n",
       "    }\n",
       "\n",
       "    .dataframe thead th {\n",
       "        text-align: right;\n",
       "    }\n",
       "</style>\n",
       "<table border=\"1\" class=\"dataframe\">\n",
       "  <thead>\n",
       "    <tr style=\"text-align: right;\">\n",
       "      <th></th>\n",
       "      <th>Unnamed: 0</th>\n",
       "      <th>id</th>\n",
       "      <th>diet</th>\n",
       "      <th>pulse</th>\n",
       "      <th>time</th>\n",
       "      <th>kind</th>\n",
       "    </tr>\n",
       "  </thead>\n",
       "  <tbody>\n",
       "    <tr>\n",
       "      <th>0</th>\n",
       "      <td>0</td>\n",
       "      <td>1</td>\n",
       "      <td>low fat</td>\n",
       "      <td>85</td>\n",
       "      <td>1 min</td>\n",
       "      <td>rest</td>\n",
       "    </tr>\n",
       "    <tr>\n",
       "      <th>1</th>\n",
       "      <td>1</td>\n",
       "      <td>1</td>\n",
       "      <td>low fat</td>\n",
       "      <td>85</td>\n",
       "      <td>15 min</td>\n",
       "      <td>rest</td>\n",
       "    </tr>\n",
       "  </tbody>\n",
       "</table>\n",
       "</div>"
      ],
      "text/plain": [
       "   Unnamed: 0  id     diet  pulse    time  kind\n",
       "0           0   1  low fat     85   1 min  rest\n",
       "1           1   1  low fat     85  15 min  rest"
      ]
     },
     "execution_count": 10,
     "metadata": {},
     "output_type": "execute_result"
    }
   ],
   "source": [
    "# run this to inspect the exercise dataframe\n",
    "print(exercise.columns)\n",
    "exercise.head(2)"
   ]
  },
  {
   "cell_type": "markdown",
   "metadata": {},
   "source": [
    "a. Notice in the `exercise` dataset that there are is an extra column `Unnamed: 0` which is a duplicate of the index (row number). Remove the extra column from `exercise`. (0.25 marks)"
   ]
  },
  {
   "cell_type": "code",
   "execution_count": 11,
   "metadata": {},
   "outputs": [
    {
     "data": {
      "text/html": [
       "<div>\n",
       "<style scoped>\n",
       "    .dataframe tbody tr th:only-of-type {\n",
       "        vertical-align: middle;\n",
       "    }\n",
       "\n",
       "    .dataframe tbody tr th {\n",
       "        vertical-align: top;\n",
       "    }\n",
       "\n",
       "    .dataframe thead th {\n",
       "        text-align: right;\n",
       "    }\n",
       "</style>\n",
       "<table border=\"1\" class=\"dataframe\">\n",
       "  <thead>\n",
       "    <tr style=\"text-align: right;\">\n",
       "      <th></th>\n",
       "      <th>id</th>\n",
       "      <th>diet</th>\n",
       "      <th>pulse</th>\n",
       "      <th>time</th>\n",
       "      <th>kind</th>\n",
       "    </tr>\n",
       "  </thead>\n",
       "  <tbody>\n",
       "    <tr>\n",
       "      <th>0</th>\n",
       "      <td>1</td>\n",
       "      <td>low fat</td>\n",
       "      <td>85</td>\n",
       "      <td>1 min</td>\n",
       "      <td>rest</td>\n",
       "    </tr>\n",
       "    <tr>\n",
       "      <th>1</th>\n",
       "      <td>1</td>\n",
       "      <td>low fat</td>\n",
       "      <td>85</td>\n",
       "      <td>15 min</td>\n",
       "      <td>rest</td>\n",
       "    </tr>\n",
       "    <tr>\n",
       "      <th>2</th>\n",
       "      <td>1</td>\n",
       "      <td>low fat</td>\n",
       "      <td>88</td>\n",
       "      <td>30 min</td>\n",
       "      <td>rest</td>\n",
       "    </tr>\n",
       "    <tr>\n",
       "      <th>3</th>\n",
       "      <td>2</td>\n",
       "      <td>low fat</td>\n",
       "      <td>90</td>\n",
       "      <td>1 min</td>\n",
       "      <td>rest</td>\n",
       "    </tr>\n",
       "    <tr>\n",
       "      <th>4</th>\n",
       "      <td>2</td>\n",
       "      <td>low fat</td>\n",
       "      <td>92</td>\n",
       "      <td>15 min</td>\n",
       "      <td>rest</td>\n",
       "    </tr>\n",
       "  </tbody>\n",
       "</table>\n",
       "</div>"
      ],
      "text/plain": [
       "   id     diet  pulse    time  kind\n",
       "0   1  low fat     85   1 min  rest\n",
       "1   1  low fat     85  15 min  rest\n",
       "2   1  low fat     88  30 min  rest\n",
       "3   2  low fat     90   1 min  rest\n",
       "4   2  low fat     92  15 min  rest"
      ]
     },
     "execution_count": 11,
     "metadata": {},
     "output_type": "execute_result"
    }
   ],
   "source": [
    "exercise_clean = exercise.iloc[:, 1:]\n",
    "\n",
    "# do not change the code below, write your answer code above\n",
    "exercise_clean.head()"
   ]
  },
  {
   "cell_type": "markdown",
   "metadata": {},
   "source": [
    "Hint: The `Unnamed: 0` column is the first column. Is there a way to slice the dataframe keeping all the rows but only from the second column onward? \n",
    "\n",
    "Alternatively, you can make use of the `dataframe.drop()` method (documentation and examples here: https://pandas.pydata.org/pandas-docs/stable/reference/api/pandas.DataFrame.drop.html)\n",
    "___"
   ]
  },
  {
   "cell_type": "markdown",
   "metadata": {},
   "source": [
    "b. Using our cleaned dataset `exercise_clean` from task (a), check whether we have the same number of subjects (`id`) for each diet group (`no fat` and `low fat`) using `nunique()` and only display the counts per group for the `id` column.\n",
    "\n",
    "Read the docs for `nunique()` here: https://pandas.pydata.org/pandas-docs/stable/reference/api/pandas.core.groupby.DataFrameGroupBy.nunique.html?highlight=nunique#pandas.core.groupby.DataFrameGroupBy.nunique\n",
    "\n",
    "(0.25 marks)"
   ]
  },
  {
   "cell_type": "code",
   "execution_count": 12,
   "metadata": {},
   "outputs": [
    {
     "data": {
      "text/plain": [
       "diet\n",
       "no fat     15\n",
       "low fat    15\n",
       "Name: id, dtype: int64"
      ]
     },
     "execution_count": 12,
     "metadata": {},
     "output_type": "execute_result"
    }
   ],
   "source": [
    "ids_per_diet = exercise_clean.groupby(\"diet\").nunique()['id']\n",
    "\n",
    "\n",
    "# do not change the code below, write your answer code above\n",
    "ids_per_diet"
   ]
  },
  {
   "cell_type": "markdown",
   "metadata": {},
   "source": [
    "Hint: From the documentation, we see that `nunique()` returns DataFrame with number of distinct observations per group _for each column_. We only want to display the subject id. \n",
    "___"
   ]
  },
  {
   "cell_type": "markdown",
   "metadata": {},
   "source": [
    "c. Using `exercise_clean`, what is the average `pulse` for each of the `diet` types only in the observations taken during `rest`? Subset your data first. (0.5 marks)"
   ]
  },
  {
   "cell_type": "code",
   "execution_count": 13,
   "metadata": {},
   "outputs": [
    {
     "name": "stdout",
     "output_type": "stream",
     "text": [
      "diet\n",
      "no fat     92.333333\n",
      "low fat    89.333333\n",
      "Name: pulse, dtype: float64\n"
     ]
    }
   ],
   "source": [
    "rest = exercise_clean[exercise_clean.kind == 'rest']\n",
    "\n",
    "pulse_rest = rest.groupby('diet')['pulse'].mean()\n",
    "\n",
    "print(pulse_rest)"
   ]
  },
  {
   "cell_type": "markdown",
   "metadata": {},
   "source": [
    "______\n",
    "From the lesson, we saw that we could plot multiple categorical variables using `catplot()` in `seaborn`. \n",
    "Try running the following plotting code to make sense of the necessary components of `catplot()` function:\n",
    "\n",
    "```\n",
    "sns.catplot(x='life_expectancy', y='income_group', data=world_data[world_data.year == 2014], kind='box',\n",
    "            col='region', col_wrap=3)\n",
    "```\n",
    "\n",
    "d. Use the `exercise_clean` dataframe. Use `catplot()` to with `kind='point'` where:\n",
    "- `time` is plotted on the x-axis and `pulse` is plotted on the `y-axis`. \n",
    "- each of the  subplots should have a different colored line for each type of `diet`\n",
    "- along the column (`col`) of the catplot should be the different levels of exercise (i.e. `kind`). \n",
    "\n",
    "The end result should be 1 row of 3 subplots (one for each kind of exercise/activity). (0.5 marks)"
   ]
  },
  {
   "cell_type": "code",
   "execution_count": 14,
   "metadata": {},
   "outputs": [
    {
     "data": {
      "text/plain": [
       "<seaborn.axisgrid.FacetGrid at 0x7f6966732898>"
      ]
     },
     "execution_count": 14,
     "metadata": {},
     "output_type": "execute_result"
    },
    {
     "data": {
      "image/png": "[encoded data removed]",
      "text/plain": [
       "<Figure size 1149.75x360 with 3 Axes>"
      ]
     },
     "metadata": {
      "needs_background": "light"
     },
     "output_type": "display_data"
    }
   ],
   "source": [
    "sns.catplot(\"time\", \"pulse\", hue=\"diet\", data=exercise, col=\"kind\", kind='point')"
   ]
  },
  {
   "cell_type": "markdown",
   "metadata": {},
   "source": [
    "___\n",
    "You may notice in the plot from (d) that the difference between the pulse of subjects in the `no fat` and `low fat` diet is similar in most time points and kinds of activity, but there is a more obvious difference between groups in the `running` condition. Let's look more closely.\n",
    "\n",
    "e. Plot a `boxplot()` specifically of the `pulse` of the `no fat` and `low fat` diet groups for each `time` point in the `running` group. \n",
    "Start by subsetting the data into a new variable. \n",
    "\n",
    "(0.25 marks for subsetting data, 0.25 marks for the correct plot = 0.5 marks total)"
   ]
  },
  {
   "cell_type": "code",
   "execution_count": 15,
   "metadata": {},
   "outputs": [
    {
     "name": "stdout",
     "output_type": "stream",
     "text": [
      "    id     diet  pulse    time     kind\n",
      "60  21  low fat     93   1 min  running\n",
      "61  21  low fat     98  15 min  running\n",
      "62  21  low fat    110  30 min  running\n",
      "63  22  low fat     98   1 min  running\n",
      "64  22  low fat    104  15 min  running\n"
     ]
    }
   ],
   "source": [
    "# subset your data here\n",
    "running = exercise_clean[exercise_clean.kind == 'running']\n",
    "\n",
    "print(running.head())"
   ]
  },
  {
   "cell_type": "code",
   "execution_count": 16,
   "metadata": {},
   "outputs": [
    {
     "data": {
      "image/png": "[encoded data removed]",
      "text/plain": [
       "<Figure size 432x288 with 1 Axes>"
      ]
     },
     "metadata": {
      "needs_background": "light"
     },
     "output_type": "display_data"
    }
   ],
   "source": [
    "# code the boxplot here\n",
    "sns.boxplot('time', 'pulse', hue='diet', data=running);"
   ]
  },
  {
   "cell_type": "markdown",
   "metadata": {},
   "source": [
    "## Task 3 (2 marks)"
   ]
  },
  {
   "cell_type": "markdown",
   "metadata": {},
   "source": [
    "Going back to the `world_data` gapminder data, let's explore the data even more. "
   ]
  },
  {
   "cell_type": "markdown",
   "metadata": {},
   "source": [
    "a. Create a new column in `world_data` called `education_ratio` that represents the ratio between `years_in_school_women` and `years_in_school_men` (i.e. `years_in_school_men` is the denominator) (0.25 marks)"
   ]
  },
  {
   "cell_type": "code",
   "execution_count": 17,
   "metadata": {},
   "outputs": [],
   "source": [
    "world_data['education_ratio'] = world_data['years_in_school_women'] / world_data['years_in_school_men']"
   ]
  },
  {
   "cell_type": "markdown",
   "metadata": {},
   "source": [
    "b. Display the five (5) largest `education_ratio` observations in descending order (using `dataframe.nlargest(number, column_name)` where number is the number of observations to find) (0.25 marks)\n",
    "  - the results should be limited data from the year 2010 (0.25 marks)\n",
    "  - and only include the columns `country`, `year`, and `education_ratio`. (0.25 marks)\n",
    "\n",
    "The answer should all be in one code cell, it is possible to do in one line but may be easier and more readable to split across more than one line. (0.75 marks total)"
   ]
  },
  {
   "cell_type": "code",
   "execution_count": 18,
   "metadata": {},
   "outputs": [
    {
     "data": {
      "text/html": [
       "<div>\n",
       "<style scoped>\n",
       "    .dataframe tbody tr th:only-of-type {\n",
       "        vertical-align: middle;\n",
       "    }\n",
       "\n",
       "    .dataframe tbody tr th {\n",
       "        vertical-align: top;\n",
       "    }\n",
       "\n",
       "    .dataframe thead th {\n",
       "        text-align: right;\n",
       "    }\n",
       "</style>\n",
       "<table border=\"1\" class=\"dataframe\">\n",
       "  <thead>\n",
       "    <tr style=\"text-align: right;\">\n",
       "      <th></th>\n",
       "      <th>country</th>\n",
       "      <th>year</th>\n",
       "      <th>education_ratio</th>\n",
       "    </tr>\n",
       "  </thead>\n",
       "  <tbody>\n",
       "    <tr>\n",
       "      <th>19701</th>\n",
       "      <td>Lesotho</td>\n",
       "      <td>2010</td>\n",
       "      <td>1.263087</td>\n",
       "    </tr>\n",
       "    <tr>\n",
       "      <th>28461</th>\n",
       "      <td>Qatar</td>\n",
       "      <td>2010</td>\n",
       "      <td>1.222766</td>\n",
       "    </tr>\n",
       "    <tr>\n",
       "      <th>4809</th>\n",
       "      <td>Botswana</td>\n",
       "      <td>2010</td>\n",
       "      <td>1.125714</td>\n",
       "    </tr>\n",
       "    <tr>\n",
       "      <th>5028</th>\n",
       "      <td>Brazil</td>\n",
       "      <td>2010</td>\n",
       "      <td>1.121328</td>\n",
       "    </tr>\n",
       "    <tr>\n",
       "      <th>25176</th>\n",
       "      <td>Nicaragua</td>\n",
       "      <td>2010</td>\n",
       "      <td>1.115176</td>\n",
       "    </tr>\n",
       "  </tbody>\n",
       "</table>\n",
       "</div>"
      ],
      "text/plain": [
       "         country  year  education_ratio\n",
       "19701    Lesotho  2010         1.263087\n",
       "28461      Qatar  2010         1.222766\n",
       "4809    Botswana  2010         1.125714\n",
       "5028      Brazil  2010         1.121328\n",
       "25176  Nicaragua  2010         1.115176"
      ]
     },
     "execution_count": 18,
     "metadata": {},
     "output_type": "execute_result"
    }
   ],
   "source": [
    "world_2010 = world_data[world_data.year == 2010]\n",
    "top_education_ratio_2010 = world_2010.nlargest(5, 'education_ratio')[['country', 'year', 'education_ratio']]\n",
    "\n",
    "# do not change the code below, write your answer code above\n",
    "top_education_ratio_2010"
   ]
  },
  {
   "cell_type": "markdown",
   "metadata": {},
   "source": [
    "Hint: Start by filtering your data to meet the required criteria\n",
    "- then you can look for the rows with the top values within that filtered subset\n",
    "- and finally you can choose which columns to display from that."
   ]
  },
  {
   "cell_type": "markdown",
   "metadata": {},
   "source": [
    "___\n",
    "Let's compare the distribution of country life expectancies in 1800 to the population in 2000 in the different regions of the world. \n",
    "\n",
    "c. Subset your data to only include rows where the `year` is either 1800 or 2000. (0.25 marks)"
   ]
  },
  {
   "cell_type": "code",
   "execution_count": 19,
   "metadata": {},
   "outputs": [
    {
     "data": {
      "text/html": [
       "<div>\n",
       "<style scoped>\n",
       "    .dataframe tbody tr th:only-of-type {\n",
       "        vertical-align: middle;\n",
       "    }\n",
       "\n",
       "    .dataframe tbody tr th {\n",
       "        vertical-align: top;\n",
       "    }\n",
       "\n",
       "    .dataframe thead th {\n",
       "        text-align: right;\n",
       "    }\n",
       "</style>\n",
       "<table border=\"1\" class=\"dataframe\">\n",
       "  <thead>\n",
       "    <tr style=\"text-align: right;\">\n",
       "      <th></th>\n",
       "      <th>country</th>\n",
       "      <th>year</th>\n",
       "      <th>population</th>\n",
       "      <th>region</th>\n",
       "      <th>sub_region</th>\n",
       "      <th>income_group</th>\n",
       "      <th>life_expectancy</th>\n",
       "      <th>income</th>\n",
       "      <th>children_per_woman</th>\n",
       "      <th>child_mortality</th>\n",
       "      <th>pop_density</th>\n",
       "      <th>co2_per_capita</th>\n",
       "      <th>years_in_school_men</th>\n",
       "      <th>years_in_school_women</th>\n",
       "      <th>education_ratio</th>\n",
       "    </tr>\n",
       "  </thead>\n",
       "  <tbody>\n",
       "    <tr>\n",
       "      <th>0</th>\n",
       "      <td>Afghanistan</td>\n",
       "      <td>1800</td>\n",
       "      <td>3280000</td>\n",
       "      <td>Asia</td>\n",
       "      <td>Southern Asia</td>\n",
       "      <td>Low</td>\n",
       "      <td>28.2</td>\n",
       "      <td>603</td>\n",
       "      <td>7.00</td>\n",
       "      <td>469.0</td>\n",
       "      <td>NaN</td>\n",
       "      <td>NaN</td>\n",
       "      <td>NaN</td>\n",
       "      <td>NaN</td>\n",
       "      <td>NaN</td>\n",
       "    </tr>\n",
       "    <tr>\n",
       "      <th>200</th>\n",
       "      <td>Afghanistan</td>\n",
       "      <td>2000</td>\n",
       "      <td>20100000</td>\n",
       "      <td>Asia</td>\n",
       "      <td>Southern Asia</td>\n",
       "      <td>Low</td>\n",
       "      <td>51.6</td>\n",
       "      <td>972</td>\n",
       "      <td>7.49</td>\n",
       "      <td>130.0</td>\n",
       "      <td>30.8</td>\n",
       "      <td>0.0385</td>\n",
       "      <td>2.90</td>\n",
       "      <td>0.59</td>\n",
       "      <td>0.203448</td>\n",
       "    </tr>\n",
       "    <tr>\n",
       "      <th>219</th>\n",
       "      <td>Albania</td>\n",
       "      <td>1800</td>\n",
       "      <td>410000</td>\n",
       "      <td>Europe</td>\n",
       "      <td>Southern Europe</td>\n",
       "      <td>Upper middle</td>\n",
       "      <td>35.4</td>\n",
       "      <td>667</td>\n",
       "      <td>4.60</td>\n",
       "      <td>375.0</td>\n",
       "      <td>NaN</td>\n",
       "      <td>NaN</td>\n",
       "      <td>NaN</td>\n",
       "      <td>NaN</td>\n",
       "      <td>NaN</td>\n",
       "    </tr>\n",
       "    <tr>\n",
       "      <th>419</th>\n",
       "      <td>Albania</td>\n",
       "      <td>2000</td>\n",
       "      <td>3120000</td>\n",
       "      <td>Europe</td>\n",
       "      <td>Southern Europe</td>\n",
       "      <td>Upper middle</td>\n",
       "      <td>74.4</td>\n",
       "      <td>5470</td>\n",
       "      <td>2.16</td>\n",
       "      <td>26.0</td>\n",
       "      <td>114.0</td>\n",
       "      <td>0.9680</td>\n",
       "      <td>9.97</td>\n",
       "      <td>9.87</td>\n",
       "      <td>0.989970</td>\n",
       "    </tr>\n",
       "    <tr>\n",
       "      <th>438</th>\n",
       "      <td>Algeria</td>\n",
       "      <td>1800</td>\n",
       "      <td>2500000</td>\n",
       "      <td>Africa</td>\n",
       "      <td>Northern Africa</td>\n",
       "      <td>Upper middle</td>\n",
       "      <td>28.8</td>\n",
       "      <td>715</td>\n",
       "      <td>6.99</td>\n",
       "      <td>460.0</td>\n",
       "      <td>NaN</td>\n",
       "      <td>NaN</td>\n",
       "      <td>NaN</td>\n",
       "      <td>NaN</td>\n",
       "      <td>NaN</td>\n",
       "    </tr>\n",
       "  </tbody>\n",
       "</table>\n",
       "</div>"
      ],
      "text/plain": [
       "         country  year  population  region       sub_region  income_group  \\\n",
       "0    Afghanistan  1800     3280000    Asia    Southern Asia           Low   \n",
       "200  Afghanistan  2000    20100000    Asia    Southern Asia           Low   \n",
       "219      Albania  1800      410000  Europe  Southern Europe  Upper middle   \n",
       "419      Albania  2000     3120000  Europe  Southern Europe  Upper middle   \n",
       "438      Algeria  1800     2500000  Africa  Northern Africa  Upper middle   \n",
       "\n",
       "     life_expectancy  income  children_per_woman  child_mortality  \\\n",
       "0               28.2     603                7.00            469.0   \n",
       "200             51.6     972                7.49            130.0   \n",
       "219             35.4     667                4.60            375.0   \n",
       "419             74.4    5470                2.16             26.0   \n",
       "438             28.8     715                6.99            460.0   \n",
       "\n",
       "     pop_density  co2_per_capita  years_in_school_men  years_in_school_women  \\\n",
       "0            NaN             NaN                  NaN                    NaN   \n",
       "200         30.8          0.0385                 2.90                   0.59   \n",
       "219          NaN             NaN                  NaN                    NaN   \n",
       "419        114.0          0.9680                 9.97                   9.87   \n",
       "438          NaN             NaN                  NaN                    NaN   \n",
       "\n",
       "     education_ratio  \n",
       "0                NaN  \n",
       "200         0.203448  \n",
       "219              NaN  \n",
       "419         0.989970  \n",
       "438              NaN  "
      ]
     },
     "execution_count": 19,
     "metadata": {},
     "output_type": "execute_result"
    }
   ],
   "source": [
    "world_1800_2000 = world_data.loc[world_data['year'].isin([1800, 2000])]\n",
    "\n",
    "world_1800_2000.head()"
   ]
  },
  {
   "cell_type": "markdown",
   "metadata": {},
   "source": [
    "d. Use `catplot()` to plot multiple violin plots of the `world_1800_2000` subset data where:\n",
    "  - `region` is along the x-axis, `life_expectancy` is along the y-axis\n",
    "  - `hue` is determined by `year`\n",
    "  - `split=True` (i.e. each half of the violinplot is data from year 1800 or 2000)\n",
    "\n",
    "(0.75 marks)"
   ]
  },
  {
   "cell_type": "code",
   "execution_count": 20,
   "metadata": {},
   "outputs": [
    {
     "data": {
      "image/png": "[encoded data removed]",
      "text/plain": [
       "<Figure size 421.125x360 with 1 Axes>"
      ]
     },
     "metadata": {
      "needs_background": "light"
     },
     "output_type": "display_data"
    }
   ],
   "source": [
    "g = sns.catplot(x='region', y='life_expectancy', data=world_1800_2000, kind='violin',\n",
    "            hue='year', split=True)"
   ]
  }
 ],
 "metadata": {
  "kernelspec": {
   "display_name": "Python 3",
   "language": "python",
   "name": "python3"
  },
  "language_info": {
   "codemirror_mode": {
    "name": "ipython",
    "version": 3
   },
   "file_extension": ".py",
   "mimetype": "text/x-python",
   "name": "python",
   "nbconvert_exporter": "python",
   "pygments_lexer": "ipython3",
   "version": "3.7.3"
  }
 },
 "nbformat": 4,
 "nbformat_minor": 2
}
