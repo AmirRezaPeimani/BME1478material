{
 "cells": [
  {
   "cell_type": "markdown",
   "metadata": {},
   "source": [
    "# Assignment #3, Introduction to Python:\n",
    "\n",
    "1. Simulate bacterial population size data that follows an exponential growth.\n",
    "\n",
    "a. Set the initial population, 100, in a variable named `N0`. The growth rate, `rate`, is 0.4. (0.5 marks)   \n",
    "b. Use the suitable numpy function to generate an array of time points from 0 to 10 seconds, in 0.2 second increments and store the result in a variable called `t`. (0.5 marks)  \n",
    "c. In a variable named `population_size`, calculate the population of the colony at the time points in t, using the exponential growth function.    \n",
    "    Reminder, the formula for exponential growth is:\n",
    "\n",
    "population_size = $ N_0e^{rt} $\n",
    "\n",
    "where e is the exponential function (in Python, Numpy has an exponentioal function to calculate this), `r` is the rate, and `t` is time. Print `population_size`, it output should be an array of bacterial population size for each time point in `t`. (1 mark)\n",
    "\n",
    "d. In a a new variable called `population_size_noise`, use the same expression you wrote in (c), and add noise to the population at each time point. Do this by adding an expression that generates a random value for each time point drawn from a normal distribution of `mean=0` and `stdev 250`. Try using the Numpy function for normal distribution. It should look something like:\n",
    "\n",
    "        population_size_noise = expression_from_part_a + expression_to_add_noise\n",
    "       \n",
    "(1 mark)\n",
    "\n",
    "2. Let's assume we don't know the rate of the population growth, but we do have the data of the population size across time. Using the data you simulated in `population_size_noise`, estimate the rate by iterating over a range of parameter values and choosing the one with the best fit to the data.  \n",
    "    a. In a variable called `range_rate`, define a range of parameters to try from 0.1, up to and including 1, of step size 0.1 (0.5 marks)  \n",
    "    b. Write a function called `squared_error` to take the predicted data from a given growth rate, and the observed data to evaluate quality of the fit. It should take two parameters, and return one value, the mean squared error:  \n",
    "        Input arguments  \n",
    "        - prediction: an array of the predicted data  \n",
    "        - data: an array of the observed data  \n",
    "        Output arguments  \n",
    "        - mse: a float containing the calculated mean square error\n",
    "    \n",
    "    Fill in the blanks with the missing code to complete this question, (i.e. remove all ___ with your code) (1 mark)\n",
    "    ```\n",
    "    def _____(_____):\n",
    "        residual = _____ # the difference between our prediction and data\n",
    "        mse = _____ # use the residual to calculate the mean squared error\n",
    "        _____ # return the result\n",
    "    ```\n",
    "    c. Now that we have a way to test the fit of our estimation, use the function we wrote in (b) to iterate over `range_rate` to find the value with the smallest error.\n",
    "    Fill in the blanks with the missing code to complete this question, (i.e. remove all ___ with your code) (1.5 marks)\n",
    "\n",
    "    ```\n",
    "    mse = [] # initialize a list to store our results\n",
    "    for _____ in _____:\n",
    "        prediction = _____\n",
    "        error = _____\n",
    "        mse._____(_____)\n",
    "\n",
    "    # find the index of the minimum value in mse\n",
    "    idx_min_mse = _____\n",
    "    # use the index of the min value in mse to obtain the corresponding rate\n",
    "    # remember the arrays are the same size, and generated in order when iterating over range_rates\n",
    "    best_fit = _____\n",
    "\n",
    "    print('We predict the rate of growth of this bacterial population to be',best_fit)\n",
    "    ```\n",
    "    \n",
    "**remember that your code should be fully commented meaning that every section and line should be preceded by a comment that describes what the next line performs**"
   ]
  },
  {
   "cell_type": "markdown",
   "metadata": {},
   "source": [
    "## Answer"
   ]
  },
  {
   "cell_type": "code",
   "execution_count": 1,
   "metadata": {},
   "outputs": [],
   "source": [
    "import numpy as np"
   ]
  },
  {
   "cell_type": "code",
   "execution_count": 95,
   "metadata": {},
   "outputs": [
    {
     "data": {
      "text/plain": [
       "array([  300.        ,   903.36309117,   425.36537849,    37.69326121,\n",
       "         650.44826156,   773.16369683,   341.46653325,  1126.70605808,\n",
       "         582.68728346,   453.45122453,  1187.00963316,   714.90447156,\n",
       "         870.10247918,   744.20137515,   774.71798431,  1054.64849401,\n",
       "        1441.87478075,  1012.48756092,  1476.08699551,  1401.97721739,\n",
       "        1408.34808119,  1341.14233489,  1588.87292544,  2252.16304644,\n",
       "        2100.82240114,  1732.22463226,  2365.31869024,  2645.36183405,\n",
       "        2635.03598989,  2443.09822455,  3542.13658071,  3762.97176826,\n",
       "        4050.50522355,  4014.12809966,  4767.19074236,  4991.87002933,\n",
       "        5013.33324708,  5788.17323641,  6154.95107713,  6741.12672046,\n",
       "        7467.70402032,  7849.4643497 ,  8792.39476315,  9310.97477124,\n",
       "       10017.82526375, 10754.4581664 , 11675.9672169 , 13279.7361124 ,\n",
       "       14142.80970279, 15211.78934412, 15960.80002927])"
      ]
     },
     "execution_count": 95,
     "metadata": {},
     "output_type": "execute_result"
    }
   ],
   "source": [
    "# 1 \n",
    "# define parameters\n",
    "rate = 0.4\n",
    "N0 = 300\n",
    "\n",
    "# generate the time data\n",
    "t = np.arange(0,10.1,0.2)\n",
    "population_size = N0*np.exp(rate*t) + np.random.normal(0,250,len(t))\n",
    "population_size[0] = N0\n",
    "population_size"
   ]
  },
  {
   "cell_type": "code",
   "execution_count": 96,
   "metadata": {},
   "outputs": [
    {
     "name": "stdout",
     "output_type": "stream",
     "text": [
      "We predict the rate of growth of this bacterial population to be 0.3999999999999998\n"
     ]
    }
   ],
   "source": [
    "# 2\n",
    "# define the range of parameters to try\n",
    "range_rate = np.arange(0.1, 1, 0.01)\n",
    "\n",
    "# define a function that calcualates mean squared error\n",
    "def squared_error(prediction,data):\n",
    "    residual = prediction - data\n",
    "    mse = (residual**2).mean()          #or np.sum(residual**2)\n",
    "    return mse\n",
    "\n",
    "# try the parameters and choose the one with the least squared error\n",
    "mse = []\n",
    "for r in range_rate:\n",
    "    prediction = N0*np.exp(r*t)\n",
    "    mse.append(squared_error(prediction,population_size))\n",
    "\n",
    "best_fit = range_rate[np.argmin(mse)]\n",
    "print('We predict the rate of growth of this bacterial population to be',best_fit)\n",
    "    "
   ]
  },
  {
   "cell_type": "code",
   "execution_count": 97,
   "metadata": {},
   "outputs": [
    {
     "data": {
      "image/png": "[encoded data removed]",
      "text/plain": [
       "<matplotlib.figure.Figure at 0x23ace4157f0>"
      ]
     },
     "metadata": {
      "needs_background": "light"
     },
     "output_type": "display_data"
    }
   ],
   "source": [
    "# Only for showing in the class (not required of students)\n",
    "best_prediction = N0*np.exp(best_fit*t)\n",
    "\n",
    "import matplotlib.pyplot as plt\n",
    "%matplotlib inline\n",
    "plt.plot(t,population_size);\n",
    "plt.plot(t,best_prediction);"
   ]
  },
  {
   "cell_type": "code",
   "execution_count": null,
   "metadata": {},
   "outputs": [],
   "source": []
  }
 ],
 "metadata": {
  "kernelspec": {
   "display_name": "Python 3",
   "language": "python",
   "name": "python3"
  },
  "language_info": {
   "codemirror_mode": {
    "name": "ipython",
    "version": 3
   },
   "file_extension": ".py",
   "mimetype": "text/x-python",
   "name": "python",
   "nbconvert_exporter": "python",
   "pygments_lexer": "ipython3",
   "version": "3.6.5"
  }
 },
 "nbformat": 4,
 "nbformat_minor": 4
}
