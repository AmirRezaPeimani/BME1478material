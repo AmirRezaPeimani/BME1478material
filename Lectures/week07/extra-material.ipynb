{
 "cells": [
  {
   "cell_type": "markdown",
   "metadata": {
    "toc-hr-collapsed": true
   },
   "source": [
    "## Additional material\n",
    "\n",
    "### Using `size()` to summarize categorical data \n",
    "\n",
    "When working with data,\n",
    "we commonly want to know the number of observations present for each categorical variable.\n",
    "For this,\n",
    "pandas provides the `size()` method.\n",
    "For example,\n",
    "to find the number of observations per region\n",
    "(in this case unique countries during year 2018):"
   ]
  },
  {
   "cell_type": "code",
   "execution_count": 65,
   "metadata": {},
   "outputs": [
    {
     "data": {
      "text/plain": [
       "region\n",
       "Africa      52\n",
       "Americas    31\n",
       "Asia        47\n",
       "Europe      39\n",
       "Oceania     10\n",
       "dtype: int64"
      ]
     },
     "execution_count": 65,
     "metadata": {},
     "output_type": "execute_result"
    }
   ],
   "source": [
    "world_data_2018.groupby('region').size()"
   ]
  },
  {
   "cell_type": "markdown",
   "metadata": {},
   "source": [
    "`size()` can also be used when grouping on multiple variables."
   ]
  },
  {
   "cell_type": "code",
   "execution_count": 66,
   "metadata": {},
   "outputs": [
    {
     "data": {
      "text/plain": [
       "region    income_group\n",
       "Africa    Low             27\n",
       "          Lower middle    16\n",
       "          Upper middle     8\n",
       "          High             1\n",
       "Americas  Low              1\n",
       "          Lower middle     4\n",
       "          Upper middle    16\n",
       "          High            10\n",
       "Asia      Low              6\n",
       "          Lower middle    17\n",
       "          Upper middle    13\n",
       "          High            11\n",
       "Europe    Low              0\n",
       "          Lower middle     2\n",
       "          Upper middle     9\n",
       "          High            28\n",
       "Oceania   Low              0\n",
       "          Lower middle     4\n",
       "          Upper middle     3\n",
       "          High             3\n",
       "dtype: int64"
      ]
     },
     "execution_count": 66,
     "metadata": {},
     "output_type": "execute_result"
    }
   ],
   "source": [
    "world_data_2018.groupby(['region', 'income_group']).size()"
   ]
  },
  {
   "cell_type": "markdown",
   "metadata": {},
   "source": [
    "If there are many groups,\n",
    "`size()` is not that useful on its own.\n",
    "For example,\n",
    "it is difficult to quickly find the five most abundant species among the observations."
   ]
  },
  {
   "cell_type": "code",
   "execution_count": 67,
   "metadata": {},
   "outputs": [
    {
     "data": {
      "text/plain": [
       "sub_region\n",
       "Australia and New Zealand           2\n",
       "Central Asia                        5\n",
       "Eastern Asia                        5\n",
       "Eastern Europe                     10\n",
       "Latin America and the Caribbean    29\n",
       "Melanesia                           4\n",
       "Micronesia                          2\n",
       "Northern Africa                     6\n",
       "Northern America                    2\n",
       "Northern Europe                    10\n",
       "Polynesia                           2\n",
       "South-eastern Asia                 10\n",
       "Southern Asia                       9\n",
       "Southern Europe                    12\n",
       "Sub-Saharan Africa                 46\n",
       "Western Asia                       18\n",
       "Western Europe                      7\n",
       "dtype: int64"
      ]
     },
     "execution_count": 67,
     "metadata": {},
     "output_type": "execute_result"
    }
   ],
   "source": [
    "world_data_2018.groupby('sub_region').size()"
   ]
  },
  {
   "cell_type": "markdown",
   "metadata": {},
   "source": [
    "Since there are many rows in this output,\n",
    "it would be beneficial to sort the table values and display the most abundant species first.\n",
    "This is easy to do with the `sort_values()` method."
   ]
  },
  {
   "cell_type": "code",
   "execution_count": 68,
   "metadata": {},
   "outputs": [
    {
     "data": {
      "text/plain": [
       "sub_region\n",
       "Australia and New Zealand           2\n",
       "Polynesia                           2\n",
       "Micronesia                          2\n",
       "Northern America                    2\n",
       "Melanesia                           4\n",
       "Eastern Asia                        5\n",
       "Central Asia                        5\n",
       "Northern Africa                     6\n",
       "Western Europe                      7\n",
       "Southern Asia                       9\n",
       "Northern Europe                    10\n",
       "South-eastern Asia                 10\n",
       "Eastern Europe                     10\n",
       "Southern Europe                    12\n",
       "Western Asia                       18\n",
       "Latin America and the Caribbean    29\n",
       "Sub-Saharan Africa                 46\n",
       "dtype: int64"
      ]
     },
     "execution_count": 68,
     "metadata": {},
     "output_type": "execute_result"
    }
   ],
   "source": [
    "world_data_2018.groupby('sub_region').size().sort_values()"
   ]
  },
  {
   "cell_type": "markdown",
   "metadata": {},
   "source": [
    "That's better,\n",
    "but it could be helpful to display the most abundant species on top.\n",
    "In other words,\n",
    "the output should be arranged in descending order."
   ]
  },
  {
   "cell_type": "code",
   "execution_count": 69,
   "metadata": {},
   "outputs": [
    {
     "data": {
      "text/plain": [
       "sub_region\n",
       "Sub-Saharan Africa                 46\n",
       "Latin America and the Caribbean    29\n",
       "Western Asia                       18\n",
       "Southern Europe                    12\n",
       "Eastern Europe                     10\n",
       "dtype: int64"
      ]
     },
     "execution_count": 69,
     "metadata": {},
     "output_type": "execute_result"
    }
   ],
   "source": [
    "world_data_2018.groupby('sub_region').size().sort_values(ascending=False).head(5)"
   ]
  },
  {
   "cell_type": "markdown",
   "metadata": {},
   "source": [
    "A shortcut for sorting and returning the top values is to use `nlargest()`."
   ]
  },
  {
   "cell_type": "code",
   "execution_count": 71,
   "metadata": {},
   "outputs": [
    {
     "data": {
      "text/plain": [
       "sub_region\n",
       "Sub-Saharan Africa                 46\n",
       "Latin America and the Caribbean    29\n",
       "Western Asia                       18\n",
       "Southern Europe                    12\n",
       "Eastern Europe                     10\n",
       "dtype: int64"
      ]
     },
     "execution_count": 71,
     "metadata": {},
     "output_type": "execute_result"
    }
   ],
   "source": [
    "world_data_2018.groupby('sub_region').size().nlargest(5)"
   ]
  },
  {
   "cell_type": "markdown",
   "metadata": {},
   "source": [
    "Looks good!\n",
    "\n",
    "### Method chaining\n",
    "\n",
    "By now,\n",
    "the code statement has grown quite long because many methods have been *chained* together.\n",
    "It can be tricky to keep track of what is going on in long method chains.\n",
    "To make the code more readable,\n",
    "it can be broken up multiple lines by adding a surrounding parenthesis."
   ]
  },
  {
   "cell_type": "code",
   "execution_count": 72,
   "metadata": {},
   "outputs": [
    {
     "data": {
      "text/plain": [
       "sub_region\n",
       "Sub-Saharan Africa                 46\n",
       "Latin America and the Caribbean    29\n",
       "Western Asia                       18\n",
       "Southern Europe                    12\n",
       "Eastern Europe                     10\n",
       "dtype: int64"
      ]
     },
     "execution_count": 72,
     "metadata": {},
     "output_type": "execute_result"
    }
   ],
   "source": [
    "(world_data_2018\n",
    "     .groupby('sub_region')\n",
    "     .size()\n",
    "     .sort_values(ascending=False)\n",
    "     .head(5)\n",
    ")"
   ]
  },
  {
   "cell_type": "markdown",
   "metadata": {},
   "source": [
    "This looks neater and makes long method chains easier to reads.\n",
    "There is no absolute rule for when to break code into multiple line,\n",
    "but always try to write code that is easy for collaborators to understand.\n",
    "Remember that your most common collaborator is a future version of yourself!\n",
    "\n",
    "pandas has a convenience function for returning the top five results,\n",
    "so the values don't need to be sorted explicitly."
   ]
  },
  {
   "cell_type": "code",
   "execution_count": 73,
   "metadata": {},
   "outputs": [
    {
     "data": {
      "text/plain": [
       "sub_region\n",
       "Sub-Saharan Africa                 46\n",
       "Latin America and the Caribbean    29\n",
       "Western Asia                       18\n",
       "Southern Europe                    12\n",
       "Eastern Europe                     10\n",
       "dtype: int64"
      ]
     },
     "execution_count": 73,
     "metadata": {},
     "output_type": "execute_result"
    }
   ],
   "source": [
    "(world_data_2018\n",
    "     .groupby(['sub_region'])\n",
    "     .size()\n",
    "     .nlargest()  # the default is 5\n",
    ")"
   ]
  },
  {
   "cell_type": "markdown",
   "metadata": {},
   "source": [
    "To include more attributes about these countries,\n",
    "add those columns to `groupby()`."
   ]
  },
  {
   "cell_type": "code",
   "execution_count": 74,
   "metadata": {},
   "outputs": [
    {
     "data": {
      "text/plain": [
       "region    sub_region                     \n",
       "Africa    Sub-Saharan Africa                 46\n",
       "Americas  Latin America and the Caribbean    29\n",
       "Asia      Western Asia                       18\n",
       "Europe    Southern Europe                    12\n",
       "Asia      South-eastern Asia                 10\n",
       "dtype: int64"
      ]
     },
     "execution_count": 74,
     "metadata": {},
     "output_type": "execute_result"
    }
   ],
   "source": [
    "(world_data_2018\n",
    "     .groupby(['region', 'sub_region'])\n",
    "     .size()\n",
    "     .nlargest()  # the default is 5\n",
    ")"
   ]
  },
  {
   "cell_type": "code",
   "execution_count": 75,
   "metadata": {},
   "outputs": [
    {
     "data": {
      "text/html": [
       "<div>\n",
       "<style scoped>\n",
       "    .dataframe tbody tr th:only-of-type {\n",
       "        vertical-align: middle;\n",
       "    }\n",
       "\n",
       "    .dataframe tbody tr th {\n",
       "        vertical-align: top;\n",
       "    }\n",
       "\n",
       "    .dataframe thead th {\n",
       "        text-align: right;\n",
       "    }\n",
       "</style>\n",
       "<table border=\"1\" class=\"dataframe\">\n",
       "  <thead>\n",
       "    <tr style=\"text-align: right;\">\n",
       "      <th></th>\n",
       "      <th>country</th>\n",
       "      <th>year</th>\n",
       "      <th>population</th>\n",
       "      <th>region</th>\n",
       "      <th>sub_region</th>\n",
       "      <th>income_group</th>\n",
       "      <th>life_expectancy</th>\n",
       "      <th>income</th>\n",
       "      <th>children_per_woman</th>\n",
       "      <th>child_mortality</th>\n",
       "      <th>pop_density</th>\n",
       "      <th>co2_emissions</th>\n",
       "      <th>years_in_school_men</th>\n",
       "      <th>years_in_school_women</th>\n",
       "      <th>population_income</th>\n",
       "    </tr>\n",
       "  </thead>\n",
       "  <tbody>\n",
       "    <tr>\n",
       "      <th>0</th>\n",
       "      <td>Afghanistan</td>\n",
       "      <td>1800</td>\n",
       "      <td>3280000</td>\n",
       "      <td>Asia</td>\n",
       "      <td>Southern Asia</td>\n",
       "      <td>Low</td>\n",
       "      <td>28.2</td>\n",
       "      <td>603</td>\n",
       "      <td>7.0</td>\n",
       "      <td>469.0</td>\n",
       "      <td>NaN</td>\n",
       "      <td>NaN</td>\n",
       "      <td>NaN</td>\n",
       "      <td>NaN</td>\n",
       "      <td>1977840000</td>\n",
       "    </tr>\n",
       "    <tr>\n",
       "      <th>1</th>\n",
       "      <td>Afghanistan</td>\n",
       "      <td>1801</td>\n",
       "      <td>3280000</td>\n",
       "      <td>Asia</td>\n",
       "      <td>Southern Asia</td>\n",
       "      <td>Low</td>\n",
       "      <td>28.2</td>\n",
       "      <td>603</td>\n",
       "      <td>7.0</td>\n",
       "      <td>469.0</td>\n",
       "      <td>NaN</td>\n",
       "      <td>NaN</td>\n",
       "      <td>NaN</td>\n",
       "      <td>NaN</td>\n",
       "      <td>1977840000</td>\n",
       "    </tr>\n",
       "    <tr>\n",
       "      <th>2</th>\n",
       "      <td>Afghanistan</td>\n",
       "      <td>1802</td>\n",
       "      <td>3280000</td>\n",
       "      <td>Asia</td>\n",
       "      <td>Southern Asia</td>\n",
       "      <td>Low</td>\n",
       "      <td>28.2</td>\n",
       "      <td>603</td>\n",
       "      <td>7.0</td>\n",
       "      <td>469.0</td>\n",
       "      <td>NaN</td>\n",
       "      <td>NaN</td>\n",
       "      <td>NaN</td>\n",
       "      <td>NaN</td>\n",
       "      <td>1977840000</td>\n",
       "    </tr>\n",
       "    <tr>\n",
       "      <th>3</th>\n",
       "      <td>Afghanistan</td>\n",
       "      <td>1803</td>\n",
       "      <td>3280000</td>\n",
       "      <td>Asia</td>\n",
       "      <td>Southern Asia</td>\n",
       "      <td>Low</td>\n",
       "      <td>28.2</td>\n",
       "      <td>603</td>\n",
       "      <td>7.0</td>\n",
       "      <td>469.0</td>\n",
       "      <td>NaN</td>\n",
       "      <td>NaN</td>\n",
       "      <td>NaN</td>\n",
       "      <td>NaN</td>\n",
       "      <td>1977840000</td>\n",
       "    </tr>\n",
       "    <tr>\n",
       "      <th>4</th>\n",
       "      <td>Afghanistan</td>\n",
       "      <td>1804</td>\n",
       "      <td>3280000</td>\n",
       "      <td>Asia</td>\n",
       "      <td>Southern Asia</td>\n",
       "      <td>Low</td>\n",
       "      <td>28.2</td>\n",
       "      <td>603</td>\n",
       "      <td>7.0</td>\n",
       "      <td>469.0</td>\n",
       "      <td>NaN</td>\n",
       "      <td>NaN</td>\n",
       "      <td>NaN</td>\n",
       "      <td>NaN</td>\n",
       "      <td>1977840000</td>\n",
       "    </tr>\n",
       "  </tbody>\n",
       "</table>\n",
       "</div>"
      ],
      "text/plain": [
       "       country  year  population region     sub_region income_group  \\\n",
       "0  Afghanistan  1800     3280000   Asia  Southern Asia          Low   \n",
       "1  Afghanistan  1801     3280000   Asia  Southern Asia          Low   \n",
       "2  Afghanistan  1802     3280000   Asia  Southern Asia          Low   \n",
       "3  Afghanistan  1803     3280000   Asia  Southern Asia          Low   \n",
       "4  Afghanistan  1804     3280000   Asia  Southern Asia          Low   \n",
       "\n",
       "   life_expectancy  income  children_per_woman  child_mortality  pop_density  \\\n",
       "0             28.2     603                 7.0            469.0          NaN   \n",
       "1             28.2     603                 7.0            469.0          NaN   \n",
       "2             28.2     603                 7.0            469.0          NaN   \n",
       "3             28.2     603                 7.0            469.0          NaN   \n",
       "4             28.2     603                 7.0            469.0          NaN   \n",
       "\n",
       "   co2_emissions  years_in_school_men  years_in_school_women  \\\n",
       "0            NaN                  NaN                    NaN   \n",
       "1            NaN                  NaN                    NaN   \n",
       "2            NaN                  NaN                    NaN   \n",
       "3            NaN                  NaN                    NaN   \n",
       "4            NaN                  NaN                    NaN   \n",
       "\n",
       "   population_income  \n",
       "0         1977840000  \n",
       "1         1977840000  \n",
       "2         1977840000  \n",
       "3         1977840000  \n",
       "4         1977840000  "
      ]
     },
     "execution_count": 75,
     "metadata": {},
     "output_type": "execute_result"
    }
   ],
   "source": [
    "world_data.head()"
   ]
  },
  {
   "cell_type": "markdown",
   "metadata": {},
   "source": [
    ">#### Challenge\n",
    ">\n",
    "> 1. How many countries are there in each income group worldwide?\n",
    "> 2. Assign the variable name `world_data_2015` to a dataframe containing only the values from year 2015\n",
    ">    (e.g. the same way as `world_data_2018` was created)\n",
    "> 3.\n",
    ">    a. For those countries where women went to school longer than men,\n",
    ">       how many are there in each income group.\n",
    ">    b. Do the same as above but for countries where men went to school longer than women.\n",
    ">       What does this distribution tell you?"
   ]
  },
  {
   "cell_type": "code",
   "execution_count": null,
   "metadata": {},
   "outputs": [],
   "source": []
  },
  {
   "cell_type": "code",
   "execution_count": null,
   "metadata": {},
   "outputs": [],
   "source": []
  },
  {
   "cell_type": "code",
   "execution_count": null,
   "metadata": {},
   "outputs": [],
   "source": []
  },
  {
   "cell_type": "code",
   "execution_count": null,
   "metadata": {},
   "outputs": [],
   "source": []
  },
  {
   "cell_type": "markdown",
   "metadata": {},
   "source": [
    "### Data cleaning tips\n",
    "\n",
    "`dropna()` removes both explicit `NaN` values\n",
    "and value that pandas assumed to be `NaN`,\n",
    "such as the non-numeric values in the life_expectancy column.\n"
   ]
  },
  {
   "cell_type": "code",
   "execution_count": 80,
   "metadata": {},
   "outputs": [
    {
     "data": {
      "text/html": [
       "<div>\n",
       "<style scoped>\n",
       "    .dataframe tbody tr th:only-of-type {\n",
       "        vertical-align: middle;\n",
       "    }\n",
       "\n",
       "    .dataframe tbody tr th {\n",
       "        vertical-align: top;\n",
       "    }\n",
       "\n",
       "    .dataframe thead th {\n",
       "        text-align: right;\n",
       "    }\n",
       "</style>\n",
       "<table border=\"1\" class=\"dataframe\">\n",
       "  <thead>\n",
       "    <tr style=\"text-align: right;\">\n",
       "      <th></th>\n",
       "      <th>country</th>\n",
       "      <th>year</th>\n",
       "      <th>population</th>\n",
       "      <th>region</th>\n",
       "      <th>sub_region</th>\n",
       "      <th>income_group</th>\n",
       "      <th>life_expectancy</th>\n",
       "      <th>income</th>\n",
       "      <th>children_per_woman</th>\n",
       "      <th>child_mortality</th>\n",
       "      <th>pop_density</th>\n",
       "      <th>co2_emissions</th>\n",
       "      <th>years_in_school_men</th>\n",
       "      <th>years_in_school_women</th>\n",
       "      <th>population_income</th>\n",
       "    </tr>\n",
       "  </thead>\n",
       "  <tbody>\n",
       "  </tbody>\n",
       "</table>\n",
       "</div>"
      ],
      "text/plain": [
       "Empty DataFrame\n",
       "Columns: [country, year, population, region, sub_region, income_group, life_expectancy, income, children_per_woman, child_mortality, pop_density, co2_emissions, years_in_school_men, years_in_school_women, population_income]\n",
       "Index: []"
      ]
     },
     "execution_count": 80,
     "metadata": {},
     "output_type": "execute_result"
    }
   ],
   "source": [
    "world_data_2018.dropna()"
   ]
  },
  {
   "cell_type": "markdown",
   "metadata": {},
   "source": [
    "Instead of dropping observations that has `NaN` values in a any column,\n",
    "a subset of columns can be considered."
   ]
  },
  {
   "cell_type": "code",
   "execution_count": 83,
   "metadata": {},
   "outputs": [
    {
     "data": {
      "text/html": [
       "<div>\n",
       "<style scoped>\n",
       "    .dataframe tbody tr th:only-of-type {\n",
       "        vertical-align: middle;\n",
       "    }\n",
       "\n",
       "    .dataframe tbody tr th {\n",
       "        vertical-align: top;\n",
       "    }\n",
       "\n",
       "    .dataframe thead th {\n",
       "        text-align: right;\n",
       "    }\n",
       "</style>\n",
       "<table border=\"1\" class=\"dataframe\">\n",
       "  <thead>\n",
       "    <tr style=\"text-align: right;\">\n",
       "      <th></th>\n",
       "      <th>country</th>\n",
       "      <th>year</th>\n",
       "      <th>population</th>\n",
       "      <th>region</th>\n",
       "      <th>sub_region</th>\n",
       "      <th>income_group</th>\n",
       "      <th>life_expectancy</th>\n",
       "      <th>income</th>\n",
       "      <th>children_per_woman</th>\n",
       "      <th>child_mortality</th>\n",
       "      <th>pop_density</th>\n",
       "      <th>co2_emissions</th>\n",
       "      <th>years_in_school_men</th>\n",
       "      <th>years_in_school_women</th>\n",
       "      <th>population_income</th>\n",
       "    </tr>\n",
       "  </thead>\n",
       "  <tbody>\n",
       "    <tr>\n",
       "      <th>218</th>\n",
       "      <td>Afghanistan</td>\n",
       "      <td>2018</td>\n",
       "      <td>36400000</td>\n",
       "      <td>Asia</td>\n",
       "      <td>Southern Asia</td>\n",
       "      <td>Low</td>\n",
       "      <td>58.7</td>\n",
       "      <td>1870</td>\n",
       "      <td>4.33</td>\n",
       "      <td>65.90</td>\n",
       "      <td>55.7</td>\n",
       "      <td>NaN</td>\n",
       "      <td>NaN</td>\n",
       "      <td>NaN</td>\n",
       "      <td>68068000000</td>\n",
       "    </tr>\n",
       "    <tr>\n",
       "      <th>437</th>\n",
       "      <td>Albania</td>\n",
       "      <td>2018</td>\n",
       "      <td>2930000</td>\n",
       "      <td>Europe</td>\n",
       "      <td>Southern Europe</td>\n",
       "      <td>Upper middle</td>\n",
       "      <td>78.0</td>\n",
       "      <td>12400</td>\n",
       "      <td>1.71</td>\n",
       "      <td>12.90</td>\n",
       "      <td>107.0</td>\n",
       "      <td>NaN</td>\n",
       "      <td>NaN</td>\n",
       "      <td>NaN</td>\n",
       "      <td>36332000000</td>\n",
       "    </tr>\n",
       "    <tr>\n",
       "      <th>656</th>\n",
       "      <td>Algeria</td>\n",
       "      <td>2018</td>\n",
       "      <td>42000000</td>\n",
       "      <td>Africa</td>\n",
       "      <td>Northern Africa</td>\n",
       "      <td>Upper middle</td>\n",
       "      <td>77.9</td>\n",
       "      <td>13700</td>\n",
       "      <td>2.64</td>\n",
       "      <td>23.10</td>\n",
       "      <td>17.6</td>\n",
       "      <td>NaN</td>\n",
       "      <td>NaN</td>\n",
       "      <td>NaN</td>\n",
       "      <td>575400000000</td>\n",
       "    </tr>\n",
       "    <tr>\n",
       "      <th>875</th>\n",
       "      <td>Angola</td>\n",
       "      <td>2018</td>\n",
       "      <td>30800000</td>\n",
       "      <td>Africa</td>\n",
       "      <td>Sub-Saharan Africa</td>\n",
       "      <td>Lower middle</td>\n",
       "      <td>65.2</td>\n",
       "      <td>5850</td>\n",
       "      <td>5.55</td>\n",
       "      <td>81.60</td>\n",
       "      <td>24.7</td>\n",
       "      <td>NaN</td>\n",
       "      <td>NaN</td>\n",
       "      <td>NaN</td>\n",
       "      <td>180180000000</td>\n",
       "    </tr>\n",
       "    <tr>\n",
       "      <th>1094</th>\n",
       "      <td>Antigua and Barbuda</td>\n",
       "      <td>2018</td>\n",
       "      <td>103000</td>\n",
       "      <td>Americas</td>\n",
       "      <td>Latin America and the Caribbean</td>\n",
       "      <td>High</td>\n",
       "      <td>77.6</td>\n",
       "      <td>21000</td>\n",
       "      <td>2.03</td>\n",
       "      <td>7.89</td>\n",
       "      <td>234.0</td>\n",
       "      <td>NaN</td>\n",
       "      <td>NaN</td>\n",
       "      <td>NaN</td>\n",
       "      <td>2163000000</td>\n",
       "    </tr>\n",
       "    <tr>\n",
       "      <th>...</th>\n",
       "      <td>...</td>\n",
       "      <td>...</td>\n",
       "      <td>...</td>\n",
       "      <td>...</td>\n",
       "      <td>...</td>\n",
       "      <td>...</td>\n",
       "      <td>...</td>\n",
       "      <td>...</td>\n",
       "      <td>...</td>\n",
       "      <td>...</td>\n",
       "      <td>...</td>\n",
       "      <td>...</td>\n",
       "      <td>...</td>\n",
       "      <td>...</td>\n",
       "      <td>...</td>\n",
       "    </tr>\n",
       "    <tr>\n",
       "      <th>38324</th>\n",
       "      <td>Venezuela</td>\n",
       "      <td>2018</td>\n",
       "      <td>32400000</td>\n",
       "      <td>Americas</td>\n",
       "      <td>Latin America and the Caribbean</td>\n",
       "      <td>Upper middle</td>\n",
       "      <td>75.9</td>\n",
       "      <td>14200</td>\n",
       "      <td>2.27</td>\n",
       "      <td>15.40</td>\n",
       "      <td>36.7</td>\n",
       "      <td>NaN</td>\n",
       "      <td>NaN</td>\n",
       "      <td>NaN</td>\n",
       "      <td>460080000000</td>\n",
       "    </tr>\n",
       "    <tr>\n",
       "      <th>38543</th>\n",
       "      <td>Vietnam</td>\n",
       "      <td>2018</td>\n",
       "      <td>96500000</td>\n",
       "      <td>Asia</td>\n",
       "      <td>South-eastern Asia</td>\n",
       "      <td>Lower middle</td>\n",
       "      <td>74.9</td>\n",
       "      <td>6550</td>\n",
       "      <td>1.95</td>\n",
       "      <td>20.20</td>\n",
       "      <td>311.0</td>\n",
       "      <td>NaN</td>\n",
       "      <td>NaN</td>\n",
       "      <td>NaN</td>\n",
       "      <td>632075000000</td>\n",
       "    </tr>\n",
       "    <tr>\n",
       "      <th>38762</th>\n",
       "      <td>Yemen</td>\n",
       "      <td>2018</td>\n",
       "      <td>28900000</td>\n",
       "      <td>Asia</td>\n",
       "      <td>Western Asia</td>\n",
       "      <td>Low</td>\n",
       "      <td>67.1</td>\n",
       "      <td>2430</td>\n",
       "      <td>3.79</td>\n",
       "      <td>51.90</td>\n",
       "      <td>54.8</td>\n",
       "      <td>NaN</td>\n",
       "      <td>NaN</td>\n",
       "      <td>NaN</td>\n",
       "      <td>70227000000</td>\n",
       "    </tr>\n",
       "    <tr>\n",
       "      <th>38981</th>\n",
       "      <td>Zambia</td>\n",
       "      <td>2018</td>\n",
       "      <td>17600000</td>\n",
       "      <td>Africa</td>\n",
       "      <td>Sub-Saharan Africa</td>\n",
       "      <td>Lower middle</td>\n",
       "      <td>59.5</td>\n",
       "      <td>3870</td>\n",
       "      <td>4.87</td>\n",
       "      <td>59.50</td>\n",
       "      <td>23.7</td>\n",
       "      <td>NaN</td>\n",
       "      <td>NaN</td>\n",
       "      <td>NaN</td>\n",
       "      <td>68112000000</td>\n",
       "    </tr>\n",
       "    <tr>\n",
       "      <th>39200</th>\n",
       "      <td>Zimbabwe</td>\n",
       "      <td>2018</td>\n",
       "      <td>16900000</td>\n",
       "      <td>Africa</td>\n",
       "      <td>Sub-Saharan Africa</td>\n",
       "      <td>Low</td>\n",
       "      <td>60.2</td>\n",
       "      <td>1950</td>\n",
       "      <td>3.61</td>\n",
       "      <td>55.50</td>\n",
       "      <td>43.7</td>\n",
       "      <td>NaN</td>\n",
       "      <td>NaN</td>\n",
       "      <td>NaN</td>\n",
       "      <td>32955000000</td>\n",
       "    </tr>\n",
       "  </tbody>\n",
       "</table>\n",
       "<p>179 rows × 15 columns</p>\n",
       "</div>"
      ],
      "text/plain": [
       "                   country  year  population    region  \\\n",
       "218            Afghanistan  2018    36400000      Asia   \n",
       "437                Albania  2018     2930000    Europe   \n",
       "656                Algeria  2018    42000000    Africa   \n",
       "875                 Angola  2018    30800000    Africa   \n",
       "1094   Antigua and Barbuda  2018      103000  Americas   \n",
       "...                    ...   ...         ...       ...   \n",
       "38324            Venezuela  2018    32400000  Americas   \n",
       "38543              Vietnam  2018    96500000      Asia   \n",
       "38762                Yemen  2018    28900000      Asia   \n",
       "38981               Zambia  2018    17600000    Africa   \n",
       "39200             Zimbabwe  2018    16900000    Africa   \n",
       "\n",
       "                            sub_region  income_group  life_expectancy  income  \\\n",
       "218                      Southern Asia           Low             58.7    1870   \n",
       "437                    Southern Europe  Upper middle             78.0   12400   \n",
       "656                    Northern Africa  Upper middle             77.9   13700   \n",
       "875                 Sub-Saharan Africa  Lower middle             65.2    5850   \n",
       "1094   Latin America and the Caribbean          High             77.6   21000   \n",
       "...                                ...           ...              ...     ...   \n",
       "38324  Latin America and the Caribbean  Upper middle             75.9   14200   \n",
       "38543               South-eastern Asia  Lower middle             74.9    6550   \n",
       "38762                     Western Asia           Low             67.1    2430   \n",
       "38981               Sub-Saharan Africa  Lower middle             59.5    3870   \n",
       "39200               Sub-Saharan Africa           Low             60.2    1950   \n",
       "\n",
       "       children_per_woman  child_mortality  pop_density  co2_emissions  \\\n",
       "218                  4.33            65.90         55.7            NaN   \n",
       "437                  1.71            12.90        107.0            NaN   \n",
       "656                  2.64            23.10         17.6            NaN   \n",
       "875                  5.55            81.60         24.7            NaN   \n",
       "1094                 2.03             7.89        234.0            NaN   \n",
       "...                   ...              ...          ...            ...   \n",
       "38324                2.27            15.40         36.7            NaN   \n",
       "38543                1.95            20.20        311.0            NaN   \n",
       "38762                3.79            51.90         54.8            NaN   \n",
       "38981                4.87            59.50         23.7            NaN   \n",
       "39200                3.61            55.50         43.7            NaN   \n",
       "\n",
       "       years_in_school_men  years_in_school_women  population_income  \n",
       "218                    NaN                    NaN        68068000000  \n",
       "437                    NaN                    NaN        36332000000  \n",
       "656                    NaN                    NaN       575400000000  \n",
       "875                    NaN                    NaN       180180000000  \n",
       "1094                   NaN                    NaN         2163000000  \n",
       "...                    ...                    ...                ...  \n",
       "38324                  NaN                    NaN       460080000000  \n",
       "38543                  NaN                    NaN       632075000000  \n",
       "38762                  NaN                    NaN        70227000000  \n",
       "38981                  NaN                    NaN        68112000000  \n",
       "39200                  NaN                    NaN        32955000000  \n",
       "\n",
       "[179 rows x 15 columns]"
      ]
     },
     "execution_count": 83,
     "metadata": {},
     "output_type": "execute_result"
    }
   ],
   "source": [
    "world_data_2018.dropna(subset=['life_expectancy'])"
   ]
  },
  {
   "cell_type": "markdown",
   "metadata": {},
   "source": [
    "Non-numeric values can also be coerced into explicit `NaN` values\n",
    "via the `to_numeric()` top level function."
   ]
  },
  {
   "cell_type": "code",
   "execution_count": 84,
   "metadata": {},
   "outputs": [
    {
     "data": {
      "text/plain": [
       "218      58.7\n",
       "437      78.0\n",
       "656      77.9\n",
       "875      65.2\n",
       "1094     77.6\n",
       "         ... \n",
       "38324    75.9\n",
       "38543    74.9\n",
       "38762    67.1\n",
       "38981    59.5\n",
       "39200    60.2\n",
       "Name: life_expectancy, Length: 179, dtype: float64"
      ]
     },
     "execution_count": 84,
     "metadata": {},
     "output_type": "execute_result"
    }
   ],
   "source": [
    "pd.to_numeric(world_data_2018['life_expectancy'], errors='coerce')"
   ]
  }
 ],
 "metadata": {
  "jupytext": {
   "cell_metadata_json": true,
   "formats": "ipynb,rmd//Rmd"
  },
  "kernelspec": {
   "display_name": "Python 3",
   "language": "python",
   "name": "python3"
  },
  "language_info": {
   "codemirror_mode": {
    "name": "ipython",
    "version": 3
   },
   "file_extension": ".py",
   "mimetype": "text/x-python",
   "name": "python",
   "nbconvert_exporter": "python",
   "pygments_lexer": "ipython3",
   "version": "3.6.5"
  },
  "toc": {
   "number_sections": false,
   "sideBar": true
  }
 },
 "nbformat": 4,
 "nbformat_minor": 4
}
