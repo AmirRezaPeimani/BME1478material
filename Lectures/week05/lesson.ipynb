{
 "cells": [
  {
   "cell_type": "markdown",
   "metadata": {},
   "source": [
    "# More on Python: \n",
    "## Object Oriented Programming and Analyzing data with multiple files\n",
    "\n",
    "## Lesson Objectives\n",
    "1.  to give an overview of object oriented programming in Python so that students can:\n",
    "    - recognize the basic elements of OOP: classes, objects, instance methods, attributes \n",
    "    - Understand and review scripts that use OOP\n",
    "    - learn to write simple OOP\n",
    "        - create a class\n",
    "        - define methods within classes\n",
    "        - instantiate objects\n",
    "2.  Use libraries to access multiple files and perform simple analysis\n",
    "     - get a list of filenames that match a wildcard pattern.\n",
    "     - Write a for loop to process multiple files"
   ]
  },
  {
   "cell_type": "markdown",
   "metadata": {},
   "source": [
    "## Part 1. Object Oriented Programming\n",
    "\n",
    "Python is an object-oriented language. Object Oriented Programming is an approach to programming in which properties and behaviors are bundled into individual `objects`.\n",
    "\n",
    "In the real world, an object has some properties and functions, e.g. a car has properties (color, model, engine type, etc.) and functions (it can move, speed up, brake, etc.) or an email has recipient list, subject, body, etc., and behaviors like adding attachments and sending; or a person who has name, height, weight, address and can walk, talk, laugh, etc. \n",
    "\n",
    "We can have the same approach in desigining programs based on objects that represent both properties and functions that can be applied to those properties. This can be thought of as calling for logical consistency, i.e. variables and functions may be grouped together because they are connected under a logical unit. If you have data and functions which can be combined logically, then they should be encapsulated in a `class`.\n",
    "\n",
    "As we briefly mentioned in the previous session, we have been already using the OOP paradigm when accessing attributes of lists for example, or functions (aka methods) from numpy. Let's learn more:\n",
    "\n",
    "## Classes and Objects\n",
    "**Classes** are a template to create new objects of a certain type. It is a data structure that allows the user to specify the properties and functions needed to create this type of object. In Python, class properties are called `attributes` and class functions are called `methods`. \n",
    "\n",
    "**Objects** are **instances** of a specific **class**. e.g. if each *person* is an _instance_ of the *human beings* class, then Mana who is 170 cm tall and has dark hair is an instance of human() class. \n",
    "\n",
    "In summary:\n",
    "- A `class` provides the blueprint or structure to create an object\n",
    "- an `object` is an instance of a class which has: \n",
    "    - properties, that are called **attributes**\n",
    "    - functions, that are called **methods**\n",
    "\n",
    "### Defining a class in Python\n",
    "Unsuprisingly, a class is defined by the keyword `class`. \n",
    "\n",
    "For example, a very basic class (named `MyClass`) with one attribute (named `variable`) and one method (named `function`) can be defined like this:"
   ]
  },
  {
   "cell_type": "code",
   "execution_count": 131,
   "metadata": {},
   "outputs": [],
   "source": [
    "class MyClass:\n",
    "    variable = \"something\"\n",
    "\n",
    "    def function(self):\n",
    "        print(\"Printing this message is the only function of this class\")"
   ]
  },
  {
   "cell_type": "markdown",
   "metadata": {},
   "source": [
    "We will explain the `self` shortly, but first let's see how we create a new object of this class, which is called **instantiating an object**."
   ]
  },
  {
   "cell_type": "code",
   "execution_count": 132,
   "metadata": {},
   "outputs": [],
   "source": [
    "myobject = MyClass() # now myobject is an instance of MyClass and contains both the variable and the function for that class"
   ]
  },
  {
   "cell_type": "code",
   "execution_count": 133,
   "metadata": {},
   "outputs": [
    {
     "name": "stdout",
     "output_type": "stream",
     "text": [
      "Printing this message is the only function of this class\n"
     ]
    },
    {
     "data": {
      "text/plain": [
       "'something'"
      ]
     },
     "execution_count": 133,
     "metadata": {},
     "output_type": "execute_result"
    }
   ],
   "source": [
    "# try pressing the tab after typing \"myobject.\" to see what attributes and methods are available\n",
    "myobject.function() \n",
    "myobject.variable"
   ]
  },
  {
   "cell_type": "markdown",
   "metadata": {},
   "source": [
    "Let's work with a more meaningful example. Assume we want to file the experimental subjects of an ongoing study on migraines: \n",
    "\n",
    "We want to define a class called `Subject` with attributes such as study name, experimenter name, ID, first name, last name, date of admission and a function that will just print out the full name of the subject. \n",
    "Suppose we want to create two objects: \n",
    "\n",
    "| ID | fname | lname | date_of_admission |\n",
    "|------|------|------|------|\n",
    "| 111  |Jane |Doe | 2019_01_01 |\n",
    "| 112  |John | Smith | 2019_01_09 |"
   ]
  },
  {
   "cell_type": "code",
   "execution_count": 134,
   "metadata": {},
   "outputs": [],
   "source": [
    "# first we need to define a class. \n",
    "# If you want to create an empty class at first, you use the command \"pass\" inside the class, \n",
    "# because otherwise Python expects you to type something there\n",
    "class Subject:  \n",
    "    pass  "
   ]
  },
  {
   "cell_type": "code",
   "execution_count": 135,
   "metadata": {},
   "outputs": [],
   "source": [
    "# We want the Class to have attributes: fname, lname, ID, and data_of_admission. \n",
    "# we create the two instances and call them S1 and S2\n",
    "S1 = Subject()\n",
    "S1.fname = \"Jane\"\n",
    "S1.lname = \"Doe\"\n",
    "S1.ID = 111\n",
    "S1.date_of_admission = \"2019_01_01\"\n",
    "\n",
    "S2 = Subject()\n",
    "S2.fname = \"John\"\n",
    "S2.lname = \"Smith\"\n",
    "S2.ID = 112\n",
    "S2.date_of_admission = \"2019_01_09\""
   ]
  },
  {
   "cell_type": "code",
   "execution_count": 136,
   "metadata": {},
   "outputs": [
    {
     "name": "stdout",
     "output_type": "stream",
     "text": [
      "Jane Doe\n"
     ]
    }
   ],
   "source": [
    "# you can use these objects in any form. Let's say we want to bring up some info about subject 1\n",
    "print(S1.fname,S1.lname)"
   ]
  },
  {
   "cell_type": "markdown",
   "metadata": {},
   "source": [
    "We can define a method in this class to print the full name. \n",
    "Let's rewrite the class and then run the same code as above to create the two objects again:"
   ]
  },
  {
   "cell_type": "code",
   "execution_count": 137,
   "metadata": {},
   "outputs": [],
   "source": [
    "class Subject:\n",
    "    def fullname(self):\n",
    "        print(self.fname,self.lname)"
   ]
  },
  {
   "cell_type": "markdown",
   "metadata": {},
   "source": [
    "You probably now appreciate the use of `self`. Since the two instances have different names S1 and S2, we need a general term like `self` to represent both of them. The job of `self` is to link any instance name with the Class and play the role of that instance name inside the class. "
   ]
  },
  {
   "cell_type": "code",
   "execution_count": 138,
   "metadata": {},
   "outputs": [],
   "source": [
    "# since we rewrote the class, we have to fill in the attributes again\n",
    "# otherwise, they will not have access to the new method fullname\n",
    "S1 = Subject()\n",
    "S1.fname = \"Jane\"\n",
    "S1.lname = \"Doe\"\n",
    "S1.ID = 111\n",
    "S1.date_of_admission = \"2019_01_01\"\n",
    "\n",
    "S2 = Subject()\n",
    "S2.fname = \"John\"\n",
    "S2.lname = \"Smith\"\n",
    "S2.ID = 112\n",
    "S2.date_of_admission = \"2019_01_09\""
   ]
  },
  {
   "cell_type": "markdown",
   "metadata": {},
   "source": [
    "Now if we look at the objects it has a method + the attributes: "
   ]
  },
  {
   "cell_type": "code",
   "execution_count": 139,
   "metadata": {},
   "outputs": [
    {
     "name": "stdout",
     "output_type": "stream",
     "text": [
      "John Smith\n"
     ]
    }
   ],
   "source": [
    "S2.fullname()"
   ]
  },
  {
   "cell_type": "markdown",
   "metadata": {},
   "source": [
    "## Constructor i.e. the `__init__()` method\n",
    "\n",
    "You might be thinking the above approach seems inefficient and you are right. We don't want to repeatedly filli in the attributes individually, both boring and prone to typos.\n",
    "\n",
    "We actually don't need to. We can use a *constructor* to pass the attributes needed when initializing/instantiating a new unique instance of a class.\n",
    "Define an `__init__()` method which requires at least one other argument (as well as `self`). \n",
    "\n",
    "Note that it allows you to take data from the arguments passed and set attributes for that instance based on the data. It's up to you to decide what information you'd like to store and make accessible in your object."
   ]
  },
  {
   "cell_type": "code",
   "execution_count": 140,
   "metadata": {},
   "outputs": [],
   "source": [
    "class Subject: \n",
    "    def __init__(self,fname,lname,ID,date_of_admission):\n",
    "        self.fname = fname\n",
    "        self.lname = lname\n",
    "        self.full_name = fname + ' ' + lname # notice that we can perform operations to create new attributes from the arguments passed\n",
    "        self.ID = ID\n",
    "        self.date_of_admission = date_of_admission\n",
    "        \n",
    "    def fullname(self):\n",
    "        print(self.full_name)\n",
    "    "
   ]
  },
  {
   "cell_type": "markdown",
   "metadata": {},
   "source": [
    "We can use this to fill in attributes for new objects of a class all at once, at the time of instantiation, by passing in the data in the correct order when the object is created. \n",
    "\n",
    "**Note:** We never actually have to call `__init__()`. If we defined an `__init__()` function, it is done automatically when creating a new object."
   ]
  },
  {
   "cell_type": "code",
   "execution_count": 141,
   "metadata": {},
   "outputs": [],
   "source": [
    "# let's fill in the same subjects' info \n",
    "S1 = Subject(\"Jane\",\"Doe\",111,\"2019_01_01\")\n",
    "S2 = Subject(\"John\",\"Smith\",112,\"2019_01_02\")"
   ]
  },
  {
   "cell_type": "code",
   "execution_count": 142,
   "metadata": {},
   "outputs": [
    {
     "name": "stdout",
     "output_type": "stream",
     "text": [
      "Jane Doe\n"
     ]
    }
   ],
   "source": [
    "# now the method 'fullname' should give the same info as before:\n",
    "S1.fullname()"
   ]
  },
  {
   "cell_type": "markdown",
   "metadata": {},
   "source": [
    "As we learned by this example, the __init__ method is the initializer that you can later use to instantiate objects."
   ]
  },
  {
   "cell_type": "markdown",
   "metadata": {},
   "source": [
    "> ## Challenge 1\n",
    "> 1. Define a `Cat` class along with a constructor that initializes each object with the following attributes:\n",
    "    - name\n",
    "    - eye_color\n",
    "    - hair_type\n",
    "    - behaviour\n",
    "    - price\n",
    ">\n",
    "> 2. Also include the following method definition in your `Cat` class:\n",
    ">```\n",
    "def description(self):\n",
    "        desc_str = f\"{self.name} is a {self.eye_color}-eyed {self.behaviour} cat with {self.hair_type} worth {self.price}.\"\n",
    "        return desc_str\n",
    "```\n",
    ">*Side note: the above uses \"f-string\", a type of string formatting in Python which is a quick and efficient way to build up strings that make use of variables or expressions without having to add them together manually as we have in the past (e.g. self.name + \" is a \" + self.eye_color + ...). [Read more here](https://docs.python.org/3/reference/lexical_analysis.html#f-strings)*\n",
    ">\n",
    ">3. Create two instances with: \n",
    "    - cat_1: Russian Blue, green eyes, reserved, short coat, price: 1000.0 CAD\n",
    "    - cat_2: Birman, blue eyes, cuddly, long hair, price: 600.0 CAD\n",
    ">\n",
    ">4. Try calling the `description()` method on both `cat_1` and `cat_2`.\n"
   ]
  },
  {
   "cell_type": "code",
   "execution_count": 4,
   "metadata": {},
   "outputs": [],
   "source": [
    "class Cat: \n",
    "    def __init__(self,name,eye_color,hair_type,behaviour,price):\n",
    "        self.name = name\n",
    "        self.eye_color = eye_color\n",
    "        self.hair_type = hair_type\n",
    "        self.behaviour = behaviour\n",
    "        self.price = price\n",
    "    \n",
    "    def description(self):\n",
    "     desc_str = f\"{self.name} is a {self.eye_color}-eyed {self.behaviour} cat with {self.hair_type} worth {self.price}.\"\n",
    "     return desc_str "
   ]
  },
  {
   "cell_type": "code",
   "execution_count": 5,
   "metadata": {},
   "outputs": [
    {
     "data": {
      "text/plain": [
       "'Russian Blue is a green-eyed reserved cat with short coat worth 1000.'"
      ]
     },
     "execution_count": 5,
     "metadata": {},
     "output_type": "execute_result"
    }
   ],
   "source": [
    "cat_1 = Cat('Russian Blue', 'green', 'short coat', 'reserved', 1000)\n",
    "cat_1.description()"
   ]
  },
  {
   "cell_type": "markdown",
   "metadata": {},
   "source": [
    "## Class attributes and Class methods\n",
    "\n",
    "So far we have learned how to create a class and its instances, as well as to define and access an objects attributes and methods. Let's learn a few more features so that if we encounter them while reviewing a collaborator's script or an open-source code, we understand what's going on. \n",
    "\n",
    "Let's work with another example, programing for a bank. \n",
    "\n",
    "Let's define a class called *Client* in which a new instance stores a client's name, balance, and uses this information to determine the account level."
   ]
  },
  {
   "cell_type": "code",
   "execution_count": 15,
   "metadata": {},
   "outputs": [],
   "source": [
    "class Client:\n",
    "    def __init__(self, name, balance):\n",
    "        self.name = name\n",
    "        self.balance = balance + 100 # there is a $100 bonus for new sign-ups\n",
    "        \n",
    "        # define account level\n",
    "        if self.balance < 5000:\n",
    "            self.level = \"Basic\"\n",
    "        elif self.balance < 15000:\n",
    "            self.level = \"Intermediate\"\n",
    "        else:\n",
    "            self.level = \"Advanced\""
   ]
  },
  {
   "cell_type": "markdown",
   "metadata": {},
   "source": [
    "Now, lets try creating some new clients named John_Doe, and Jane_Defoe.\n"
   ]
  },
  {
   "cell_type": "code",
   "execution_count": 16,
   "metadata": {},
   "outputs": [],
   "source": [
    "c1 = Client(\"John Doe\", 500)\n",
    "c2 = Client(\"Jane Defoe\", 150000)"
   ]
  },
  {
   "cell_type": "markdown",
   "metadata": {},
   "source": [
    "We can see the attributes of John_Doe, or Jane_Defoe by calling them as we did before:"
   ]
  },
  {
   "cell_type": "code",
   "execution_count": 17,
   "metadata": {},
   "outputs": [
    {
     "name": "stdout",
     "output_type": "stream",
     "text": [
      "John Doe\n",
      "600\n",
      "Jane Defoe\n",
      "Advanced\n"
     ]
    }
   ],
   "source": [
    "print(c1.name)\n",
    "print(c1.balance)\n",
    "print(c2.name)\n",
    "print(c2.level)"
   ]
  },
  {
   "cell_type": "markdown",
   "metadata": {},
   "source": [
    "We can also add, remove or modify attributes as we like:"
   ]
  },
  {
   "cell_type": "code",
   "execution_count": 148,
   "metadata": {},
   "outputs": [],
   "source": [
    "c1.email = \"jdoe@email.com\"\n",
    "c2.email = \"jdefoe23@email.com\""
   ]
  },
  {
   "cell_type": "code",
   "execution_count": 149,
   "metadata": {},
   "outputs": [
    {
     "data": {
      "text/plain": [
       "'jdoe@email.com'"
      ]
     },
     "execution_count": 149,
     "metadata": {},
     "output_type": "execute_result"
    }
   ],
   "source": [
    "c1.email"
   ]
  },
  {
   "cell_type": "code",
   "execution_count": 150,
   "metadata": {},
   "outputs": [],
   "source": [
    "# if you wanted to delete an attribute\n",
    "del c1.email"
   ]
  },
  {
   "cell_type": "code",
   "execution_count": 151,
   "metadata": {},
   "outputs": [
    {
     "ename": "AttributeError",
     "evalue": "'Client' object has no attribute 'email'",
     "output_type": "error",
     "traceback": [
      "\u001b[0;31m---------------------------------------------------------------------------\u001b[0m",
      "\u001b[0;31mAttributeError\u001b[0m                            Traceback (most recent call last)",
      "\u001b[0;32m<ipython-input-151-274a67b6616f>\u001b[0m in \u001b[0;36m<module>\u001b[0;34m()\u001b[0m\n\u001b[1;32m      1\u001b[0m \u001b[0;31m# we get an \"AttributeError\" because 'email' no longer exists for c1\u001b[0m\u001b[0;34m\u001b[0m\u001b[0;34m\u001b[0m\u001b[0m\n\u001b[0;32m----> 2\u001b[0;31m \u001b[0mc1\u001b[0m\u001b[0;34m.\u001b[0m\u001b[0memail\u001b[0m\u001b[0;34m\u001b[0m\u001b[0m\n\u001b[0m",
      "\u001b[0;31mAttributeError\u001b[0m: 'Client' object has no attribute 'email'"
     ]
    }
   ],
   "source": [
    "# we get an \"AttributeError\" because 'email' no longer exists for c1\n",
    "c1.email"
   ]
  },
  {
   "cell_type": "markdown",
   "metadata": {},
   "source": [
    "### Class Attributes\n",
    "\n",
    "A class attribute is an attribute set at the class-level rather than the instance-level, such that the value of this attribute will be the same across all instances.\n",
    "\n",
    "For our *Client* class, we might want to set the name of the bank, and the location, which would not change from instance to instance."
   ]
  },
  {
   "cell_type": "code",
   "execution_count": 124,
   "metadata": {},
   "outputs": [],
   "source": [
    "class Client:\n",
    "    bank = \"Branch 001\"\n",
    "    location = \"Toronto, ON\"\n",
    "    \n",
    "    def __init__(self, name, balance):\n",
    "        self.name = name\n",
    "        self.balance = balance + 100 # there is a $100 bonus for new sign-ups\n",
    "        \n",
    "        # define account level\n",
    "        if self.balance < 5000:\n",
    "            self.level = \"Basic\"\n",
    "        elif self.balance < 15000:\n",
    "            self.level = \"Intermediate\"\n",
    "        else:\n",
    "            self.level = \"Advanced\""
   ]
  },
  {
   "cell_type": "code",
   "execution_count": 93,
   "metadata": {},
   "outputs": [],
   "source": [
    "c1 = Client(\"John Doe\", 500)\n",
    "c2 = Client(\"Jane Defoe\", 150000)"
   ]
  },
  {
   "cell_type": "markdown",
   "metadata": {},
   "source": [
    "### More on methods"
   ]
  },
  {
   "cell_type": "markdown",
   "metadata": {},
   "source": [
    "In the case of our 'Client' class, we may want to update a person's bank account once they withdraw or deposit money. Let's create these methods below."
   ]
  },
  {
   "cell_type": "code",
   "execution_count": 12,
   "metadata": {},
   "outputs": [],
   "source": [
    "# Use the Client class code above to now add methods for withdrawal and depositing of money\n",
    "class Client:\n",
    "    bank = \"Branch 001\"\n",
    "    location = \"Toronto, ON\"\n",
    "    \n",
    "    def __init__(self, name, balance):\n",
    "        self.name = name\n",
    "        self.balance = balance + 100\n",
    "        \n",
    "        #define account level\n",
    "        if self.balance < 5000:\n",
    "            self.level = \"Basic\"\n",
    "        elif self.balance < 15000:\n",
    "            self.level = \"Intermediate\"\n",
    "        else:\n",
    "            self.level = \"Advanced\"\n",
    "            \n",
    "    def deposit(self, amount):\n",
    "        '''\n",
    "        This function adds amount deposited to self.balance and returns the updated balance.\n",
    "        '''\n",
    "        self.balance = self.balance + amount\n",
    "        return self.balance\n",
    "    \n",
    "    def withdraw(self, amount):\n",
    "        '''\n",
    "        This function subtracts amount withdrawn from self.balance and returns the updated balance.\n",
    "        Amount must be less than starting balance.\n",
    "        '''\n",
    "        if amount > self.balance:\n",
    "            print(\"Insufficient funds for withdrawal. No money withdrawn.\")\n",
    "        else:\n",
    "            self.balance = self.balance - amount\n",
    "        return self.balance\n",
    "    \n"
   ]
  },
  {
   "cell_type": "markdown",
   "metadata": {},
   "source": [
    "Let's try creating Joh Doe's account again and depositing some money."
   ]
  },
  {
   "cell_type": "code",
   "execution_count": 13,
   "metadata": {},
   "outputs": [],
   "source": [
    "C1 = Client(\"John Doe\", 500)"
   ]
  },
  {
   "cell_type": "code",
   "execution_count": 14,
   "metadata": {},
   "outputs": [
    {
     "data": {
      "text/plain": [
       "'Basic'"
      ]
     },
     "execution_count": 14,
     "metadata": {},
     "output_type": "execute_result"
    }
   ],
   "source": [
    "C1.level"
   ]
  },
  {
   "cell_type": "code",
   "execution_count": 82,
   "metadata": {
    "collapsed": false,
    "jupyter": {
     "outputs_hidden": false
    }
   },
   "outputs": [
    {
     "data": {
      "text/plain": [
       "150600"
      ]
     },
     "execution_count": 82,
     "metadata": {},
     "output_type": "execute_result"
    }
   ],
   "source": [
    "C1.deposit(150000)"
   ]
  },
  {
   "cell_type": "code",
   "execution_count": 83,
   "metadata": {},
   "outputs": [
    {
     "data": {
      "text/plain": [
       "'Basic'"
      ]
     },
     "execution_count": 83,
     "metadata": {},
     "output_type": "execute_result"
    }
   ],
   "source": [
    "C1.level"
   ]
  },
  {
   "cell_type": "markdown",
   "metadata": {},
   "source": [
    "That doesn't seem right. John's balance is now over $15 000, but his level is still \"Basic\". That's because the level is set when we first instantiate the `C1` object. To solve this, we could do the same check after every deposit or withdrawal. \n",
    "\n",
    "> ## Challenge 2\n",
    "> We can write this class in a more efficient way. By moving the code that sets the account level into it's own method, we can re-use the function in other places, so we don't have redundant every time we update the balance.\n",
    "> In general, if you're performing the same operations over and over, you might want to package that code into a function/method."
   ]
  },
  {
   "cell_type": "code",
   "execution_count": 20,
   "metadata": {},
   "outputs": [],
   "source": [
    "class Client:\n",
    "    bank = \"Branch 001\"\n",
    "    location = \"Toronto, ON\"\n",
    "    \n",
    "    def __init__(self, name, balance):\n",
    "        self.name = name\n",
    "        self.balance = balance + 100\n",
    "        self.level = self.account_level()\n",
    "        \n",
    "    def account_level(self):    #define account level\n",
    "        if self.balance < 5000:\n",
    "            self.level = \"Basic\"\n",
    "        elif self.balance < 15000:\n",
    "            self.level = \"Intermediate\"\n",
    "        else:\n",
    "            self.level = \"Advanced\"\n",
    "        return self.level\n",
    "            \n",
    "    def deposit(self, amount):\n",
    "        '''\n",
    "        This function adds amount deposited to self.balance and returns the updated balance.\n",
    "        '''\n",
    "        self.balance = self.balance + amount\n",
    "        self.level = self.account_level()\n",
    "        return self.balance\n",
    "    \n",
    "    def withdraw(self, amount):\n",
    "        '''\n",
    "        This function subtracts amount withdrawn from self.balance and returns the updated balance.\n",
    "        Amount must be less than starting balance.\n",
    "        '''\n",
    "        if amount > self.balance:\n",
    "            print(\"Insufficient funds for withdrawal. No money withdrawn.\")\n",
    "        else:\n",
    "            self.balance = self.balance - amount\n",
    "            self.level = self.account_level()\n",
    "        return self.balance"
   ]
  },
  {
   "cell_type": "code",
   "execution_count": 21,
   "metadata": {},
   "outputs": [],
   "source": [
    "C1 = Client(\"John Doe\", 500)"
   ]
  },
  {
   "cell_type": "code",
   "execution_count": 22,
   "metadata": {},
   "outputs": [
    {
     "data": {
      "text/plain": [
       "'Basic'"
      ]
     },
     "execution_count": 22,
     "metadata": {},
     "output_type": "execute_result"
    }
   ],
   "source": [
    "C1.level"
   ]
  },
  {
   "cell_type": "code",
   "execution_count": 24,
   "metadata": {},
   "outputs": [],
   "source": [
    "C1.deposit(150000)"
   ]
  },
  {
   "cell_type": "code",
   "execution_count": 27,
   "metadata": {},
   "outputs": [
    {
     "data": {
      "text/plain": [
       "'Advanced'"
      ]
     },
     "execution_count": 27,
     "metadata": {},
     "output_type": "execute_result"
    }
   ],
   "source": [
    "C1.level"
   ]
  },
  {
   "cell_type": "markdown",
   "metadata": {},
   "source": [
    "# Part 2: Analyzing Data from Multiple Files"
   ]
  },
  {
   "cell_type": "markdown",
   "metadata": {},
   "source": [
    "We learned that Python is an open source language that many programmers have contributed in creating good tools written on OOP approach as `libraries` that can be called upon when needed. \n",
    "The first step in analysing any data is to load it to python, which we can do using libraries. \n",
    "\n",
    "We are familiar with NumPy (Numerical Python), which is a library for performing efficient operations on matrices or arrays of numbers. Once we’ve imported the library, we can ask the library to read our data file for us as the first step.\n"
   ]
  },
  {
   "cell_type": "code",
   "execution_count": 2,
   "metadata": {},
   "outputs": [],
   "source": [
    "import numpy as np"
   ]
  },
  {
   "cell_type": "markdown",
   "metadata": {},
   "source": [
    "### Loading numerical data into Python\n",
    "Scenario: We are studying inflammation in patients who have been given a new treatment for arthritis, and need to analyze the first dozen data sets of their daily inflammation. The data sets are stored in comma-separated values (CSV) format.\n",
    "(You can download them from Quercus). \n",
    "\n",
    "\n",
    "a good practice is to setup your project directory to have a folder for data, and a folder for scripts. \n",
    "\n",
    "Project  \n",
    "`|__` scripts  \n",
    "`|__` data  \n",
    "\n",
    "now, if you have copied the data in the data folder, and your jupyter notebook is in the scripts folder, you can load the data by a *relative path* (which we learned in bash lesson). "
   ]
  },
  {
   "cell_type": "code",
   "execution_count": 3,
   "metadata": {},
   "outputs": [
    {
     "data": {
      "text/plain": [
       "array([[0., 0., 1., ..., 3., 0., 0.],\n",
       "       [0., 1., 2., ..., 1., 0., 1.],\n",
       "       [0., 1., 1., ..., 2., 1., 1.],\n",
       "       ...,\n",
       "       [0., 1., 1., ..., 1., 1., 1.],\n",
       "       [0., 0., 0., ..., 0., 2., 0.],\n",
       "       [0., 0., 1., ..., 1., 1., 0.]])"
      ]
     },
     "execution_count": 3,
     "metadata": {},
     "output_type": "execute_result"
    }
   ],
   "source": [
    "# assign the filename \n",
    "filename = 'data/inflammation-01.csv'\n",
    "\n",
    "# load the file by calling the function 'loadtxt' from numpy library\n",
    "np.loadtxt(filename, delimiter = ',')"
   ]
  },
  {
   "cell_type": "markdown",
   "metadata": {},
   "source": [
    "We specified two arguments in `np.loadtxt()`:\n",
    "1. the name of the file we want to read \n",
    "   - this is by default the first argument so we did not need to specify fname, \n",
    "   - e.g. `np.loadtxt(fname=filename, delimiter=',')`\n",
    "2. the delimiter that separates values on a line. \n",
    "\n",
    "These both need to be character strings (or strings for short), so we put them in quotes.\n",
    "\n",
    "Since we haven’t told it to do anything else with the function’s output, the notebook displays it. In this case, that output is the data we just loaded. By default, only a few rows and columns are shown (with ... to omit elements when displaying big arrays). Note that, to save space when displaying NumPy arrays, Python does not show us trailing zeros, so 1.0 becomes 1..\n",
    "\n",
    "Our call to `np.loadtxt()` read our file but didn’t store the data in memory. To do that, we need to assign the array to a variable as we have learned before."
   ]
  },
  {
   "cell_type": "code",
   "execution_count": 4,
   "metadata": {},
   "outputs": [],
   "source": [
    "data = np.loadtxt(filename, delimiter = ',')"
   ]
  },
  {
   "cell_type": "markdown",
   "metadata": {},
   "source": [
    "> ## Challenge 3\n",
    ">\n",
    "> In this dataset, each row holds information for a single patient, and columns represent successive days. Each number represents the number of inflammation bouts that a particular patient experienced on a given day. \n",
    ">\n",
    "> How many patients did this study recruit, and for how many days data was collected?\n",
    ">\n",
    "> To quickly review what we have already explored in the previous session: use numpy functions to calculate the mean and standard deviation of inflammation bouts for each patient."
   ]
  },
  {
   "cell_type": "code",
   "execution_count": 13,
   "metadata": {},
   "outputs": [
    {
     "name": "stdout",
     "output_type": "stream",
     "text": [
      "No_patients:  60 \n",
      "No_days:  40\n"
     ]
    }
   ],
   "source": [
    "patients, days = data.shape\n",
    "print ('No_patients: ', patients, '\\nNo_days: ', days) #reminder: \\n is for going to a new line befor printing this string"
   ]
  },
  {
   "cell_type": "code",
   "execution_count": 15,
   "metadata": {},
   "outputs": [
    {
     "name": "stdout",
     "output_type": "stream",
     "text": [
      "average inflammation for each patient is:  [5.45  5.425 6.1   5.9   5.55  6.225 5.975 6.65  6.625 6.525 6.775 5.8\n",
      " 6.225 5.75  5.225 6.3   6.55  5.7   5.85  6.55  5.775 5.825 6.175 6.1\n",
      " 5.8   6.425 6.05  6.025 6.175 6.55  6.175 6.35  6.725 6.125 7.075 5.725\n",
      " 5.925 6.15  6.075 5.75  5.975 5.725 6.3   5.9   6.75  5.925 7.225 6.15\n",
      " 5.95  6.275 5.7   6.1   6.825 5.975 6.725 5.7   6.25  6.4   7.05  5.9  ]\n",
      "standard deviation of inflammation for each patient is:  [3.89839711 4.32369923 4.7581509  4.2708313  4.05555175 4.74071461\n",
      " 4.20409027 5.2179977  4.61349921 5.05958249 5.03233296 4.31972221\n",
      " 4.23961968 4.42012443 4.22780972 4.48441746 4.87314067 4.69680743\n",
      " 4.42464688 5.09386886 4.86049123 3.99929681 4.80045571 4.59782557\n",
      " 4.74447047 4.66308642 5.03959324 4.69301342 4.80045571 5.0593972\n",
      " 4.34101083 4.48079234 4.31849221 4.20230591 5.54701496 4.47765284\n",
      " 4.08281459 4.98773496 4.9415964  4.63546114 4.66094143 4.53865343\n",
      " 4.49555336 4.50444225 4.46514277 3.86902766 5.37348816 4.53072842\n",
      " 4.15301096 4.80097646 3.81575681 4.94873721 4.67379664 4.0895446\n",
      " 5.02487562 4.00749298 4.84639041 4.47660586 4.71142229 4.54312668]\n"
     ]
    }
   ],
   "source": [
    "mean_inflammation, std_inflammation = np.mean(data, axis = 1), np.std(data, axis = 1)\n",
    "print('average inflammation for each patient is: ', mean_inflammation)\n",
    "print('standard deviation of inflammation for each patient is: ', std_inflammation)"
   ]
  },
  {
   "cell_type": "markdown",
   "metadata": {},
   "source": [
    "### Loading multiple files into Python\n",
    "\n",
    "We need to process all our data files, and there is a better way to call by using the `glob` library.\n",
    "\n",
    "The `glob` library contains a function, also called glob, that finds files and directories whose names match a pattern which we can define using wildcarts as we learned in the bash lesson. We can use this to get the names of all the CSV files in the current directory:"
   ]
  },
  {
   "cell_type": "code",
   "execution_count": 1,
   "metadata": {},
   "outputs": [
    {
     "name": "stdout",
     "output_type": "stream",
     "text": [
      "['data\\\\inflammation-01.csv', 'data\\\\inflammation-02.csv', 'data\\\\inflammation-03.csv']\n"
     ]
    }
   ],
   "source": [
    "import glob\n",
    "print(glob.glob('data/inflammation*.csv'))"
   ]
  },
  {
   "cell_type": "markdown",
   "metadata": {},
   "source": [
    "Let's say we want to compute the average of inflammation bouts for each patient for each of the inflammation datasets.  We can use the result of calling `glob` which is a list of file and directory paths.\n",
    "\n",
    "This means we can loop over it to execute the function we desire on each filename in turn."
   ]
  },
  {
   "cell_type": "code",
   "execution_count": 32,
   "metadata": {},
   "outputs": [
    {
     "name": "stdout",
     "output_type": "stream",
     "text": [
      "data\\inflammation-01.csv\n",
      "Average inflammation per patient:\n",
      " [5.45  5.425 6.1   5.9   5.55  6.225 5.975 6.65  6.625 6.525 6.775 5.8\n",
      " 6.225 5.75  5.225 6.3   6.55  5.7   5.85  6.55  5.775 5.825 6.175 6.1\n",
      " 5.8   6.425 6.05  6.025 6.175 6.55  6.175 6.35  6.725 6.125 7.075 5.725\n",
      " 5.925 6.15  6.075 5.75  5.975 5.725 6.3   5.9   6.75  5.925 7.225 6.15\n",
      " 5.95  6.275 5.7   6.1   6.825 5.975 6.725 5.7   6.25  6.4   7.05  5.9  ]\n",
      "data\\inflammation-02.csv\n",
      "Average inflammation per patient:\n",
      " [6.35  5.7   5.9   5.325 6.05  5.675 6.25  5.425 5.35  5.675 5.95  6.375\n",
      " 5.475 6.075 6.35  5.725 6.025 6.025 6.    5.975 6.15  5.975 6.125 6.55\n",
      " 6.25  6.725 5.325 5.15  6.    6.3   6.25  5.8   5.475 6.125 6.075 5.4\n",
      " 6.075 5.45  6.175 6.2   6.175 6.1   5.725 6.375 6.025 5.8   5.8   6.825\n",
      " 6.25  5.35  5.575 6.    5.1   5.475 6.9   6.025 6.025 6.55  7.2   6.925]\n",
      "data\\inflammation-03.csv\n",
      "Average inflammation per patient:\n",
      " [4.    4.225 3.9   3.7   4.075 3.95  4.55  3.45  3.975 4.525 4.425 4.225\n",
      " 3.85  4.925 4.5   3.225 4.4   4.275 4.5   4.125 4.7   5.9   3.975 4.\n",
      " 5.275 4.075 4.475 3.7   3.775 3.7   3.925 4.525 4.125 4.025 4.1   4.675\n",
      " 5.025 4.9   4.7   4.75  3.975 5.325 3.925 4.4   4.35  4.65  4.1   4.\n",
      " 4.4   4.575 3.9   4.65  3.725 4.    4.    5.2   4.325 3.575 4.075 0.   ]\n"
     ]
    }
   ],
   "source": [
    "#note that we put these here so that this cell is standalone, \n",
    "#but you don't need to repeat import as long as it is run once in the notebook\n",
    "# and that the kernel has not been restarted \n",
    "\n",
    "import glob \n",
    "import numpy as np\n",
    "\n",
    "# note: the list from glob is not necessarily sorted alphabetically, so we may like to use sorted\n",
    "filenames = sorted(glob.glob('data/inflammation*.csv'))[:3] \n",
    "\n",
    "for filename in filenames:\n",
    "    print(filename)\n",
    "    \n",
    "    # note this time we used the keyword fname used by numpy \n",
    "    # but it's not necessary since we put the filename first (in it's default position)\n",
    "    data = np.loadtxt(fname=filename, delimiter=',')     \n",
    "    mean_inflamamtion_per_patient = np.mean(data, axis = 1)\n",
    "    \n",
    "    print('Average inflammation per patient:\\n', mean_inflamamtion_per_patient)"
   ]
  },
  {
   "cell_type": "markdown",
   "metadata": {},
   "source": [
    "Tip: In numpy, when getting summary statistics mean, max or min along an axis (i.e. along the rows, or along the columns), we need to take care to choose the right axis along which to apply the operation depending on what our goal is. \n",
    "![](http://swcarpentry.github.io/python-novice-inflammation/fig/python-operations-across-axes.png)"
   ]
  },
  {
   "cell_type": "markdown",
   "metadata": {},
   "source": [
    "## Generating one dataset from multiple files\n",
    "\n",
    "Let's assume we want to put all the datasets together, here's a way to do it:"
   ]
  },
  {
   "cell_type": "code",
   "execution_count": 19,
   "metadata": {},
   "outputs": [
    {
     "data": {
      "text/plain": [
       "(60, 120)"
      ]
     },
     "execution_count": 19,
     "metadata": {},
     "output_type": "execute_result"
    }
   ],
   "source": [
    "filenames = glob.glob('data/inflammation*.csv')\n",
    "\n",
    "# note that we have to allocate an empty array with the right dimensions\n",
    "data_all_concat = np.empty([60,0]) \n",
    "for filename in filenames:\n",
    "    data = np.loadtxt(fname = filename, delimiter=',')\n",
    "    data_all_concat = np.append(data_all_concat, data, axis=1)\n",
    "\n",
    "# i.e. 60 patients x 120 days \n",
    "data_all_concat.shape"
   ]
  },
  {
   "cell_type": "code",
   "execution_count": 33,
   "metadata": {},
   "outputs": [
    {
     "data": {
      "text/plain": [
       "(60, 40, 3)"
      ]
     },
     "execution_count": 33,
     "metadata": {},
     "output_type": "execute_result"
    }
   ],
   "source": [
    "# we may not want to concatenate them, but add them as a seperate dimension\n",
    "\n",
    "# note that we have to allocate an empty array with the right dimensions\n",
    "data_all_stacked = np.empty([60,40,0]) \n",
    "for filename in filenames:\n",
    "    data = np.loadtxt(fname = filename, delimiter=',')\n",
    "    data_all_stacked = np.dstack((data_all_stacked, data))\n",
    "\n",
    "# i.e. patients X days X sessions/files\n",
    "data_all_stacked.shape"
   ]
  },
  {
   "cell_type": "markdown",
   "metadata": {},
   "source": [
    "## Visualizing \n",
    "\n",
    "Let's take advantage of plotting the results of what we are doing to understand better. \n",
    "\n",
    "**NOTE: We will learn more on visualizing in later lessons, this is only to demo what the data looks like. \n",
    "Don't worry if the syntax looks strange and it doesn't make much sense right now.**\n",
    "\n",
    "Here we are using the `matplotlib` library (which is the basis of Searborn library which we later use). \n",
    "\n",
    "We can add plotting of some stats of the inflamation over all patients in each dataset, within the loop that we call the files:"
   ]
  },
  {
   "cell_type": "code",
   "execution_count": 53,
   "metadata": {},
   "outputs": [
    {
     "name": "stdout",
     "output_type": "stream",
     "text": [
      "data\\inflammation-01.csv\n"
     ]
    },
    {
     "data": {
      "image/png": "[encoded data removed]",
      "text/plain": [
       "<Figure size 720x216 with 3 Axes>"
      ]
     },
     "metadata": {
      "needs_background": "light"
     },
     "output_type": "display_data"
    },
    {
     "name": "stdout",
     "output_type": "stream",
     "text": [
      "data\\inflammation-02.csv\n"
     ]
    },
    {
     "data": {
      "image/png": "[encoded data removed]",
      "text/plain": [
       "<Figure size 720x216 with 3 Axes>"
      ]
     },
     "metadata": {
      "needs_background": "light"
     },
     "output_type": "display_data"
    },
    {
     "name": "stdout",
     "output_type": "stream",
     "text": [
      "data\\inflammation-03.csv\n"
     ]
    },
    {
     "data": {
      "image/png": "[encoded data removed]",
      "text/plain": [
       "<Figure size 720x216 with 3 Axes>"
      ]
     },
     "metadata": {
      "needs_background": "light"
     },
     "output_type": "display_data"
    }
   ],
   "source": [
    "# plot the average over all patients for each dataset \n",
    "import matplotlib.pyplot as plt\n",
    "%matplotlib inline\n",
    "\n",
    "for filename in filenames:\n",
    "    print(filename)\n",
    "\n",
    "    data = np.loadtxt(fname=filename, delimiter=',')\n",
    "    fig = plt.figure(figsize=(10.0, 3.0))\n",
    "\n",
    "    \n",
    "    axes1 = fig.add_subplot(1, 3, 1) \n",
    "    axes2 = fig.add_subplot(1, 3, 2)\n",
    "    axes3 = fig.add_subplot(1, 3, 3)\n",
    "\n",
    "    axes1.set_ylabel('average')\n",
    "    axes1.plot(np.mean(data, axis=0))\n",
    "\n",
    "    axes2.set_ylabel('max')\n",
    "    axes2.plot(np.max(data, axis=0))\n",
    "\n",
    "    axes3.set_ylabel('min')\n",
    "    axes3.plot(np.min(data, axis=0))\n",
    "\n",
    "    fig.tight_layout()\n",
    "    plt.show()\n"
   ]
  },
  {
   "cell_type": "markdown",
   "metadata": {},
   "source": [
    "> ## Challenge 4\n",
    ">\n",
    "> repeat the same plotting using `data_all_stacked` that we made above. \n",
    "> you can use the code for plotting as it is, you only need to know how to slice and access the data in data_all_stacked. "
   ]
  },
  {
   "cell_type": "code",
   "execution_count": 36,
   "metadata": {},
   "outputs": [
    {
     "data": {
      "image/png": "[encoded data removed]",
      "text/plain": [
       "<matplotlib.figure.Figure at 0x2947ebcce80>"
      ]
     },
     "metadata": {
      "needs_background": "light"
     },
     "output_type": "display_data"
    },
    {
     "data": {
      "image/png": "[encoded data removed]",
      "text/plain": [
       "<matplotlib.figure.Figure at 0x2947ecb9b70>"
      ]
     },
     "metadata": {
      "needs_background": "light"
     },
     "output_type": "display_data"
    },
    {
     "data": {
      "image/png": "[encoded data removed]",
      "text/plain": [
       "<matplotlib.figure.Figure at 0x2947eb2c278>"
      ]
     },
     "metadata": {
      "needs_background": "light"
     },
     "output_type": "display_data"
    }
   ],
   "source": [
    "import matplotlib.pyplot as plt\n",
    "%matplotlib inline\n",
    "\n",
    "for f in (0,1,2):\n",
    "    fig = plt.figure(figsize=(10.0, 3.0))\n",
    "\n",
    "\n",
    "    axes1 = fig.add_subplot(1, 3, 1) \n",
    "    axes2 = fig.add_subplot(1, 3, 2)\n",
    "    axes3 = fig.add_subplot(1, 3, 3)\n",
    "\n",
    "    data = data_all_stacked[:,:,f]\n",
    "    axes1.set_ylabel('average')\n",
    "    axes1.plot(np.mean(data, axis=0))\n",
    "\n",
    "    axes2.set_ylabel('max')\n",
    "    axes2.plot(np.max(data, axis=0))\n",
    "\n",
    "    axes3.set_ylabel('min')\n",
    "    axes3.plot(np.min(data, axis=0))\n",
    "\n",
    "    fig.tight_layout()\n",
    "    plt.show()\n"
   ]
  },
  {
   "cell_type": "markdown",
   "metadata": {},
   "source": [
    "## Acknowledgment: \n",
    "    parts adapted from:\n",
    "        https://github.com/UofTCoders/studyGroup/blob/gh-pages/lessons/python/classes/lesson.md\n",
    "        http://swcarpentry.github.io/python-novice-inflammation/06-files/index.html\n",
    "        \n",
    "            "
   ]
  }
 ],
 "metadata": {
  "kernelspec": {
   "display_name": "Python 3",
   "language": "python",
   "name": "python3"
  },
  "language_info": {
   "codemirror_mode": {
    "name": "ipython",
    "version": 3
   },
   "file_extension": ".py",
   "mimetype": "text/x-python",
   "name": "python",
   "nbconvert_exporter": "python",
   "pygments_lexer": "ipython3",
   "version": "3.6.5"
  }
 },
 "nbformat": 4,
 "nbformat_minor": 4
}
