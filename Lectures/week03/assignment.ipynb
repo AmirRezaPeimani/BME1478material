{
 "cells": [
  {
   "cell_type": "markdown",
   "metadata": {},
   "source": [
    "# Assignment #3, Introduction to Python:\n",
    "\n",
    "1. Simulate bacterial population size data that follows an exponential growth.\n",
    "\n",
    "a. Set the initial population, 100, in a variable named `N0`. The growth rate, `rate`, is 0.4. (0.5 marks)   \n",
    "b. Use the suitable numpy function to generate an array of time points from 0 to 10 seconds, in 0.2 second increments and store the result in a variable called `t`. (0.5 marks)  \n",
    "c. In a variable named `population_size`, calculate the population of the colony at the time points in t, using the exponential growth function.    \n",
    "    Reminder, the formula for exponential growth is:\n",
    "\n",
    "population_size = $ N_0e^{rt} $\n",
    "\n",
    "where e is the exponential function (in Python, Numpy has an exponentioal function to calculate this), `r` is the rate, and `t` is time. Print `population_size`, it output should be an array of bacterial population size for each time point in `t`. (1 mark)\n",
    "\n",
    "d. In a a new variable called `population_size_noise`, use the same expression you wrote in (c), and add noise to the population at each time point. Do this by adding an expression that generates a random value for each time point drawn from a normal distribution of `mean=0` and `stdev 250`. Try using the Numpy function for normal distribution. It should look something like:\n",
    "\n",
    "        population_size_noise = expression_from_part_a + expression_to_add_noise\n",
    "       \n",
    "(1 mark)\n",
    "\n",
    "2. Let's assume we don't know the rate of the population growth, but we do have the data of the population size across time. Using the data you simulated in `population_size_noise`, estimate the rate by iterating over a range of parameter values and choosing the one with the best fit to the data.  \n",
    "    a. In a variable called `range_rate`, define a range of parameters to try from 0.1, up to and including 1, of step size 0.1 (0.5 marks)  \n",
    "    b. Write a function called `squared_error` to take the predicted data from a given growth rate, and the observed data to evaluate quality of the fit. It should take two parameters, and return one value, the mean squared error:  \n",
    "        Input arguments  \n",
    "        - prediction: an array of the predicted data  \n",
    "        - data: an array of the observed data  \n",
    "        Output arguments  \n",
    "        - mse: a float containing the calculated mean square error\n",
    "    \n",
    "    Fill in the blanks with the missing code to complete this question, (i.e. remove all ___ with your code) (1 mark)\n",
    "    ```\n",
    "    def _____(_____):\n",
    "        residual = _____ # the difference between our prediction and data\n",
    "        mse = _____ # use the residual to calculate the mean squared error\n",
    "        _____ # return the result\n",
    "    ```\n",
    "    c. Now that we have a way to test the fit of our estimation, use the function we wrote in (b) to iterate over `range_rate` to find the value with the smallest error.\n",
    "    Fill in the blanks with the missing code to complete this question, (i.e. remove all ___ with your code) (1.5 marks)\n",
    "\n",
    "    ```\n",
    "    mse = [] # initialize a list to store our results\n",
    "    for _____ in _____:\n",
    "        prediction = _____\n",
    "        error = _____\n",
    "        mse._____(_____)\n",
    "\n",
    "    # find the index of the minimum value in mse\n",
    "    idx_min_mse = _____\n",
    "    # use the index of the min value in mse to obtain the corresponding rate\n",
    "    # remember the arrays are the same size, and generated in order when iterating over range_rates\n",
    "    best_fit = _____\n",
    "\n",
    "    print('We predict the rate of growth of this bacterial population to be',best_fit)\n",
    "    ```\n",
    "    \n",
    "**remember that your code should be fully commented meaning that every section and line should be preceded by a comment that describes what the next line performs**"
   ]
  },
  {
   "cell_type": "markdown",
   "metadata": {},
   "source": [
    "## Answer"
   ]
  },
  {
   "cell_type": "code",
   "execution_count": 1,
   "metadata": {},
   "outputs": [],
   "source": [
    "import numpy as np"
   ]
  },
  {
   "cell_type": "code",
   "execution_count": 3,
   "metadata": {},
   "outputs": [
    {
     "data": {
      "text/plain": [
       "array([ 100.        ,  374.83302561,  399.97091053,  386.46432581,\n",
       "         58.58829079,    9.4054881 ,  254.9299076 ,  335.74586606,\n",
       "       -303.40148145,  231.7345187 ,  273.49869733,  338.20750633,\n",
       "        618.46529361,  418.63453388,  370.95411672,  635.6625624 ,\n",
       "        199.42227256,  510.04532998,   74.26147877,  846.02227328,\n",
       "        874.95937381,  250.06910067,  536.74865455,  652.18621041,\n",
       "        363.63702546,  988.90073634, 1009.58197605, 1384.67956341,\n",
       "         73.7155332 , 1234.28723377,  821.73460414,  990.37875286,\n",
       "       1240.55447709, 1571.43014844, 1631.47538509, 2328.64465172,\n",
       "       1518.5468463 , 1891.35945427, 2221.44186125, 2279.33845543,\n",
       "       2545.35704972, 2113.98424266, 2815.51746981, 3220.95646455,\n",
       "       3121.98445994, 3520.99936815, 3963.72418182, 4142.4198335 ,\n",
       "       4495.10208983, 4741.92752815, 5413.7472368 ])"
      ]
     },
     "execution_count": 3,
     "metadata": {},
     "output_type": "execute_result"
    }
   ],
   "source": [
    "# 1 \n",
    "# define parameters\n",
    "rate = 0.4\n",
    "N0 = 100\n",
    "\n",
    "# generate the time data\n",
    "t = np.arange(0,10.2,0.2)\n",
    "population_size = N0*np.exp(rate*t) + np.random.normal(0,250,len(t))\n",
    "population_size[0] = 100\n",
    "population_size"
   ]
  },
  {
   "cell_type": "code",
   "execution_count": 4,
   "metadata": {},
   "outputs": [
    {
     "name": "stdout",
     "output_type": "stream",
     "text": [
      "We predict the rate of growth of this bacterial population to be 0.4\n"
     ]
    }
   ],
   "source": [
    "# 2\n",
    "# define the range of parameters to try\n",
    "range_rate = np.arange(0.1, 1, 0.1)\n",
    "\n",
    "# define a function that calcualates mean squared error\n",
    "def squared_error(prediction,data):\n",
    "    residual = prediction - data\n",
    "    mse = (residual**2).mean()          #or np.sum(residual**2)\n",
    "    return mse\n",
    "\n",
    "# try the parameters and choose the one with the least squared error\n",
    "mse = []\n",
    "for r in range_rate:\n",
    "    prediction = N0*np.exp(r*t)\n",
    "    mse.append(squared_error(prediction,population_size))\n",
    "\n",
    "best_fit = range_rate[np.argmin(mse)]\n",
    "print('We predict the rate of growth of this bacterial population to be',best_fit)\n",
    "    "
   ]
  },
  {
   "cell_type": "code",
   "execution_count": 69,
   "metadata": {},
   "outputs": [
    {
     "data": {
      "image/png": "[encoded data removed]",
      "text/plain": [
       "<matplotlib.figure.Figure at 0x197cb6f6f28>"
      ]
     },
     "metadata": {
      "needs_background": "light"
     },
     "output_type": "display_data"
    }
   ],
   "source": [
    "# Only for showing in the class (not required of students)\n",
    "best_prediction = N0*np.exp(best_fit*t)\n",
    "\n",
    "import matplotlib.pyplot as plt\n",
    "%matplotlib inline\n",
    "plt.plot(t,population_size);\n",
    "plt.plot(t,best_prediction);"
   ]
  }
 ],
 "metadata": {
  "kernelspec": {
   "display_name": "Python 3",
   "language": "python",
   "name": "python3"
  },
  "language_info": {
   "codemirror_mode": {
    "name": "ipython",
    "version": 3
   },
   "file_extension": ".py",
   "mimetype": "text/x-python",
   "name": "python",
   "nbconvert_exporter": "python",
   "pygments_lexer": "ipython3",
   "version": "3.6.5"
  }
 },
 "nbformat": 4,
 "nbformat_minor": 4
}
