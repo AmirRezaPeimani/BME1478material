{
 "cells": [
  {
   "cell_type": "code",
   "execution_count": 3,
   "metadata": {},
   "outputs": [],
   "source": [
    "import pandas as pd\n",
    "from pathlib import Path"
   ]
  },
  {
   "cell_type": "code",
   "execution_count": 4,
   "metadata": {},
   "outputs": [],
   "source": [
    "DATA_DIR = Path('../data/raw')"
   ]
  },
  {
   "cell_type": "code",
   "execution_count": 3,
   "metadata": {},
   "outputs": [],
   "source": [
    "world_data = pd.read_csv('../data/processed/final-assignment-gapminder.csv')"
   ]
  },
  {
   "cell_type": "code",
   "execution_count": 22,
   "metadata": {},
   "outputs": [],
   "source": [
    "def process_raw_csv(filename, value_name):\n",
    "    dt = pd.read_csv(filename)\n",
    "    if 'country' not in dt.columns:\n",
    "        try:\n",
    "            dt = dt.rename(columns={'geo': 'country'})\n",
    "        except:\n",
    "            print(\"no geo column\")\n",
    "            print(dt.columns)\n",
    "    dtMlt = dt.melt(id_vars='country', var_name='year', value_name=value_name)\n",
    "    dtMlt['year'] = dtMlt['year'].astype(int)\n",
    "    dtMlt = dtMlt.loc[dtMlt['year'] > 1950] # exlude pre1950\n",
    "    print(dtMlt.head(2))\n",
    "    return dtMlt"
   ]
  },
  {
   "cell_type": "code",
   "execution_count": 23,
   "metadata": {},
   "outputs": [
    {
     "name": "stdout",
     "output_type": "stream",
     "text": [
      "           country  year  population\n",
      "29445  Afghanistan  1951     7840000\n",
      "29446      Albania  1951     1290000\n"
     ]
    }
   ],
   "source": [
    "pop_melt = process_raw_csv(DATA_DIR / 'population_total.csv', 'population')"
   ]
  },
  {
   "cell_type": "code",
   "execution_count": 24,
   "metadata": {},
   "outputs": [
    {
     "name": "stdout",
     "output_type": "stream",
     "text": [
      "       country  year  malnutrition_children\n",
      "0  Afghanistan  1983                    NaN\n",
      "1      Albania  1983                    NaN\n"
     ]
    }
   ],
   "source": [
    "malnutrition = process_raw_csv(DATA_DIR / 'malnutrition_weight_for_age_percent_of_children_under_5.csv', 'malnutrition_children')"
   ]
  },
  {
   "cell_type": "code",
   "execution_count": 54,
   "metadata": {},
   "outputs": [
    {
     "name": "stdout",
     "output_type": "stream",
     "text": [
      "       country  year  underweight_children\n",
      "0  Afghanistan  1970                   NaN\n",
      "1      Albania  1970                   NaN\n"
     ]
    }
   ],
   "source": [
    "# percent of children under 5 years old that are 2 stdev under average weight\n",
    "underweight = process_raw_csv(DATA_DIR / 'underweight_children.csv', 'underweight_children')"
   ]
  },
  {
   "cell_type": "code",
   "execution_count": 25,
   "metadata": {},
   "outputs": [
    {
     "name": "stdout",
     "output_type": "stream",
     "text": [
      "           country  year  children_per_woman\n",
      "27784  Afghanistan  1951                7.56\n",
      "27785      Albania  1951                5.97\n"
     ]
    }
   ],
   "source": [
    "children_born = process_raw_csv(DATA_DIR / 'children_per_woman_total_fertility.csv', 'children_per_woman')"
   ]
  },
  {
   "cell_type": "code",
   "execution_count": 26,
   "metadata": {},
   "outputs": [
    {
     "name": "stdout",
     "output_type": "stream",
     "text": [
      "           country  year  child_mortality\n",
      "29143  Afghanistan  1951            421.0\n",
      "29144      Albania  1951            269.0\n"
     ]
    }
   ],
   "source": [
    "# child mortality = 0-5 years olds deaths per 1000 newborns\n",
    "child_mortality = process_raw_csv(DATA_DIR / 'child_mortality_0_5_year_olds_dying_per_1000_born.csv', 'child_mortality')"
   ]
  },
  {
   "cell_type": "code",
   "execution_count": 27,
   "metadata": {},
   "outputs": [
    {
     "name": "stdout",
     "output_type": "stream",
     "text": [
      "         country  year  pop_density\n",
      "195  Afghanistan  1951         12.0\n",
      "196      Albania  1951         47.0\n"
     ]
    }
   ],
   "source": [
    "# Population density\n",
    "pop_dens =  process_raw_csv(DATA_DIR / 'population_density_per_square_km.csv', 'pop_density')"
   ]
  },
  {
   "cell_type": "code",
   "execution_count": 28,
   "metadata": {},
   "outputs": [
    {
     "name": "stdout",
     "output_type": "stream",
     "text": [
      "           country  year  life_expectancy\n",
      "28237  Afghanistan  1951             32.4\n",
      "28238      Albania  1951             54.7\n"
     ]
    }
   ],
   "source": [
    "# Life expectancy\n",
    "life_exp = process_raw_csv(DATA_DIR / 'life_expectancy_years.csv', 'life_expectancy')"
   ]
  },
  {
   "cell_type": "code",
   "execution_count": 29,
   "metadata": {},
   "outputs": [
    {
     "name": "stdout",
     "output_type": "stream",
     "text": [
      "           country  year  income\n",
      "29143  Afghanistan  1951    1060\n",
      "29144      Albania  1951    2000\n"
     ]
    }
   ],
   "source": [
    "# Income per person GDP per capita\n",
    "income = process_raw_csv(DATA_DIR / 'income_per_person_gdppercapita_ppp_inflation_adjusted.csv', 'income')"
   ]
  },
  {
   "cell_type": "code",
   "execution_count": 30,
   "metadata": {},
   "outputs": [
    {
     "name": "stdout",
     "output_type": "stream",
     "text": [
      "       country  year  years_in_school_men\n",
      "0  Afghanistan  1970                 1.36\n",
      "1      Albania  1970                 6.10\n"
     ]
    }
   ],
   "source": [
    "# Education men\n",
    "education_men = process_raw_csv(DATA_DIR / 'mean_years_in_school_men_25_to_34_years.csv', 'years_in_school_men')"
   ]
  },
  {
   "cell_type": "code",
   "execution_count": 31,
   "metadata": {},
   "outputs": [
    {
     "name": "stdout",
     "output_type": "stream",
     "text": [
      "       country  year  years_in_school_women\n",
      "0  Afghanistan  1970                   0.21\n",
      "1      Albania  1970                   5.33\n"
     ]
    }
   ],
   "source": [
    "# Education women\n",
    "education_women = process_raw_csv(DATA_DIR / 'mean_years_in_school_women_25_to_34_years.csv', 'years_in_school_women')"
   ]
  },
  {
   "cell_type": "code",
   "execution_count": 32,
   "metadata": {},
   "outputs": [
    {
     "name": "stdout",
     "output_type": "stream",
     "text": [
      "       country  year  education_gender_ratio\n",
      "0  Afghanistan  1970                    15.4\n",
      "1      Albania  1970                    87.4\n"
     ]
    }
   ],
   "source": [
    "# Education percent women/men\n",
    "education_women_men = process_raw_csv(DATA_DIR / 'mean_years_in_school_women_percent_men_25_to_34_years.csv', 'education_gender_ratio')"
   ]
  },
  {
   "cell_type": "code",
   "execution_count": 33,
   "metadata": {},
   "outputs": [
    {
     "name": "stdout",
     "output_type": "stream",
     "text": [
      "       country  year  bp_men\n",
      "0  Afghanistan  1980     125\n",
      "1      Albania  1980     133\n"
     ]
    }
   ],
   "source": [
    "# Blood pressure mmhg (men)\n",
    "bp_men = process_raw_csv(DATA_DIR / 'blood_pressure_sbp_men_mmhg.csv', 'bp_men')"
   ]
  },
  {
   "cell_type": "code",
   "execution_count": 34,
   "metadata": {},
   "outputs": [
    {
     "name": "stdout",
     "output_type": "stream",
     "text": [
      "       country  year  bp_women\n",
      "0  Afghanistan  1980       122\n",
      "1      Albania  1980       132\n"
     ]
    }
   ],
   "source": [
    "# Blood pressure mmhg (women)\n",
    "bp_women = process_raw_csv(DATA_DIR / 'blood_pressure_sbp_women_mmhg.csv', 'bp_women')"
   ]
  },
  {
   "cell_type": "code",
   "execution_count": 35,
   "metadata": {},
   "outputs": [
    {
     "name": "stdout",
     "output_type": "stream",
     "text": [
      "       country  year  gov_health_spending\n",
      "0  Afghanistan  1995                  NaN\n",
      "1      Albania  1995                 13.9\n"
     ]
    }
   ],
   "source": [
    "health_spending_pp = process_raw_csv(DATA_DIR / 'government_health_spending_per_person_us.csv', 'gov_health_spending')"
   ]
  },
  {
   "cell_type": "code",
   "execution_count": 36,
   "metadata": {},
   "outputs": [
    {
     "name": "stdout",
     "output_type": "stream",
     "text": [
      "       country  year  gov_health_spending_ratio\n",
      "0  Afghanistan  1995                        NaN\n",
      "1      Albania  1995                       2.56\n"
     ]
    }
   ],
   "source": [
    "# Total health spending as percent of GDP\n",
    "health_budget = process_raw_csv(DATA_DIR / 'total_health_spending_percent_of_gdp.csv', 'gov_health_spending_ratio')"
   ]
  },
  {
   "cell_type": "code",
   "execution_count": 37,
   "metadata": {},
   "outputs": [
    {
     "name": "stdout",
     "output_type": "stream",
     "text": [
      "           country  year  maternal_deaths_total\n",
      "27784  Afghanistan  1951                    NaN\n",
      "27785      Albania  1951                    NaN\n"
     ]
    }
   ],
   "source": [
    "# maternal deaths within 42 days of birth, total number\n",
    "maternal_deaths_total = process_raw_csv(DATA_DIR / 'maternal_deaths_total_number.csv',\n",
    "                                      'maternal_deaths_total')"
   ]
  },
  {
   "cell_type": "code",
   "execution_count": 38,
   "metadata": {},
   "outputs": [
    {
     "name": "stdout",
     "output_type": "stream",
     "text": [
      "           country  year  maternal_mortality_ratio\n",
      "28237  Afghanistan  1951                       NaN\n",
      "28238      Albania  1951                       NaN\n"
     ]
    }
   ],
   "source": [
    "# maternal deaths within 42 days of birth, ratio per 100,000 live births\n",
    "maternal_mortality_ratio = process_raw_csv(DATA_DIR / 'maternal_mortality_ratio_per_100000_live_births.csv', 'maternal_mortality_ratio')"
   ]
  },
  {
   "cell_type": "code",
   "execution_count": 39,
   "metadata": {},
   "outputs": [
    {
     "name": "stdout",
     "output_type": "stream",
     "text": [
      "       country  year  births_by_health_staff\n",
      "0  Afghanistan  1984                     NaN\n",
      "1      Albania  1984                     NaN\n"
     ]
    }
   ],
   "source": [
    "# percent of births attended to by skilled health professionals\n",
    "births_skilled = process_raw_csv(DATA_DIR / 'births_attended_by_skilled_health_staff_percent_of_total.csv',\n",
    "                                 'births_by_health_staff')"
   ]
  },
  {
   "cell_type": "code",
   "execution_count": 40,
   "metadata": {},
   "outputs": [
    {
     "name": "stdout",
     "output_type": "stream",
     "text": [
      "       country  year  contraceptive_use_percent_women\n",
      "0  Afghanistan  1984                              NaN\n",
      "1      Albania  1984                              NaN\n"
     ]
    }
   ],
   "source": [
    "# maternal deaths within 42 days of birth, total number\n",
    "contraceptive_use = process_raw_csv(DATA_DIR / 'births_attended_by_skilled_health_staff_percent_of_total.csv',\n",
    "                                    'contraceptive_use_percent_women')"
   ]
  },
  {
   "cell_type": "code",
   "execution_count": 41,
   "metadata": {},
   "outputs": [
    {
     "name": "stdout",
     "output_type": "stream",
     "text": [
      "       country  year  sugar_intake_daily\n",
      "0  Afghanistan  1961                14.4\n",
      "1      Albania  1961                31.0\n"
     ]
    }
   ],
   "source": [
    "# sugar (g) per person per day\n",
    "sugar_intake = process_raw_csv(DATA_DIR / 'sugar_per_person_g_per_day.csv', 'sugar_intake_daily')"
   ]
  },
  {
   "cell_type": "code",
   "execution_count": 42,
   "metadata": {},
   "outputs": [
    {
     "data": {
      "text/html": [
       "<div>\n",
       "<style scoped>\n",
       "    .dataframe tbody tr th:only-of-type {\n",
       "        vertical-align: middle;\n",
       "    }\n",
       "\n",
       "    .dataframe tbody tr th {\n",
       "        vertical-align: top;\n",
       "    }\n",
       "\n",
       "    .dataframe thead th {\n",
       "        text-align: right;\n",
       "    }\n",
       "</style>\n",
       "<table border=\"1\" class=\"dataframe\">\n",
       "  <thead>\n",
       "    <tr style=\"text-align: right;\">\n",
       "      <th></th>\n",
       "      <th>country</th>\n",
       "      <th>Code</th>\n",
       "      <th>Region</th>\n",
       "      <th>income_group</th>\n",
       "    </tr>\n",
       "  </thead>\n",
       "  <tbody>\n",
       "    <tr>\n",
       "      <th>0</th>\n",
       "      <td>Afghanistan</td>\n",
       "      <td>AFG</td>\n",
       "      <td>South Asia</td>\n",
       "      <td>Low</td>\n",
       "    </tr>\n",
       "    <tr>\n",
       "      <th>1</th>\n",
       "      <td>Albania</td>\n",
       "      <td>ALB</td>\n",
       "      <td>Europe &amp; Central Asia</td>\n",
       "      <td>Upper middle</td>\n",
       "    </tr>\n",
       "    <tr>\n",
       "      <th>2</th>\n",
       "      <td>Algeria</td>\n",
       "      <td>DZA</td>\n",
       "      <td>Middle East &amp; North Africa</td>\n",
       "      <td>Upper middle</td>\n",
       "    </tr>\n",
       "    <tr>\n",
       "      <th>3</th>\n",
       "      <td>American Samoa</td>\n",
       "      <td>ASM</td>\n",
       "      <td>East Asia &amp; Pacific</td>\n",
       "      <td>Upper middle</td>\n",
       "    </tr>\n",
       "    <tr>\n",
       "      <th>4</th>\n",
       "      <td>Andorra</td>\n",
       "      <td>AND</td>\n",
       "      <td>Europe &amp; Central Asia</td>\n",
       "      <td>High</td>\n",
       "    </tr>\n",
       "  </tbody>\n",
       "</table>\n",
       "</div>"
      ],
      "text/plain": [
       "          country Code                      Region  income_group\n",
       "0     Afghanistan  AFG                  South Asia           Low\n",
       "1         Albania  ALB       Europe & Central Asia  Upper middle\n",
       "2         Algeria  DZA  Middle East & North Africa  Upper middle\n",
       "3  American Samoa  ASM         East Asia & Pacific  Upper middle\n",
       "4         Andorra  AND       Europe & Central Asia          High"
      ]
     },
     "execution_count": 42,
     "metadata": {},
     "output_type": "execute_result"
    }
   ],
   "source": [
    "# Income groups world bank 2018\n",
    "# temp_df['Income group'] = temp_df['Income group'].str.rpartition()[0]\n",
    "# temp_df.drop('X', axis=1).to_csv('../data/raw/income-group.csv', index=False)\n",
    "income_group = pd.read_csv('../data/raw/income-group.csv')\n",
    "income_group = income_group.rename(columns={'Economy': 'country', 'Income group': 'income_group'})\n",
    "income_group.head()"
   ]
  },
  {
   "cell_type": "code",
   "execution_count": 43,
   "metadata": {},
   "outputs": [
    {
     "data": {
      "text/html": [
       "<div>\n",
       "<style scoped>\n",
       "    .dataframe tbody tr th:only-of-type {\n",
       "        vertical-align: middle;\n",
       "    }\n",
       "\n",
       "    .dataframe tbody tr th {\n",
       "        vertical-align: top;\n",
       "    }\n",
       "\n",
       "    .dataframe thead th {\n",
       "        text-align: right;\n",
       "    }\n",
       "</style>\n",
       "<table border=\"1\" class=\"dataframe\">\n",
       "  <thead>\n",
       "    <tr style=\"text-align: right;\">\n",
       "      <th></th>\n",
       "      <th>country</th>\n",
       "      <th>alpha-2</th>\n",
       "      <th>alpha-3</th>\n",
       "      <th>country-code</th>\n",
       "      <th>iso_3166-2</th>\n",
       "      <th>region</th>\n",
       "      <th>sub_region</th>\n",
       "      <th>intermediate-region</th>\n",
       "      <th>region-code</th>\n",
       "      <th>sub-region-code</th>\n",
       "      <th>intermediate-region-code</th>\n",
       "    </tr>\n",
       "  </thead>\n",
       "  <tbody>\n",
       "    <tr>\n",
       "      <th>0</th>\n",
       "      <td>Afghanistan</td>\n",
       "      <td>AF</td>\n",
       "      <td>AFG</td>\n",
       "      <td>4</td>\n",
       "      <td>ISO 3166-2:AF</td>\n",
       "      <td>Asia</td>\n",
       "      <td>Southern Asia</td>\n",
       "      <td>NaN</td>\n",
       "      <td>142.0</td>\n",
       "      <td>34.0</td>\n",
       "      <td>NaN</td>\n",
       "    </tr>\n",
       "    <tr>\n",
       "      <th>1</th>\n",
       "      <td>Åland Islands</td>\n",
       "      <td>AX</td>\n",
       "      <td>ALA</td>\n",
       "      <td>248</td>\n",
       "      <td>ISO 3166-2:AX</td>\n",
       "      <td>Europe</td>\n",
       "      <td>Northern Europe</td>\n",
       "      <td>NaN</td>\n",
       "      <td>150.0</td>\n",
       "      <td>154.0</td>\n",
       "      <td>NaN</td>\n",
       "    </tr>\n",
       "    <tr>\n",
       "      <th>2</th>\n",
       "      <td>Albania</td>\n",
       "      <td>AL</td>\n",
       "      <td>ALB</td>\n",
       "      <td>8</td>\n",
       "      <td>ISO 3166-2:AL</td>\n",
       "      <td>Europe</td>\n",
       "      <td>Southern Europe</td>\n",
       "      <td>NaN</td>\n",
       "      <td>150.0</td>\n",
       "      <td>39.0</td>\n",
       "      <td>NaN</td>\n",
       "    </tr>\n",
       "    <tr>\n",
       "      <th>3</th>\n",
       "      <td>Algeria</td>\n",
       "      <td>DZ</td>\n",
       "      <td>DZA</td>\n",
       "      <td>12</td>\n",
       "      <td>ISO 3166-2:DZ</td>\n",
       "      <td>Africa</td>\n",
       "      <td>Northern Africa</td>\n",
       "      <td>NaN</td>\n",
       "      <td>2.0</td>\n",
       "      <td>15.0</td>\n",
       "      <td>NaN</td>\n",
       "    </tr>\n",
       "    <tr>\n",
       "      <th>4</th>\n",
       "      <td>American Samoa</td>\n",
       "      <td>AS</td>\n",
       "      <td>ASM</td>\n",
       "      <td>16</td>\n",
       "      <td>ISO 3166-2:AS</td>\n",
       "      <td>Oceania</td>\n",
       "      <td>Polynesia</td>\n",
       "      <td>NaN</td>\n",
       "      <td>9.0</td>\n",
       "      <td>61.0</td>\n",
       "      <td>NaN</td>\n",
       "    </tr>\n",
       "  </tbody>\n",
       "</table>\n",
       "</div>"
      ],
      "text/plain": [
       "          country alpha-2 alpha-3  country-code     iso_3166-2   region  \\\n",
       "0     Afghanistan      AF     AFG             4  ISO 3166-2:AF     Asia   \n",
       "1   Åland Islands      AX     ALA           248  ISO 3166-2:AX   Europe   \n",
       "2         Albania      AL     ALB             8  ISO 3166-2:AL   Europe   \n",
       "3         Algeria      DZ     DZA            12  ISO 3166-2:DZ   Africa   \n",
       "4  American Samoa      AS     ASM            16  ISO 3166-2:AS  Oceania   \n",
       "\n",
       "        sub_region intermediate-region  region-code  sub-region-code  \\\n",
       "0    Southern Asia                 NaN        142.0             34.0   \n",
       "1  Northern Europe                 NaN        150.0            154.0   \n",
       "2  Southern Europe                 NaN        150.0             39.0   \n",
       "3  Northern Africa                 NaN          2.0             15.0   \n",
       "4        Polynesia                 NaN          9.0             61.0   \n",
       "\n",
       "   intermediate-region-code  \n",
       "0                       NaN  \n",
       "1                       NaN  \n",
       "2                       NaN  \n",
       "3                       NaN  \n",
       "4                       NaN  "
      ]
     },
     "execution_count": 43,
     "metadata": {},
     "output_type": "execute_result"
    }
   ],
   "source": [
    "country_regions = pd.read_csv('../data/raw/countries-regions.csv')\n",
    "country_regions = country_regions.rename(columns={'name': 'country', 'sub-region': 'sub_region'})\n",
    "country_regions.head()"
   ]
  },
  {
   "cell_type": "markdown",
   "metadata": {},
   "source": [
    "Fix country names to be the same from different sources... yawn..."
   ]
  },
  {
   "cell_type": "code",
   "execution_count": 44,
   "metadata": {},
   "outputs": [
    {
     "data": {
      "text/plain": [
       "(190,)"
      ]
     },
     "execution_count": 44,
     "metadata": {},
     "output_type": "execute_result"
    }
   ],
   "source": [
    "health_budget['country'].unique().shape"
   ]
  },
  {
   "cell_type": "code",
   "execution_count": 46,
   "metadata": {},
   "outputs": [
    {
     "data": {
      "text/plain": [
       "(218,)"
      ]
     },
     "execution_count": 46,
     "metadata": {},
     "output_type": "execute_result"
    }
   ],
   "source": [
    "income_group['country'].shape"
   ]
  },
  {
   "cell_type": "code",
   "execution_count": 47,
   "metadata": {},
   "outputs": [
    {
     "data": {
      "text/plain": [
       "(195,)"
      ]
     },
     "execution_count": 47,
     "metadata": {},
     "output_type": "execute_result"
    }
   ],
   "source": [
    "pop_melt['country'].unique().shape"
   ]
  },
  {
   "cell_type": "markdown",
   "metadata": {},
   "source": [
    "## Normalize names of the population regions data frame to the melted data frames"
   ]
  },
  {
   "cell_type": "code",
   "execution_count": 48,
   "metadata": {},
   "outputs": [
    {
     "data": {
      "text/html": [
       "<div>\n",
       "<style scoped>\n",
       "    .dataframe tbody tr th:only-of-type {\n",
       "        vertical-align: middle;\n",
       "    }\n",
       "\n",
       "    .dataframe tbody tr th {\n",
       "        vertical-align: top;\n",
       "    }\n",
       "\n",
       "    .dataframe thead th {\n",
       "        text-align: right;\n",
       "    }\n",
       "</style>\n",
       "<table border=\"1\" class=\"dataframe\">\n",
       "  <thead>\n",
       "    <tr style=\"text-align: right;\">\n",
       "      <th></th>\n",
       "      <th>country</th>\n",
       "      <th>population</th>\n",
       "    </tr>\n",
       "  </thead>\n",
       "  <tbody>\n",
       "    <tr>\n",
       "      <th>42530</th>\n",
       "      <td>Bolivia</td>\n",
       "      <td>11200000</td>\n",
       "    </tr>\n",
       "    <tr>\n",
       "      <th>42534</th>\n",
       "      <td>Brunei</td>\n",
       "      <td>434000</td>\n",
       "    </tr>\n",
       "    <tr>\n",
       "      <th>42541</th>\n",
       "      <td>Cape Verde</td>\n",
       "      <td>553000</td>\n",
       "    </tr>\n",
       "    <tr>\n",
       "      <th>42548</th>\n",
       "      <td>Congo, Dem. Rep.</td>\n",
       "      <td>84000000</td>\n",
       "    </tr>\n",
       "    <tr>\n",
       "      <th>42549</th>\n",
       "      <td>Congo, Rep.</td>\n",
       "      <td>5400000</td>\n",
       "    </tr>\n",
       "    <tr>\n",
       "      <th>42551</th>\n",
       "      <td>Cote d'Ivoire</td>\n",
       "      <td>24900000</td>\n",
       "    </tr>\n",
       "    <tr>\n",
       "      <th>42555</th>\n",
       "      <td>Czech Republic</td>\n",
       "      <td>10600000</td>\n",
       "    </tr>\n",
       "    <tr>\n",
       "      <th>42588</th>\n",
       "      <td>Iran</td>\n",
       "      <td>82000000</td>\n",
       "    </tr>\n",
       "    <tr>\n",
       "      <th>42600</th>\n",
       "      <td>Kyrgyz Republic</td>\n",
       "      <td>6130000</td>\n",
       "    </tr>\n",
       "    <tr>\n",
       "      <th>42601</th>\n",
       "      <td>Lao</td>\n",
       "      <td>6960000</td>\n",
       "    </tr>\n",
       "    <tr>\n",
       "      <th>42610</th>\n",
       "      <td>Macedonia, FYR</td>\n",
       "      <td>2090000</td>\n",
       "    </tr>\n",
       "    <tr>\n",
       "      <th>42621</th>\n",
       "      <td>Micronesia, Fed. Sts.</td>\n",
       "      <td>106000</td>\n",
       "    </tr>\n",
       "    <tr>\n",
       "      <th>42622</th>\n",
       "      <td>Moldova</td>\n",
       "      <td>4040000</td>\n",
       "    </tr>\n",
       "    <tr>\n",
       "      <th>42637</th>\n",
       "      <td>North Korea</td>\n",
       "      <td>25600000</td>\n",
       "    </tr>\n",
       "    <tr>\n",
       "      <th>42642</th>\n",
       "      <td>Palestine</td>\n",
       "      <td>5050000</td>\n",
       "    </tr>\n",
       "    <tr>\n",
       "      <th>42652</th>\n",
       "      <td>Russia</td>\n",
       "      <td>144000000</td>\n",
       "    </tr>\n",
       "    <tr>\n",
       "      <th>42663</th>\n",
       "      <td>Slovak Republic</td>\n",
       "      <td>5450000</td>\n",
       "    </tr>\n",
       "    <tr>\n",
       "      <th>42668</th>\n",
       "      <td>South Korea</td>\n",
       "      <td>51200000</td>\n",
       "    </tr>\n",
       "    <tr>\n",
       "      <th>42672</th>\n",
       "      <td>St. Kitts and Nevis</td>\n",
       "      <td>55900</td>\n",
       "    </tr>\n",
       "    <tr>\n",
       "      <th>42673</th>\n",
       "      <td>St. Lucia</td>\n",
       "      <td>180000</td>\n",
       "    </tr>\n",
       "    <tr>\n",
       "      <th>42674</th>\n",
       "      <td>St. Vincent and the Grenadines</td>\n",
       "      <td>110000</td>\n",
       "    </tr>\n",
       "    <tr>\n",
       "      <th>42677</th>\n",
       "      <td>Swaziland</td>\n",
       "      <td>1390000</td>\n",
       "    </tr>\n",
       "    <tr>\n",
       "      <th>42680</th>\n",
       "      <td>Syria</td>\n",
       "      <td>18300000</td>\n",
       "    </tr>\n",
       "    <tr>\n",
       "      <th>42682</th>\n",
       "      <td>Tanzania</td>\n",
       "      <td>59100000</td>\n",
       "    </tr>\n",
       "    <tr>\n",
       "      <th>42695</th>\n",
       "      <td>United Kingdom</td>\n",
       "      <td>66600000</td>\n",
       "    </tr>\n",
       "    <tr>\n",
       "      <th>42696</th>\n",
       "      <td>United States</td>\n",
       "      <td>327000000</td>\n",
       "    </tr>\n",
       "    <tr>\n",
       "      <th>42700</th>\n",
       "      <td>Venezuela</td>\n",
       "      <td>32400000</td>\n",
       "    </tr>\n",
       "    <tr>\n",
       "      <th>42701</th>\n",
       "      <td>Vietnam</td>\n",
       "      <td>96500000</td>\n",
       "    </tr>\n",
       "  </tbody>\n",
       "</table>\n",
       "</div>"
      ],
      "text/plain": [
       "                              country  population\n",
       "42530                         Bolivia    11200000\n",
       "42534                          Brunei      434000\n",
       "42541                      Cape Verde      553000\n",
       "42548                Congo, Dem. Rep.    84000000\n",
       "42549                     Congo, Rep.     5400000\n",
       "42551                   Cote d'Ivoire    24900000\n",
       "42555                  Czech Republic    10600000\n",
       "42588                            Iran    82000000\n",
       "42600                 Kyrgyz Republic     6130000\n",
       "42601                             Lao     6960000\n",
       "42610                  Macedonia, FYR     2090000\n",
       "42621           Micronesia, Fed. Sts.      106000\n",
       "42622                         Moldova     4040000\n",
       "42637                     North Korea    25600000\n",
       "42642                       Palestine     5050000\n",
       "42652                          Russia   144000000\n",
       "42663                 Slovak Republic     5450000\n",
       "42668                     South Korea    51200000\n",
       "42672             St. Kitts and Nevis       55900\n",
       "42673                       St. Lucia      180000\n",
       "42674  St. Vincent and the Grenadines      110000\n",
       "42677                       Swaziland     1390000\n",
       "42680                           Syria    18300000\n",
       "42682                        Tanzania    59100000\n",
       "42695                  United Kingdom    66600000\n",
       "42696                   United States   327000000\n",
       "42700                       Venezuela    32400000\n",
       "42701                         Vietnam    96500000"
      ]
     },
     "execution_count": 48,
     "metadata": {},
     "output_type": "execute_result"
    }
   ],
   "source": [
    "pop_melt.loc[pop_melt['year'] == 2018, ['country', 'population']].loc[~pop_melt['country'].isin(country_regions['country'])]"
   ]
  },
  {
   "cell_type": "code",
   "execution_count": 49,
   "metadata": {},
   "outputs": [],
   "source": [
    "# country_regions.loc[country_regions['country'] == 'Bahamas', 'country'] = 'Bahamas, The'\n",
    "country_regions.loc[country_regions['country'].str.startswith('Bolivia'), 'country'] = 'Bolivia'\n",
    "country_regions.loc[country_regions['country'].str.startswith('Congo (Dem'), 'country'] = 'Congo, Dem. Rep.'\n",
    "country_regions.loc[country_regions['country'] == 'Congo', 'country'] = 'Congo, Rep.'\n",
    "country_regions.loc[country_regions['country'].str.startswith('Czhechia'), 'country'] = 'Czech Republic'\n",
    "country_regions.loc[country_regions['country'].str.startswith('Czechia'), 'country'] = 'Czech Republic'\n",
    "country_regions.loc[country_regions['country'].str.startswith('Iran'), 'country'] = 'Iran'\n",
    "country_regions.loc[country_regions['country'].str.startswith('Kyrgyzstan'), 'country'] = 'Kyrgyz Republic'\n",
    "country_regions.loc[country_regions['country'].str.startswith('Korea (Rep'), 'country'] = 'South Korea'\n",
    "country_regions.loc[country_regions['country'].str.startswith('Korea (Dem'), 'country'] = 'North Korea'\n",
    "country_regions.loc[country_regions['country'].str.startswith('Macedonia'), 'country'] = 'Macedonia, FYR'\n",
    "country_regions.loc[country_regions['country'].str.startswith('Moldova'), 'country'] = 'Moldova'\n",
    "country_regions.loc[country_regions['country'].str.startswith('Slovakia'), 'country'] = 'Slovak Republic'\n",
    "country_regions.loc[country_regions['country'].str.startswith('Russian'), 'country'] = 'Russia'\n",
    "country_regions.loc[country_regions['country'].str.startswith('Palestine'), 'country'] = 'Palestine'\n",
    "country_regions.loc[country_regions['country'].str.startswith('Syria'), 'country'] = 'Syria'\n",
    "country_regions.loc[country_regions['country'].str.startswith('United Kingdom'), 'country'] = 'United Kingdom'\n",
    "country_regions.loc[country_regions['country'].str.startswith('United States'), 'country'] = 'United States'\n",
    "country_regions.loc[country_regions['country'].str.startswith('Venezuela'), 'country'] = 'Venezuela'\n",
    "country_regions.loc[country_regions['country'].str.startswith('Viet Nam'), 'country'] = 'Vietnam'\n",
    "country_regions.loc[country_regions['country'].str.startswith('Tanzania'), 'country'] = 'Tanzania'\n",
    "country_regions.loc[country_regions['country'].str.startswith('Lao'), 'country'] = 'Lao'\n",
    "country_regions.loc[country_regions['country'].str.startswith('Côte '), 'country'] = \"Cote d'Ivoire\"\n",
    "country_regions.loc[country_regions['country'].str.startswith('Eswatini'), 'country'] = 'Swaziland'"
   ]
  },
  {
   "cell_type": "code",
   "execution_count": 51,
   "metadata": {},
   "outputs": [
    {
     "data": {
      "text/html": [
       "<div>\n",
       "<style scoped>\n",
       "    .dataframe tbody tr th:only-of-type {\n",
       "        vertical-align: middle;\n",
       "    }\n",
       "\n",
       "    .dataframe tbody tr th {\n",
       "        vertical-align: top;\n",
       "    }\n",
       "\n",
       "    .dataframe thead th {\n",
       "        text-align: right;\n",
       "    }\n",
       "</style>\n",
       "<table border=\"1\" class=\"dataframe\">\n",
       "  <thead>\n",
       "    <tr style=\"text-align: right;\">\n",
       "      <th></th>\n",
       "      <th>country</th>\n",
       "      <th>alpha-2</th>\n",
       "      <th>alpha-3</th>\n",
       "      <th>country-code</th>\n",
       "      <th>iso_3166-2</th>\n",
       "      <th>region</th>\n",
       "      <th>sub_region</th>\n",
       "      <th>intermediate-region</th>\n",
       "      <th>region-code</th>\n",
       "      <th>sub-region-code</th>\n",
       "      <th>intermediate-region-code</th>\n",
       "    </tr>\n",
       "  </thead>\n",
       "  <tbody>\n",
       "    <tr>\n",
       "      <th>1</th>\n",
       "      <td>Åland Islands</td>\n",
       "      <td>AX</td>\n",
       "      <td>ALA</td>\n",
       "      <td>248</td>\n",
       "      <td>ISO 3166-2:AX</td>\n",
       "      <td>Europe</td>\n",
       "      <td>Northern Europe</td>\n",
       "      <td>NaN</td>\n",
       "      <td>150.0</td>\n",
       "      <td>154.0</td>\n",
       "      <td>NaN</td>\n",
       "    </tr>\n",
       "    <tr>\n",
       "      <th>4</th>\n",
       "      <td>American Samoa</td>\n",
       "      <td>AS</td>\n",
       "      <td>ASM</td>\n",
       "      <td>16</td>\n",
       "      <td>ISO 3166-2:AS</td>\n",
       "      <td>Oceania</td>\n",
       "      <td>Polynesia</td>\n",
       "      <td>NaN</td>\n",
       "      <td>9.0</td>\n",
       "      <td>61.0</td>\n",
       "      <td>NaN</td>\n",
       "    </tr>\n",
       "    <tr>\n",
       "      <th>7</th>\n",
       "      <td>Anguilla</td>\n",
       "      <td>AI</td>\n",
       "      <td>AIA</td>\n",
       "      <td>660</td>\n",
       "      <td>ISO 3166-2:AI</td>\n",
       "      <td>Americas</td>\n",
       "      <td>Latin America and the Caribbean</td>\n",
       "      <td>Caribbean</td>\n",
       "      <td>19.0</td>\n",
       "      <td>419.0</td>\n",
       "      <td>29.0</td>\n",
       "    </tr>\n",
       "    <tr>\n",
       "      <th>8</th>\n",
       "      <td>Antarctica</td>\n",
       "      <td>AQ</td>\n",
       "      <td>ATA</td>\n",
       "      <td>10</td>\n",
       "      <td>ISO 3166-2:AQ</td>\n",
       "      <td>NaN</td>\n",
       "      <td>NaN</td>\n",
       "      <td>NaN</td>\n",
       "      <td>NaN</td>\n",
       "      <td>NaN</td>\n",
       "      <td>NaN</td>\n",
       "    </tr>\n",
       "    <tr>\n",
       "      <th>12</th>\n",
       "      <td>Aruba</td>\n",
       "      <td>AW</td>\n",
       "      <td>ABW</td>\n",
       "      <td>533</td>\n",
       "      <td>ISO 3166-2:AW</td>\n",
       "      <td>Americas</td>\n",
       "      <td>Latin America and the Caribbean</td>\n",
       "      <td>Caribbean</td>\n",
       "      <td>19.0</td>\n",
       "      <td>419.0</td>\n",
       "      <td>29.0</td>\n",
       "    </tr>\n",
       "  </tbody>\n",
       "</table>\n",
       "</div>"
      ],
      "text/plain": [
       "           country alpha-2 alpha-3  country-code     iso_3166-2    region  \\\n",
       "1    Åland Islands      AX     ALA           248  ISO 3166-2:AX    Europe   \n",
       "4   American Samoa      AS     ASM            16  ISO 3166-2:AS   Oceania   \n",
       "7         Anguilla      AI     AIA           660  ISO 3166-2:AI  Americas   \n",
       "8       Antarctica      AQ     ATA            10  ISO 3166-2:AQ       NaN   \n",
       "12           Aruba      AW     ABW           533  ISO 3166-2:AW  Americas   \n",
       "\n",
       "                         sub_region intermediate-region  region-code  \\\n",
       "1                   Northern Europe                 NaN        150.0   \n",
       "4                         Polynesia                 NaN          9.0   \n",
       "7   Latin America and the Caribbean           Caribbean         19.0   \n",
       "8                               NaN                 NaN          NaN   \n",
       "12  Latin America and the Caribbean           Caribbean         19.0   \n",
       "\n",
       "    sub-region-code  intermediate-region-code  \n",
       "1             154.0                       NaN  \n",
       "4              61.0                       NaN  \n",
       "7             419.0                      29.0  \n",
       "8               NaN                       NaN  \n",
       "12            419.0                      29.0  "
      ]
     },
     "execution_count": 51,
     "metadata": {},
     "output_type": "execute_result"
    }
   ],
   "source": [
    "country_regions.loc[~country_regions['country'].isin(pop_melt['country'])].head()"
   ]
  },
  {
   "cell_type": "markdown",
   "metadata": {},
   "source": [
    "## Merge data frames"
   ]
  },
  {
   "cell_type": "code",
   "execution_count": 55,
   "metadata": {},
   "outputs": [
    {
     "name": "stdout",
     "output_type": "stream",
     "text": [
      "<class 'pandas.core.frame.DataFrame'>\n",
      "Int64Index: 11288 entries, 0 to 11287\n",
      "Data columns (total 25 columns):\n",
      "country                            11288 non-null object\n",
      "year                               11288 non-null int64\n",
      "population                         11288 non-null int64\n",
      "region                             11288 non-null object\n",
      "sub_region                         11288 non-null object\n",
      "income_group                       11288 non-null object\n",
      "life_expectancy                    11288 non-null float64\n",
      "income                             11288 non-null int64\n",
      "children_per_woman                 11288 non-null float64\n",
      "child_mortality                    11286 non-null float64\n",
      "pop_density                        11288 non-null float64\n",
      "years_in_school_men                7636 non-null float64\n",
      "education_gender_ratio             7636 non-null float64\n",
      "years_in_school_women              7636 non-null float64\n",
      "bp_men                             4785 non-null float64\n",
      "bp_women                           4785 non-null float64\n",
      "sugar_intake_daily                 7150 non-null float64\n",
      "gov_health_spending_ratio          2608 non-null float64\n",
      "gov_health_spending                2608 non-null float64\n",
      "maternal_deaths_total              1529 non-null float64\n",
      "maternal_mortality_ratio           1529 non-null float64\n",
      "contraceptive_use_percent_women    2144 non-null float64\n",
      "births_by_health_staff             2144 non-null float64\n",
      "malnutrition_children              737 non-null float64\n",
      "underweight_children               311 non-null float64\n",
      "dtypes: float64(18), int64(3), object(4)\n",
      "memory usage: 2.2+ MB\n"
     ]
    }
   ],
   "source": [
    "world_data = pd.merge(pop_melt, country_regions[['country', 'region', 'sub_region']], on='country')\n",
    "world_data = pd.merge(world_data, income_group[['country', 'income_group']], on=['country'])\n",
    "world_data = pd.merge(world_data, life_exp, on=['country', 'year'])\n",
    "world_data = pd.merge(world_data, income, on=['country', 'year'])\n",
    "world_data = pd.merge(world_data, children_born, on=['country', 'year'])\n",
    "world_data = pd.merge(world_data, child_mortality, on=['country', 'year'])\n",
    "world_data = pd.merge(world_data, pop_dens, on=['country', 'year'], how='left')\n",
    "world_data = pd.merge(world_data, education_men, on=['country', 'year'], how='left')\n",
    "world_data = pd.merge(world_data, education_women_men, on=['country', 'year'], how='left')\n",
    "world_data = pd.merge(world_data, education_women, on=['country', 'year'], how='left')\n",
    "world_data = pd.merge(world_data, bp_men, on=['country', 'year'], how='left')\n",
    "world_data = pd.merge(world_data, bp_women, on=['country', 'year'], how='left')\n",
    "world_data = pd.merge(world_data, sugar_intake, on=['country', 'year'], how='left')\n",
    "world_data = pd.merge(world_data, health_budget, on=['country', 'year'], how='left')\n",
    "world_data = pd.merge(world_data, health_spending_pp, on=['country', 'year'], how='left')\n",
    "world_data = pd.merge(world_data, maternal_deaths_total, on=['country', 'year'], how='left')\n",
    "world_data = pd.merge(world_data, maternal_mortality_ratio, on=['country', 'year'], how='left')\n",
    "world_data = pd.merge(world_data, contraceptive_use, on=['country', 'year'], how='left')\n",
    "world_data = pd.merge(world_data, births_skilled, on=['country', 'year'], how='left')\n",
    "world_data = pd.merge(world_data, malnutrition, on=['country', 'year'], how='left')\n",
    "world_data = pd.merge(world_data, underweight, on=['country', 'year'], how='left')\n",
    "world_data.info()"
   ]
  },
  {
   "cell_type": "code",
   "execution_count": 56,
   "metadata": {},
   "outputs": [],
   "source": [
    "world_data.to_csv('../data/processed/final-assignment-gapminder.csv', index=False)"
   ]
  }
 ],
 "metadata": {
  "kernelspec": {
   "display_name": "autoskl",
   "language": "python",
   "name": "autoskl"
  },
  "language_info": {
   "codemirror_mode": {
    "name": "ipython",
    "version": 3
   },
   "file_extension": ".py",
   "mimetype": "text/x-python",
   "name": "python",
   "nbconvert_exporter": "python",
   "pygments_lexer": "ipython3",
   "version": "3.7.3"
  }
 },
 "nbformat": 4,
 "nbformat_minor": 4
}
